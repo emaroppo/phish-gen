{
 "cells": [
  {
   "cell_type": "markdown",
   "metadata": {},
   "source": [
    "# Required Classes"
   ]
  },
  {
   "cell_type": "code",
   "execution_count": 1,
   "metadata": {},
   "outputs": [],
   "source": [
    "import sys\n",
    "\n",
    "# Determine the base directory (e.g., the workspace directory)\n",
    "#base_directory = SET TO BASE DIRECTORY FULL PATH (phish-gen) \n",
    "# Add the base directory to the system path\n",
    "#sys.path.append(base_directory)\n",
    "\n",
    "from offline_finetuning.auto_labelling.SentimentMessageLabeller import SentimentMessageLabeller\n",
    "from inference.MessageGenerator import MessageGenerator\n",
    "from prompt_generation.generate_prompt import generate_prompt\n",
    "from main import generate_message"
   ]
  },
  {
   "cell_type": "markdown",
   "metadata": {},
   "source": [
    "# Inference"
   ]
  },
  {
   "cell_type": "code",
   "execution_count": 2,
   "metadata": {},
   "outputs": [
    {
     "data": {
      "text/plain": [
       "[{'subject': 'Payroll Update',\n",
       "  'attachments': True,\n",
       "  'urls': True,\n",
       "  'sentiment': ['sadness']},\n",
       " {'subject': 'Payroll Update',\n",
       "  'attachments': False,\n",
       "  'urls': True,\n",
       "  'sentiment': ['sadness']},\n",
       " {'subject': 'Payroll Update',\n",
       "  'attachments': True,\n",
       "  'urls': False,\n",
       "  'sentiment': ['sadness']},\n",
       " {'subject': 'Payroll Update',\n",
       "  'attachments': False,\n",
       "  'urls': False,\n",
       "  'sentiment': ['sadness']},\n",
       " {'subject': 'Payroll Update',\n",
       "  'attachments': True,\n",
       "  'urls': True,\n",
       "  'sentiment': ['joy']},\n",
       " {'subject': 'Payroll Update',\n",
       "  'attachments': False,\n",
       "  'urls': True,\n",
       "  'sentiment': ['joy']},\n",
       " {'subject': 'Payroll Update',\n",
       "  'attachments': True,\n",
       "  'urls': False,\n",
       "  'sentiment': ['joy']},\n",
       " {'subject': 'Payroll Update',\n",
       "  'attachments': False,\n",
       "  'urls': False,\n",
       "  'sentiment': ['joy']},\n",
       " {'subject': 'Payroll Update',\n",
       "  'attachments': True,\n",
       "  'urls': True,\n",
       "  'sentiment': ['neutral']},\n",
       " {'subject': 'Payroll Update',\n",
       "  'attachments': False,\n",
       "  'urls': True,\n",
       "  'sentiment': ['neutral']},\n",
       " {'subject': 'Payroll Update',\n",
       "  'attachments': True,\n",
       "  'urls': False,\n",
       "  'sentiment': ['neutral']},\n",
       " {'subject': 'Payroll Update',\n",
       "  'attachments': False,\n",
       "  'urls': False,\n",
       "  'sentiment': ['neutral']},\n",
       " {'subject': 'Payroll Update',\n",
       "  'attachments': True,\n",
       "  'urls': True,\n",
       "  'sentiment': ['anger']},\n",
       " {'subject': 'Payroll Update',\n",
       "  'attachments': False,\n",
       "  'urls': True,\n",
       "  'sentiment': ['anger']},\n",
       " {'subject': 'Payroll Update',\n",
       "  'attachments': True,\n",
       "  'urls': False,\n",
       "  'sentiment': ['anger']},\n",
       " {'subject': 'Payroll Update',\n",
       "  'attachments': False,\n",
       "  'urls': False,\n",
       "  'sentiment': ['anger']},\n",
       " {'subject': 'Payroll Update',\n",
       "  'attachments': True,\n",
       "  'urls': True,\n",
       "  'sentiment': ['fear']},\n",
       " {'subject': 'Payroll Update',\n",
       "  'attachments': False,\n",
       "  'urls': True,\n",
       "  'sentiment': ['fear']},\n",
       " {'subject': 'Payroll Update',\n",
       "  'attachments': True,\n",
       "  'urls': False,\n",
       "  'sentiment': ['fear']},\n",
       " {'subject': 'Payroll Update',\n",
       "  'attachments': False,\n",
       "  'urls': False,\n",
       "  'sentiment': ['fear']},\n",
       " {'subject': 'Payroll Update',\n",
       "  'attachments': True,\n",
       "  'urls': True,\n",
       "  'sentiment': ['surprise']},\n",
       " {'subject': 'Payroll Update',\n",
       "  'attachments': False,\n",
       "  'urls': True,\n",
       "  'sentiment': ['surprise']},\n",
       " {'subject': 'Payroll Update',\n",
       "  'attachments': True,\n",
       "  'urls': False,\n",
       "  'sentiment': ['surprise']},\n",
       " {'subject': 'Payroll Update',\n",
       "  'attachments': False,\n",
       "  'urls': False,\n",
       "  'sentiment': ['surprise']},\n",
       " {'subject': 'Payroll Update',\n",
       "  'attachments': True,\n",
       "  'urls': True,\n",
       "  'sentiment': ['disgust']},\n",
       " {'subject': 'Payroll Update',\n",
       "  'attachments': False,\n",
       "  'urls': True,\n",
       "  'sentiment': ['disgust']},\n",
       " {'subject': 'Payroll Update',\n",
       "  'attachments': True,\n",
       "  'urls': False,\n",
       "  'sentiment': ['disgust']},\n",
       " {'subject': 'Payroll Update',\n",
       "  'attachments': False,\n",
       "  'urls': False,\n",
       "  'sentiment': ['disgust']},\n",
       " {'subject': 'Christmas Office Party',\n",
       "  'attachments': True,\n",
       "  'urls': True,\n",
       "  'sentiment': ['sadness']},\n",
       " {'subject': 'Christmas Office Party',\n",
       "  'attachments': False,\n",
       "  'urls': True,\n",
       "  'sentiment': ['sadness']},\n",
       " {'subject': 'Christmas Office Party',\n",
       "  'attachments': True,\n",
       "  'urls': False,\n",
       "  'sentiment': ['sadness']},\n",
       " {'subject': 'Christmas Office Party',\n",
       "  'attachments': False,\n",
       "  'urls': False,\n",
       "  'sentiment': ['sadness']},\n",
       " {'subject': 'Christmas Office Party',\n",
       "  'attachments': True,\n",
       "  'urls': True,\n",
       "  'sentiment': ['joy']},\n",
       " {'subject': 'Christmas Office Party',\n",
       "  'attachments': False,\n",
       "  'urls': True,\n",
       "  'sentiment': ['joy']},\n",
       " {'subject': 'Christmas Office Party',\n",
       "  'attachments': True,\n",
       "  'urls': False,\n",
       "  'sentiment': ['joy']},\n",
       " {'subject': 'Christmas Office Party',\n",
       "  'attachments': False,\n",
       "  'urls': False,\n",
       "  'sentiment': ['joy']},\n",
       " {'subject': 'Christmas Office Party',\n",
       "  'attachments': True,\n",
       "  'urls': True,\n",
       "  'sentiment': ['neutral']},\n",
       " {'subject': 'Christmas Office Party',\n",
       "  'attachments': False,\n",
       "  'urls': True,\n",
       "  'sentiment': ['neutral']},\n",
       " {'subject': 'Christmas Office Party',\n",
       "  'attachments': True,\n",
       "  'urls': False,\n",
       "  'sentiment': ['neutral']},\n",
       " {'subject': 'Christmas Office Party',\n",
       "  'attachments': False,\n",
       "  'urls': False,\n",
       "  'sentiment': ['neutral']},\n",
       " {'subject': 'Christmas Office Party',\n",
       "  'attachments': True,\n",
       "  'urls': True,\n",
       "  'sentiment': ['anger']},\n",
       " {'subject': 'Christmas Office Party',\n",
       "  'attachments': False,\n",
       "  'urls': True,\n",
       "  'sentiment': ['anger']},\n",
       " {'subject': 'Christmas Office Party',\n",
       "  'attachments': True,\n",
       "  'urls': False,\n",
       "  'sentiment': ['anger']},\n",
       " {'subject': 'Christmas Office Party',\n",
       "  'attachments': False,\n",
       "  'urls': False,\n",
       "  'sentiment': ['anger']},\n",
       " {'subject': 'Christmas Office Party',\n",
       "  'attachments': True,\n",
       "  'urls': True,\n",
       "  'sentiment': ['fear']},\n",
       " {'subject': 'Christmas Office Party',\n",
       "  'attachments': False,\n",
       "  'urls': True,\n",
       "  'sentiment': ['fear']},\n",
       " {'subject': 'Christmas Office Party',\n",
       "  'attachments': True,\n",
       "  'urls': False,\n",
       "  'sentiment': ['fear']},\n",
       " {'subject': 'Christmas Office Party',\n",
       "  'attachments': False,\n",
       "  'urls': False,\n",
       "  'sentiment': ['fear']},\n",
       " {'subject': 'Christmas Office Party',\n",
       "  'attachments': True,\n",
       "  'urls': True,\n",
       "  'sentiment': ['surprise']},\n",
       " {'subject': 'Christmas Office Party',\n",
       "  'attachments': False,\n",
       "  'urls': True,\n",
       "  'sentiment': ['surprise']},\n",
       " {'subject': 'Christmas Office Party',\n",
       "  'attachments': True,\n",
       "  'urls': False,\n",
       "  'sentiment': ['surprise']},\n",
       " {'subject': 'Christmas Office Party',\n",
       "  'attachments': False,\n",
       "  'urls': False,\n",
       "  'sentiment': ['surprise']},\n",
       " {'subject': 'Christmas Office Party',\n",
       "  'attachments': True,\n",
       "  'urls': True,\n",
       "  'sentiment': ['disgust']},\n",
       " {'subject': 'Christmas Office Party',\n",
       "  'attachments': False,\n",
       "  'urls': True,\n",
       "  'sentiment': ['disgust']},\n",
       " {'subject': 'Christmas Office Party',\n",
       "  'attachments': True,\n",
       "  'urls': False,\n",
       "  'sentiment': ['disgust']},\n",
       " {'subject': 'Christmas Office Party',\n",
       "  'attachments': False,\n",
       "  'urls': False,\n",
       "  'sentiment': ['disgust']},\n",
       " {'subject': 'Outstanding Invoice',\n",
       "  'attachments': True,\n",
       "  'urls': True,\n",
       "  'sentiment': ['sadness']},\n",
       " {'subject': 'Outstanding Invoice',\n",
       "  'attachments': False,\n",
       "  'urls': True,\n",
       "  'sentiment': ['sadness']},\n",
       " {'subject': 'Outstanding Invoice',\n",
       "  'attachments': True,\n",
       "  'urls': False,\n",
       "  'sentiment': ['sadness']},\n",
       " {'subject': 'Outstanding Invoice',\n",
       "  'attachments': False,\n",
       "  'urls': False,\n",
       "  'sentiment': ['sadness']},\n",
       " {'subject': 'Outstanding Invoice',\n",
       "  'attachments': True,\n",
       "  'urls': True,\n",
       "  'sentiment': ['joy']},\n",
       " {'subject': 'Outstanding Invoice',\n",
       "  'attachments': False,\n",
       "  'urls': True,\n",
       "  'sentiment': ['joy']},\n",
       " {'subject': 'Outstanding Invoice',\n",
       "  'attachments': True,\n",
       "  'urls': False,\n",
       "  'sentiment': ['joy']},\n",
       " {'subject': 'Outstanding Invoice',\n",
       "  'attachments': False,\n",
       "  'urls': False,\n",
       "  'sentiment': ['joy']},\n",
       " {'subject': 'Outstanding Invoice',\n",
       "  'attachments': True,\n",
       "  'urls': True,\n",
       "  'sentiment': ['neutral']},\n",
       " {'subject': 'Outstanding Invoice',\n",
       "  'attachments': False,\n",
       "  'urls': True,\n",
       "  'sentiment': ['neutral']},\n",
       " {'subject': 'Outstanding Invoice',\n",
       "  'attachments': True,\n",
       "  'urls': False,\n",
       "  'sentiment': ['neutral']},\n",
       " {'subject': 'Outstanding Invoice',\n",
       "  'attachments': False,\n",
       "  'urls': False,\n",
       "  'sentiment': ['neutral']},\n",
       " {'subject': 'Outstanding Invoice',\n",
       "  'attachments': True,\n",
       "  'urls': True,\n",
       "  'sentiment': ['anger']},\n",
       " {'subject': 'Outstanding Invoice',\n",
       "  'attachments': False,\n",
       "  'urls': True,\n",
       "  'sentiment': ['anger']},\n",
       " {'subject': 'Outstanding Invoice',\n",
       "  'attachments': True,\n",
       "  'urls': False,\n",
       "  'sentiment': ['anger']},\n",
       " {'subject': 'Outstanding Invoice',\n",
       "  'attachments': False,\n",
       "  'urls': False,\n",
       "  'sentiment': ['anger']},\n",
       " {'subject': 'Outstanding Invoice',\n",
       "  'attachments': True,\n",
       "  'urls': True,\n",
       "  'sentiment': ['fear']},\n",
       " {'subject': 'Outstanding Invoice',\n",
       "  'attachments': False,\n",
       "  'urls': True,\n",
       "  'sentiment': ['fear']},\n",
       " {'subject': 'Outstanding Invoice',\n",
       "  'attachments': True,\n",
       "  'urls': False,\n",
       "  'sentiment': ['fear']},\n",
       " {'subject': 'Outstanding Invoice',\n",
       "  'attachments': False,\n",
       "  'urls': False,\n",
       "  'sentiment': ['fear']},\n",
       " {'subject': 'Outstanding Invoice',\n",
       "  'attachments': True,\n",
       "  'urls': True,\n",
       "  'sentiment': ['surprise']},\n",
       " {'subject': 'Outstanding Invoice',\n",
       "  'attachments': False,\n",
       "  'urls': True,\n",
       "  'sentiment': ['surprise']},\n",
       " {'subject': 'Outstanding Invoice',\n",
       "  'attachments': True,\n",
       "  'urls': False,\n",
       "  'sentiment': ['surprise']},\n",
       " {'subject': 'Outstanding Invoice',\n",
       "  'attachments': False,\n",
       "  'urls': False,\n",
       "  'sentiment': ['surprise']},\n",
       " {'subject': 'Outstanding Invoice',\n",
       "  'attachments': True,\n",
       "  'urls': True,\n",
       "  'sentiment': ['disgust']},\n",
       " {'subject': 'Outstanding Invoice',\n",
       "  'attachments': False,\n",
       "  'urls': True,\n",
       "  'sentiment': ['disgust']},\n",
       " {'subject': 'Outstanding Invoice',\n",
       "  'attachments': True,\n",
       "  'urls': False,\n",
       "  'sentiment': ['disgust']},\n",
       " {'subject': 'Outstanding Invoice',\n",
       "  'attachments': False,\n",
       "  'urls': False,\n",
       "  'sentiment': ['disgust']}]"
      ]
     },
     "execution_count": 2,
     "metadata": {},
     "output_type": "execute_result"
    }
   ],
   "source": [
    "#sample prompts\n",
    "subjects = [\"Payroll Update\",\n",
    "            \"Christmas Office Party\",\n",
    "            \"Outstanding Invoice\",]\n",
    "\n",
    "#sentiment\n",
    "\n",
    "sentiments = [\"sadness\", \"joy\", \"neutral\", \"anger\", \"fear\", \"surprise\", \"disgust\"]\n",
    "\n",
    "sample_args = list()\n",
    "for subject in subjects:\n",
    "    for sentiment in sentiments:\n",
    "        for url in [True, False]:\n",
    "            for attachment in [True, False]:\n",
    "                sample_arg = {\n",
    "                    \"subject\": subject,\n",
    "                    \"attachments\": attachment,\n",
    "                    \"urls\": url,\n",
    "                    \"sentiment\": [sentiment],\n",
    "                }\n",
    "                sample_args.append(sample_arg)\n",
    "\n",
    "sample_args"
   ]
  },
  {
   "cell_type": "code",
   "execution_count": 3,
   "metadata": {},
   "outputs": [
    {
     "name": "stderr",
     "output_type": "stream",
     "text": [
      "  0%|          | 0/84 [00:00<?, ?it/s]Unused kwargs: ['selective_precision']. These kwargs are not used in <class 'transformers.utils.quantization_config.BitsAndBytesConfig'>.\n",
      "`low_cpu_mem_usage` was None, now set to True since model is quantized.\n",
      "Gemma's activation function should be approximate GeLU and not exact GeLU.\n",
      "Changing the activation function to `gelu_pytorch_tanh`.if you want to use the legacy `gelu`, edit the `model.config` to set `hidden_activation=gelu`   instead of `hidden_act`. See https://github.com/huggingface/transformers/pull/29402 for more details.\n"
     ]
    },
    {
     "data": {
      "application/vnd.jupyter.widget-view+json": {
       "model_id": "53b3f33f55e04beab3c943523c81b797",
       "version_major": 2,
       "version_minor": 0
      },
      "text/plain": [
       "Loading checkpoint shards:   0%|          | 0/2 [00:00<?, ?it/s]"
      ]
     },
     "metadata": {},
     "output_type": "display_data"
    },
    {
     "name": "stdout",
     "output_type": "stream",
     "text": [
      "subject: Payroll Update\n",
      "urls: True\n",
      "attachments: True\n",
      "sentiment: sadness\n",
      "->\n",
      "body: We are now aware of the situation surrounding the employee who was involved in a traffic accident.  We have been in contact with the employee and his family and he is currently at home recovering.  We will continue to monitor the situation and will provide you with an update as we receive one.  Please be assured that we are doing everything we can to assist in this matter.\n",
      "\n",
      " \n",
      "\n",
      " \n",
      "\n",
      " \n",
      "\n",
      " \n",
      "\n",
      " \n",
      "\n",
      " \n",
      "\n",
      " \n",
      "\n",
      " \n",
      "\n",
      " \n",
      "\n",
      " \n",
      "\n",
      " \n",
      "\n",
      " \n",
      "\n",
      " \n",
      "\n",
      " \n",
      "\n",
      " \n",
      "\n",
      " \n",
      "\n",
      " \n",
      "\n",
      " \n",
      "\n",
      " \n",
      "\n",
      " \n",
      "\n",
      " \n",
      "\n",
      " \n",
      "\n",
      " \n",
      "\n",
      " \n",
      "\n",
      " \n",
      "\n",
      " \n",
      "\n",
      " \n",
      "\n",
      " \n",
      "\n",
      " \n",
      "\n",
      " \n",
      "\n",
      " \n",
      "\n",
      " \n",
      "\n",
      " \n",
      "\n",
      " \n",
      "\n",
      " \n",
      "\n",
      " \n",
      "\n",
      " \n",
      "\n",
      " \n",
      "\n",
      " \n",
      "\n",
      " \n",
      "\n",
      " \n",
      "\n",
      " \n",
      "\n",
      " \n",
      "\n",
      " \n",
      "\n",
      " \n",
      "\n",
      " \n",
      "\n",
      " \n",
      "\n",
      "\n",
      "\n"
     ]
    },
    {
     "name": "stderr",
     "output_type": "stream",
     "text": [
      "  1%|          | 1/84 [00:10<15:02, 10.87s/it]Unused kwargs: ['selective_precision']. These kwargs are not used in <class 'transformers.utils.quantization_config.BitsAndBytesConfig'>.\n",
      "`low_cpu_mem_usage` was None, now set to True since model is quantized.\n"
     ]
    },
    {
     "data": {
      "application/vnd.jupyter.widget-view+json": {
       "model_id": "dad59e8b8ea44ad9bf2706e3d0278e45",
       "version_major": 2,
       "version_minor": 0
      },
      "text/plain": [
       "Loading checkpoint shards:   0%|          | 0/2 [00:00<?, ?it/s]"
      ]
     },
     "metadata": {},
     "output_type": "display_data"
    },
    {
     "name": "stderr",
     "output_type": "stream",
     "text": [
      "  2%|▏         | 2/84 [00:20<13:40, 10.01s/it]"
     ]
    },
    {
     "name": "stdout",
     "output_type": "stream",
     "text": [
      "subject: Payroll Update\n",
      "urls: True\n",
      "sentiment: sadness\n",
      "->\n",
      "body: We are in the process of updating our payroll system.  We have found that the current system is not able to handle the volume of payroll transactions that we are currently handling.  The new system will be implemented on Monday, <DATE>.  You will need to log into the new system with your Enron ID and password.  Once you are logged into the new system, you will be able to see your payroll information.  We are working to get all of your information into the new system as quickly as possible.  If you have any questions, please call the Resolution Center at <PHONE>.  Thank you for your patience.\n",
      "\n",
      "To access the new system, go to <URL> and enter your Enron ID and password.  When prompted for a user name, select USER and then select OK.  Once you are logged into the system, you will\n",
      "\n"
     ]
    },
    {
     "name": "stderr",
     "output_type": "stream",
     "text": [
      "Unused kwargs: ['selective_precision']. These kwargs are not used in <class 'transformers.utils.quantization_config.BitsAndBytesConfig'>.\n",
      "`low_cpu_mem_usage` was None, now set to True since model is quantized.\n"
     ]
    },
    {
     "data": {
      "application/vnd.jupyter.widget-view+json": {
       "model_id": "1d0775470aa34c4b979b569c742c110d",
       "version_major": 2,
       "version_minor": 0
      },
      "text/plain": [
       "Loading checkpoint shards:   0%|          | 0/2 [00:00<?, ?it/s]"
      ]
     },
     "metadata": {},
     "output_type": "display_data"
    },
    {
     "name": "stderr",
     "output_type": "stream",
     "text": [
      "  4%|▎         | 3/84 [00:31<14:10, 10.50s/it]"
     ]
    },
    {
     "name": "stdout",
     "output_type": "stream",
     "text": [
      "subject: Payroll Update\n",
      "attachments: True\n",
      "sentiment: sadness\n",
      "->\n",
      "body: Payroll Update:\n",
      "\n",
      "The Payroll Department has confirmed that all paychecks for the week of <DATE> have been issued.  Checks will be mailed on Monday, <DATE>.  If you have any questions, please call the Payroll Department at <PHONE>.\n",
      "\n",
      "Thank you for your cooperation.\n",
      "\n",
      "Payroll Department\n",
      "Enron North America\n",
      "1400 Smith Street, EB3821\n",
      "Houston, Texas 77002\n",
      "\n",
      " <ATTACHMENT> \n",
      " \n",
      " <ATTACHMENT> \n",
      " \n",
      " <ATTACHMENT> \n",
      " \n",
      " \n",
      " <ATTACHMENT> \n",
      " \n",
      " <ATTACHMENT> \n",
      " \n",
      " <ATTACHMENT> \n",
      " \n",
      " <ATTACHMENT> \n",
      " \n",
      " <ATTACHMENT> \n",
      " \n",
      " <ATTACHMENT> \n",
      " \n",
      " <ATTACHMENT> \n",
      " \n",
      " <ATTACHMENT> \n",
      " \n",
      " <ATTACHMENT> \n",
      " \n",
      " <ATTACHMENT> \n",
      " \n",
      " <ATTACHMENT> \n",
      " \n",
      "\n"
     ]
    },
    {
     "name": "stderr",
     "output_type": "stream",
     "text": [
      "Unused kwargs: ['selective_precision']. These kwargs are not used in <class 'transformers.utils.quantization_config.BitsAndBytesConfig'>.\n",
      "`low_cpu_mem_usage` was None, now set to True since model is quantized.\n"
     ]
    },
    {
     "data": {
      "application/vnd.jupyter.widget-view+json": {
       "model_id": "22a11abc23994402b8c25812f016ab7b",
       "version_major": 2,
       "version_minor": 0
      },
      "text/plain": [
       "Loading checkpoint shards:   0%|          | 0/2 [00:00<?, ?it/s]"
      ]
     },
     "metadata": {},
     "output_type": "display_data"
    },
    {
     "name": "stderr",
     "output_type": "stream",
     "text": [
      "  5%|▍         | 4/84 [00:41<13:38, 10.24s/it]"
     ]
    },
    {
     "name": "stdout",
     "output_type": "stream",
     "text": [
      "subject: Payroll Update\n",
      "sentiment: sadness\n",
      "->\n",
      "body: Hi All,\n",
      "\n",
      "The payroll for the week ending <DATE> has been posted to the\n",
      "company's payroll system.  If you have any questions, please let me know.\n",
      "\n",
      "Thanks,\n",
      "\n",
      "Jeff\n",
      "\n",
      "Jeff C. Thompson\n",
      "Manager, Enron Global Finance\n",
      "Phone: <PHONE>\n",
      "Cell: <PHONE>\n",
      "Fax: <PHONE>\n",
      "Email: jeff.thompson@enron.com <mailto:jeff.thompson@enron.com>\n",
      "\n",
      " <ATTACHMENT> \n",
      " <ATTACHMENT> \n",
      " <ATTACHMENT> \n",
      " <ATTACHMENT> \n",
      " <ATTACHMENT> \n",
      " <ATTACHMENT> \n",
      " <ATTACHMENT> \n",
      " <ATTACHMENT> \n",
      " <ATTACHMENT> \n",
      " <ATTACHMENT> \n",
      " <ATTACHMENT> \n",
      " <ATTACHMENT> \n",
      " <ATTACHMENT> \n",
      " <ATTACHMENT> \n",
      " <ATTACHMENT> \n",
      " <ATTACHMENT> \n",
      " <ATTACHMENT> \n",
      " <ATTACHMENT> \n",
      " <ATTACHMENT> \n",
      " <ATTACHMENT> \n",
      " <ATTACHMENT> \n",
      "\n",
      "\n"
     ]
    },
    {
     "name": "stderr",
     "output_type": "stream",
     "text": [
      "Unused kwargs: ['selective_precision']. These kwargs are not used in <class 'transformers.utils.quantization_config.BitsAndBytesConfig'>.\n",
      "`low_cpu_mem_usage` was None, now set to True since model is quantized.\n"
     ]
    },
    {
     "data": {
      "application/vnd.jupyter.widget-view+json": {
       "model_id": "9d8658d9a22c4afb8aed7f4c52f8a88f",
       "version_major": 2,
       "version_minor": 0
      },
      "text/plain": [
       "Loading checkpoint shards:   0%|          | 0/2 [00:00<?, ?it/s]"
      ]
     },
     "metadata": {},
     "output_type": "display_data"
    },
    {
     "name": "stderr",
     "output_type": "stream",
     "text": [
      "  6%|▌         | 5/84 [00:50<13:04,  9.92s/it]"
     ]
    },
    {
     "name": "stdout",
     "output_type": "stream",
     "text": [
      "subject: Payroll Update\n",
      "urls: True\n",
      "attachments: True\n",
      "sentiment: joy\n",
      "->\n",
      "body: Dear All,\n",
      "\n",
      "Payroll will be processed on Friday, <DATE>.  Please make sure you have your payroll information entered in the system by Thursday, <DATE>.  This is the last payroll for the 2001 year.  If you have any questions, please call me at <PHONE>.\n",
      "\n",
      "Regards,\n",
      "Monica\n",
      "Payroll Manager\n",
      "Enron Net Works LLC\n",
      "Phone: <PHONE>\n",
      "Fax: <PHONE>\n",
      "Email: Monica.M.Garcia@enron.com\n",
      " \n",
      " \n",
      " \n",
      " \n",
      " \n",
      " \n",
      " \n",
      " \n",
      " \n",
      " \n",
      " \n",
      " \n",
      " \n",
      " \n",
      " \n",
      " \n",
      " \n",
      " \n",
      " \n",
      " \n",
      " \n",
      " \n",
      " \n",
      " \n",
      " \n",
      " \n",
      " \n",
      " \n",
      " \n",
      " \n",
      " \n",
      " \n",
      " \n",
      " \n",
      " \n",
      "\n",
      "\n"
     ]
    },
    {
     "name": "stderr",
     "output_type": "stream",
     "text": [
      "Unused kwargs: ['selective_precision']. These kwargs are not used in <class 'transformers.utils.quantization_config.BitsAndBytesConfig'>.\n",
      "`low_cpu_mem_usage` was None, now set to True since model is quantized.\n"
     ]
    },
    {
     "data": {
      "application/vnd.jupyter.widget-view+json": {
       "model_id": "18a12fe6a10b4803b1680fefe6dc86a2",
       "version_major": 2,
       "version_minor": 0
      },
      "text/plain": [
       "Loading checkpoint shards:   0%|          | 0/2 [00:00<?, ?it/s]"
      ]
     },
     "metadata": {},
     "output_type": "display_data"
    },
    {
     "name": "stderr",
     "output_type": "stream",
     "text": [
      "  7%|▋         | 6/84 [01:00<13:07, 10.10s/it]"
     ]
    },
    {
     "name": "stdout",
     "output_type": "stream",
     "text": [
      "subject: Payroll Update\n",
      "urls: True\n",
      "sentiment: joy\n",
      "->\n",
      "body: Here is the payroll update for the week of <DATE>.\n",
      "\n",
      " \n",
      "\n",
      "1.  New hires\n",
      "2.  Terminations\n",
      "3.  Retirements\n",
      "4.  New hours\n",
      "5.  New employees\n",
      "6.  Terminations\n",
      "7.  Retirements\n",
      "8.  New hours\n",
      "9.  New employees\n",
      "10. Terminations\n",
      "11. Retirements\n",
      "12. New hours\n",
      "13. New employees\n",
      "14. Terminations\n",
      "15. Retirements\n",
      "16. New hours\n",
      "17. New employees\n",
      "18. Terminations\n",
      "19. Retirements\n",
      "20. New hours\n",
      "21. New employees\n",
      "22. Terminations\n",
      "23. Retirements\n",
      "24. New hours\n",
      "25. New employees\n",
      "26. Terminations\n",
      "2\n",
      "\n"
     ]
    },
    {
     "name": "stderr",
     "output_type": "stream",
     "text": [
      "Unused kwargs: ['selective_precision']. These kwargs are not used in <class 'transformers.utils.quantization_config.BitsAndBytesConfig'>.\n",
      "`low_cpu_mem_usage` was None, now set to True since model is quantized.\n"
     ]
    },
    {
     "data": {
      "application/vnd.jupyter.widget-view+json": {
       "model_id": "e8537f38b134453aacc1210dea0c09a5",
       "version_major": 2,
       "version_minor": 0
      },
      "text/plain": [
       "Loading checkpoint shards:   0%|          | 0/2 [00:00<?, ?it/s]"
      ]
     },
     "metadata": {},
     "output_type": "display_data"
    },
    {
     "name": "stderr",
     "output_type": "stream",
     "text": [
      "  8%|▊         | 7/84 [01:10<12:38,  9.86s/it]"
     ]
    },
    {
     "name": "stdout",
     "output_type": "stream",
     "text": [
      "subject: Payroll Update\n",
      "attachments: True\n",
      "sentiment: joy\n",
      "->\n",
      "body: Dear All,\n",
      "\n",
      "Attached is the payroll update for the week of <DATE>.  Please\n",
      "let me know if you have any questions.\n",
      "\n",
      "Best,\n",
      "John\n",
      "\n",
      " <ATTACHMENT>\n",
      "\n",
      "John C. Moore\n",
      "Enron North America\n",
      "1400 Smith Street, EB3801\n",
      "Houston, Texas 77002\n",
      "Phone:  <PHONE>\n",
      "Fax:  <PHONE>\n",
      "Email:  john.moore@enron.com\n",
      " <ATTACHMENT> \n",
      " <ATTACHMENT> \n",
      " <ATTACHMENT> \n",
      " <ATTACHMENT> \n",
      " <ATTACHMENT> \n",
      " <ATTACHMENT> \n",
      " <ATTACHMENT> \n",
      " <ATTACHMENT> \n",
      " <ATTACHMENT> \n",
      " <ATTACHMENT> \n",
      " <ATTACHMENT> \n",
      " <ATTACHMENT> \n",
      " <ATTACHMENT> \n",
      " <ATTACHMENT> \n",
      " <ATTACHMENT> \n",
      " <ATTACHMENT> \n",
      " <ATTACHMENT> \n",
      " <ATTACHMENT> \n",
      " <ATTACHMENT> \n",
      " <ATTACHMENT> \n",
      " \n",
      "\n"
     ]
    },
    {
     "name": "stderr",
     "output_type": "stream",
     "text": [
      "Unused kwargs: ['selective_precision']. These kwargs are not used in <class 'transformers.utils.quantization_config.BitsAndBytesConfig'>.\n",
      "`low_cpu_mem_usage` was None, now set to True since model is quantized.\n"
     ]
    },
    {
     "data": {
      "application/vnd.jupyter.widget-view+json": {
       "model_id": "36177c34b2874f84863de0901d6ff28c",
       "version_major": 2,
       "version_minor": 0
      },
      "text/plain": [
       "Loading checkpoint shards:   0%|          | 0/2 [00:00<?, ?it/s]"
      ]
     },
     "metadata": {},
     "output_type": "display_data"
    },
    {
     "name": "stderr",
     "output_type": "stream",
     "text": [
      " 10%|▉         | 8/84 [01:20<12:25,  9.81s/it]"
     ]
    },
    {
     "name": "stdout",
     "output_type": "stream",
     "text": [
      "subject: Payroll Update\n",
      "sentiment: joy\n",
      "->\n",
      "body: Payroll is now in the process of being converted to the new payroll system.  We are currently in the process of updating all payroll related documents including payroll checks, direct deposit forms, and direct deposit authorization forms.  \n",
      "\n",
      "We will continue to update you as we move through the conversion process.  If you have any questions, please call the Global Payroll Services Help Desk at <PHONE>.\n",
      "\n",
      "Thank you for your patience during this transition period.\n",
      "\n",
      "Payroll Services\n",
      "\n",
      " \n",
      "\n",
      "************************************************************************************************************************************************************************************************************************************************************************************************************************************************************************************************************************************************************************************************************************************************************************************************************************************************************************************************************************************************************************************************************************************************************************************************************************************************************************************************************************************************************************************************************************************************************************************************************************************************************************************************************************************************************************************************\n",
      "\n"
     ]
    },
    {
     "name": "stderr",
     "output_type": "stream",
     "text": [
      "Unused kwargs: ['selective_precision']. These kwargs are not used in <class 'transformers.utils.quantization_config.BitsAndBytesConfig'>.\n",
      "`low_cpu_mem_usage` was None, now set to True since model is quantized.\n"
     ]
    },
    {
     "data": {
      "application/vnd.jupyter.widget-view+json": {
       "model_id": "60a3feb551a640e48bbcce5e7414650f",
       "version_major": 2,
       "version_minor": 0
      },
      "text/plain": [
       "Loading checkpoint shards:   0%|          | 0/2 [00:00<?, ?it/s]"
      ]
     },
     "metadata": {},
     "output_type": "display_data"
    },
    {
     "name": "stderr",
     "output_type": "stream",
     "text": [
      " 11%|█         | 9/84 [01:30<12:24,  9.93s/it]"
     ]
    },
    {
     "name": "stdout",
     "output_type": "stream",
     "text": [
      "subject: Payroll Update\n",
      "urls: True\n",
      "attachments: True\n",
      "sentiment: neutral\n",
      "->\n",
      "body: Dear Employee,\n",
      "\n",
      "This is your Payroll Update.\n",
      "\n",
      "Your Gross Pay for the week ending <DATE> is $16,872.75.\n",
      "\n",
      "You will receive $16,872.75 in pay on Friday, <DATE>.\n",
      "\n",
      "You will receive $1,744.72 in vacation pay on Friday, <DATE>.\n",
      "\n",
      "You will receive $1,744.72 in holiday pay on Friday, <DATE>.\n",
      "\n",
      "Your Net Pay for the week ending <DATE> is $15,128.03.\n",
      "\n",
      "Your deductions for the week ending <DATE> are as follows:\n",
      "\n",
      "FICA Tax 1.46%\n",
      "Medicare Tax 1.46%\n",
      "Health Insurance 2.75%\n",
      "Dental Insurance 0.75%\n",
      "\n"
     ]
    },
    {
     "name": "stderr",
     "output_type": "stream",
     "text": [
      "Unused kwargs: ['selective_precision']. These kwargs are not used in <class 'transformers.utils.quantization_config.BitsAndBytesConfig'>.\n",
      "`low_cpu_mem_usage` was None, now set to True since model is quantized.\n"
     ]
    },
    {
     "data": {
      "application/vnd.jupyter.widget-view+json": {
       "model_id": "12c731fba5164d9990a20f5d9ebce0a1",
       "version_major": 2,
       "version_minor": 0
      },
      "text/plain": [
       "Loading checkpoint shards:   0%|          | 0/2 [00:00<?, ?it/s]"
      ]
     },
     "metadata": {},
     "output_type": "display_data"
    },
    {
     "name": "stderr",
     "output_type": "stream",
     "text": [
      " 12%|█▏        | 10/84 [01:40<12:12,  9.89s/it]"
     ]
    },
    {
     "name": "stdout",
     "output_type": "stream",
     "text": [
      "subject: Payroll Update\n",
      "urls: True\n",
      "sentiment: neutral\n",
      "->\n",
      "body: Dear Employees:\n",
      "\n",
      "The following information is provided for your payroll update.\n",
      "\n",
      "Employees on the following schedules will be paid on Friday, <DATE>:\n",
      "\n",
      "No Weekend Schedules:\n",
      "No Weekend Schedules\n",
      "\n",
      "Employees on the following schedules will be paid on Monday, <DATE>:\n",
      "1.  Employees on the following schedules will be paid on Wednesday, <DATE>:\n",
      "2.  Employees on the following schedules will be paid on Friday, <DATE>:\n",
      "3.  Employees on the following schedules will be paid on Monday, <DATE>:\n",
      "4.  Employees on the following schedules will be paid on Wednesday, <DATE>:\n",
      "\n",
      "Employees on the following schedules will be paid on Friday, <DATE>:\n",
      "5.  Employees on the following schedules will be paid on Monday, <DATE>:\n",
      "6.  Employees on the following schedules will be paid on Wednesday, \n",
      "\n"
     ]
    },
    {
     "name": "stderr",
     "output_type": "stream",
     "text": [
      "Unused kwargs: ['selective_precision']. These kwargs are not used in <class 'transformers.utils.quantization_config.BitsAndBytesConfig'>.\n",
      "`low_cpu_mem_usage` was None, now set to True since model is quantized.\n"
     ]
    },
    {
     "data": {
      "application/vnd.jupyter.widget-view+json": {
       "model_id": "debf4c22a8474f4ca12e2f2d04d349b8",
       "version_major": 2,
       "version_minor": 0
      },
      "text/plain": [
       "Loading checkpoint shards:   0%|          | 0/2 [00:00<?, ?it/s]"
      ]
     },
     "metadata": {},
     "output_type": "display_data"
    },
    {
     "name": "stderr",
     "output_type": "stream",
     "text": [
      "You seem to be using the pipelines sequentially on GPU. In order to maximize efficiency please use a dataset\n",
      " 13%|█▎        | 11/84 [01:49<11:52,  9.76s/it]"
     ]
    },
    {
     "name": "stdout",
     "output_type": "stream",
     "text": [
      "subject: Payroll Update\n",
      "attachments: True\n",
      "sentiment: neutral\n",
      "->\n",
      "body: Payroll Update <DATE>\n",
      "\n",
      "This notice is provided to help you understand the impact of the payroll changes\n",
      "that will take effect on this date.\n",
      "\n",
      "Effective <DATE>, Enron will no longer be able to accept payroll checks for\n",
      "employees who are not in the United States.  In order to continue to pay employees\n",
      "in the U.S., Enron will issue payroll checks for those employees who are in the\n",
      "U.S.  Checks will be issued on a 15-day cycle, beginning on the 15th of each month.\n",
      "Enron will continue to pay all U.S. employees via direct deposit to their\n",
      "banked accounts.  Checks will be issued to employees who are in the U.S. for the\n",
      "first time on a 15-day cycle beginning on the 15th of each month\n",
      "\n"
     ]
    },
    {
     "name": "stderr",
     "output_type": "stream",
     "text": [
      "Unused kwargs: ['selective_precision']. These kwargs are not used in <class 'transformers.utils.quantization_config.BitsAndBytesConfig'>.\n",
      "`low_cpu_mem_usage` was None, now set to True since model is quantized.\n"
     ]
    },
    {
     "data": {
      "application/vnd.jupyter.widget-view+json": {
       "model_id": "cc4b0e77b30747be9565f70c46154d5f",
       "version_major": 2,
       "version_minor": 0
      },
      "text/plain": [
       "Loading checkpoint shards:   0%|          | 0/2 [00:00<?, ?it/s]"
      ]
     },
     "metadata": {},
     "output_type": "display_data"
    },
    {
     "name": "stderr",
     "output_type": "stream",
     "text": [
      " 14%|█▍        | 12/84 [02:00<12:02, 10.04s/it]"
     ]
    },
    {
     "name": "stdout",
     "output_type": "stream",
     "text": [
      "subject: Payroll Update\n",
      "sentiment: neutral\n",
      "->\n",
      "body: We are currently in the process of updating payroll.  The following changes will be implemented effective <DATE>.\n",
      "\n",
      "Pay Date:  All pay dates will be moved up one day.\n",
      "\n",
      "Pay Period:  We are changing the pay period to be the 2nd and 3rd of each month.\n",
      "\n",
      "Pay Type:  We are changing the pay type to be \"Payroll\" instead of \"Payroll 2\".\n",
      "\n",
      "Pay Rate:  The pay rate will be increased to $22.00.\n",
      "\n",
      "Employee Information:  We are moving all employee information to be on the second page of the paycheck stub.  This will eliminate the need for the employee to sign the paycheck stub.\n",
      "\n",
      "If you have any questions, please call me at <PHONE>.\n",
      "\n",
      "Thanks,\n",
      "\n",
      "Kevin\n",
      "HR Specialist\n",
      "Enron North America\n",
      "<PHONE>\n",
      "kevin.davis@enron.com\n",
      "\n"
     ]
    },
    {
     "name": "stderr",
     "output_type": "stream",
     "text": [
      "Unused kwargs: ['selective_precision']. These kwargs are not used in <class 'transformers.utils.quantization_config.BitsAndBytesConfig'>.\n",
      "`low_cpu_mem_usage` was None, now set to True since model is quantized.\n"
     ]
    },
    {
     "data": {
      "application/vnd.jupyter.widget-view+json": {
       "model_id": "e6053b95847d46daa78ad05516359628",
       "version_major": 2,
       "version_minor": 0
      },
      "text/plain": [
       "Loading checkpoint shards:   0%|          | 0/2 [00:00<?, ?it/s]"
      ]
     },
     "metadata": {},
     "output_type": "display_data"
    },
    {
     "name": "stderr",
     "output_type": "stream",
     "text": [
      " 15%|█▌        | 13/84 [02:09<11:38,  9.83s/it]"
     ]
    },
    {
     "name": "stdout",
     "output_type": "stream",
     "text": [
      "subject: Payroll Update\n",
      "urls: True\n",
      "attachments: True\n",
      "sentiment: anger\n",
      "->\n",
      "body: Payroll Update:\n",
      "\n",
      "This week we have a number of special paychecks to be processed.  We have a few special paychecks to be processed.  We have a few special paychecks to be processed.  We have a few special paychecks to be processed.  We have a few special paychecks to be processed.  We have a few special paychecks to be processed.  We have a few special paychecks to be processed.  We have a few special paychecks to be processed.  We have a few special paychecks to be processed.  We have a few special paychecks to be processed.  We have a few special paychecks to be processed.  We have a few special paychecks to be processed.  We have a few special paychecks to be processed.  We have a few special paychecks\n",
      "\n"
     ]
    },
    {
     "name": "stderr",
     "output_type": "stream",
     "text": [
      "Unused kwargs: ['selective_precision']. These kwargs are not used in <class 'transformers.utils.quantization_config.BitsAndBytesConfig'>.\n",
      "`low_cpu_mem_usage` was None, now set to True since model is quantized.\n"
     ]
    },
    {
     "data": {
      "application/vnd.jupyter.widget-view+json": {
       "model_id": "135aaf2ade3f4861be0cc6c8cd5bf87d",
       "version_major": 2,
       "version_minor": 0
      },
      "text/plain": [
       "Loading checkpoint shards:   0%|          | 0/2 [00:00<?, ?it/s]"
      ]
     },
     "metadata": {},
     "output_type": "display_data"
    },
    {
     "name": "stderr",
     "output_type": "stream",
     "text": [
      " 17%|█▋        | 14/84 [02:19<11:23,  9.76s/it]"
     ]
    },
    {
     "name": "stdout",
     "output_type": "stream",
     "text": [
      "subject: Payroll Update\n",
      "urls: True\n",
      "sentiment: anger\n",
      "->\n",
      "body: Payroll update for <DATE>.\n",
      "\n",
      "<Embedded URL removed>\n",
      "\n",
      "<Embedded URL removed>\n",
      "\n",
      "<Embedded URL removed>\n",
      "\n",
      "<Embedded URL removed>\n",
      "\n",
      "<Embedded URL removed>\n",
      "\n",
      "<Embedded URL removed>\n",
      "\n",
      "<Embedded URL removed>\n",
      "\n",
      "<Embedded URL removed>\n",
      "\n",
      "<Embedded URL removed>\n",
      "\n",
      "<Embedded URL removed>\n",
      "\n",
      "<Embedded URL removed>\n",
      "\n",
      "<Embedded URL removed>\n",
      "\n",
      "<Embedded URL removed>\n",
      "\n",
      "<Embedded URL removed>\n",
      "\n",
      "<Embedded URL removed>\n",
      "\n",
      "<Embedded URL removed>\n",
      "\n",
      "<Embedded URL removed>\n",
      "\n",
      "<Embedded URL removed>\n",
      "\n",
      "<Embedded URL removed>\n",
      "\n",
      "<Embedded URL removed>\n",
      "\n",
      "<Embedded URL removed>\n",
      "\n",
      "<Embedded URL removed>\n",
      "\n",
      "<Embedded URL removed>\n",
      "\n",
      "<Embedded URL removed>\n",
      "\n",
      "<Embedded URL removed>\n",
      "\n",
      "<Embedded URL removed>\n",
      "\n",
      "<Embedded URL removed>\n",
      "\n",
      "<Embedded URL removed>\n",
      "\n"
     ]
    },
    {
     "name": "stderr",
     "output_type": "stream",
     "text": [
      "Unused kwargs: ['selective_precision']. These kwargs are not used in <class 'transformers.utils.quantization_config.BitsAndBytesConfig'>.\n",
      "`low_cpu_mem_usage` was None, now set to True since model is quantized.\n"
     ]
    },
    {
     "data": {
      "application/vnd.jupyter.widget-view+json": {
       "model_id": "d1891ee9a0744502884ef4c0684c2c95",
       "version_major": 2,
       "version_minor": 0
      },
      "text/plain": [
       "Loading checkpoint shards:   0%|          | 0/2 [00:00<?, ?it/s]"
      ]
     },
     "metadata": {},
     "output_type": "display_data"
    },
    {
     "name": "stderr",
     "output_type": "stream",
     "text": [
      " 18%|█▊        | 15/84 [02:29<11:34, 10.06s/it]"
     ]
    },
    {
     "name": "stdout",
     "output_type": "stream",
     "text": [
      "subject: Payroll Update\n",
      "attachments: True\n",
      "sentiment: anger\n",
      "->\n",
      "body: This is a reminder that the payroll is due on Friday, <DATE>.  Please\n",
      "be sure to send your payroll to:\n",
      "\n",
      "Enron North America\n",
      "Attn: Payroll\n",
      "PO Box 1313\n",
      "Houston, TX 77251-1313\n",
      "\n",
      "If you have any questions please call me at <PHONE>.\n",
      "\n",
      "Thanks,\n",
      "Jennifer\n",
      "x31502\n",
      "\n",
      " <ATTACHMENT> \n",
      "\n",
      " <ATTACHMENT> \n",
      "\n",
      " <ATTACHMENT> \n",
      "\n",
      " <ATTACHMENT> \n",
      "\n",
      " <ATTACHMENT> \n",
      "\n",
      " <ATTACHMENT> \n",
      "\n",
      " <ATTACHMENT> \n",
      "\n",
      " <ATTACHMENT> \n",
      "\n",
      " <ATTACHMENT> \n",
      "\n",
      " <ATTACHMENT> \n",
      "\n",
      " <ATTACHMENT> \n",
      "\n",
      " <ATTACHMENT> \n",
      "\n",
      " <ATTACHMENT> \n",
      "\n",
      " <ATTACHMENT> \n",
      "\n",
      " <ATTACHMENT> \n",
      "\n",
      " <ATTACHMENT> \n",
      "\n",
      " <ATTACHMENT> \n",
      "\n",
      " <ATTACHMENT> \n",
      "\n",
      " <ATTACHMENT> \n",
      "\n",
      " <ATTACHMENT> \n",
      "\n",
      " <ATTACHMENT> \n",
      "\n",
      " <ATTACHMENT> \n",
      "\n",
      " <ATTACHMENT>\n",
      "\n"
     ]
    },
    {
     "name": "stderr",
     "output_type": "stream",
     "text": [
      "Unused kwargs: ['selective_precision']. These kwargs are not used in <class 'transformers.utils.quantization_config.BitsAndBytesConfig'>.\n",
      "`low_cpu_mem_usage` was None, now set to True since model is quantized.\n"
     ]
    },
    {
     "data": {
      "application/vnd.jupyter.widget-view+json": {
       "model_id": "d685fb47abfd4a3d82a9ee43b15e0225",
       "version_major": 2,
       "version_minor": 0
      },
      "text/plain": [
       "Loading checkpoint shards:   0%|          | 0/2 [00:00<?, ?it/s]"
      ]
     },
     "metadata": {},
     "output_type": "display_data"
    },
    {
     "name": "stderr",
     "output_type": "stream",
     "text": [
      " 19%|█▉        | 16/84 [02:39<11:23, 10.06s/it]"
     ]
    },
    {
     "name": "stdout",
     "output_type": "stream",
     "text": [
      "subject: Payroll Update\n",
      "sentiment: anger\n",
      "->\n",
      "body: I am sorry to hear that you are not happy with the payroll department.  I would like to give you a chance to give me a chance to correct the situation.  I will be available on Thursday, <DATE> from 2:00 - 3:00 in my office to meet with you.  I will be happy to discuss any issues you have.  I will also be available on Friday, <DATE> from 9:00 - 10:00 if you are unable to meet with me on Thursday.  I can be reached at <PHONE>.  Thank you for your patience.\n",
      "\n",
      "Thanks,\n",
      "Kevin\n",
      "Payroll Manager\n",
      "Enron North America\n",
      "1400 Smith Street, 38th Floor, Houston, Texas 77002\n",
      "kevin.p.johnson@enron.com\n",
      "<PHONE>\n",
      "<PHONE>\n",
      "\n"
     ]
    },
    {
     "name": "stderr",
     "output_type": "stream",
     "text": [
      "Unused kwargs: ['selective_precision']. These kwargs are not used in <class 'transformers.utils.quantization_config.BitsAndBytesConfig'>.\n",
      "`low_cpu_mem_usage` was None, now set to True since model is quantized.\n"
     ]
    },
    {
     "data": {
      "application/vnd.jupyter.widget-view+json": {
       "model_id": "2e73bc6ecb28408db7134c40b18a9fd9",
       "version_major": 2,
       "version_minor": 0
      },
      "text/plain": [
       "Loading checkpoint shards:   0%|          | 0/2 [00:00<?, ?it/s]"
      ]
     },
     "metadata": {},
     "output_type": "display_data"
    },
    {
     "name": "stderr",
     "output_type": "stream",
     "text": [
      " 20%|██        | 17/84 [02:49<11:03,  9.90s/it]"
     ]
    },
    {
     "name": "stdout",
     "output_type": "stream",
     "text": [
      "subject: Payroll Update\n",
      "urls: True\n",
      "attachments: True\n",
      "sentiment: fear\n",
      "->\n",
      "body: The following is an update to the payroll situation.\n",
      "\n",
      "The IRS has not yet released the information regarding the IRS\n",
      "tax withholding tables.  We are waiting for the IRS to release the\n",
      "information.  We will update you as soon as we receive the\n",
      "information.\n",
      "\n",
      "The IRS is currently working to correct the tax withholding tables\n",
      "for the previous year.  Once the IRS corrects the tables, the IRS\n",
      "will notify the payroll industry of the corrected tables.  We will\n",
      "update you as soon as we receive the information.\n",
      "\n",
      "As a result of the IRS not releasing the information, we are\n",
      "unable to process payroll for the previous year.  We are waiting\n",
      "for the IRS to release the information.\n",
      "\n",
      "The IRS is also working to correct the W-2's for the previous year.\n",
      "Once the IRS corrects the W\n",
      "\n"
     ]
    },
    {
     "name": "stderr",
     "output_type": "stream",
     "text": [
      "Unused kwargs: ['selective_precision']. These kwargs are not used in <class 'transformers.utils.quantization_config.BitsAndBytesConfig'>.\n",
      "`low_cpu_mem_usage` was None, now set to True since model is quantized.\n"
     ]
    },
    {
     "data": {
      "application/vnd.jupyter.widget-view+json": {
       "model_id": "bfda8fb1fe8546f8b99684b4e75b38c0",
       "version_major": 2,
       "version_minor": 0
      },
      "text/plain": [
       "Loading checkpoint shards:   0%|          | 0/2 [00:00<?, ?it/s]"
      ]
     },
     "metadata": {},
     "output_type": "display_data"
    },
    {
     "name": "stderr",
     "output_type": "stream",
     "text": [
      " 21%|██▏       | 18/84 [02:59<11:03, 10.06s/it]"
     ]
    },
    {
     "name": "stdout",
     "output_type": "stream",
     "text": [
      "subject: Payroll Update\n",
      "urls: True\n",
      "sentiment: fear\n",
      "->\n",
      "body: The following is a payroll update for the week of <DATE> through <DATE>.\n",
      "\n",
      "Employee\n",
      "No.\n",
      "Name\n",
      "Status\n",
      "Pay Date\n",
      "Pay Date\n",
      "Pay Date\n",
      "Pay Date\n",
      "Pay Date\n",
      "Pay Date\n",
      "Pay Date\n",
      "Pay Date\n",
      "Pay Date\n",
      "Pay Date\n",
      "Pay Date\n",
      "Pay Date\n",
      "Pay Date\n",
      "Pay Date\n",
      "Pay Date\n",
      "Pay Date\n",
      "Pay Date\n",
      "Pay Date\n",
      "Pay Date\n",
      "Pay Date\n",
      "Pay Date\n",
      "Pay Date\n",
      "Pay Date\n",
      "Pay Date\n",
      "Pay Date\n",
      "Pay Date\n",
      "Pay Date\n",
      "Pay Date\n",
      "Pay Date\n",
      "Pay Date\n",
      "Pay Date\n",
      "Pay Date\n",
      "Pay Date\n",
      "Pay Date\n",
      "Pay Date\n",
      "Pay Date\n",
      "Pay Date\n",
      "Pay Date\n",
      "Pay Date\n",
      "Pay Date\n",
      "Pay Date\n",
      "Pay Date\n",
      "Pay Date\n",
      "Pay Date\n",
      "Pay Date\n",
      "Pay Date\n",
      "Pay Date\n",
      "Pay Date\n",
      "Pay Date\n",
      "Pay\n",
      "\n"
     ]
    },
    {
     "name": "stderr",
     "output_type": "stream",
     "text": [
      "Unused kwargs: ['selective_precision']. These kwargs are not used in <class 'transformers.utils.quantization_config.BitsAndBytesConfig'>.\n",
      "`low_cpu_mem_usage` was None, now set to True since model is quantized.\n"
     ]
    },
    {
     "data": {
      "application/vnd.jupyter.widget-view+json": {
       "model_id": "f61bded0860048948582656f92f13b9b",
       "version_major": 2,
       "version_minor": 0
      },
      "text/plain": [
       "Loading checkpoint shards:   0%|          | 0/2 [00:00<?, ?it/s]"
      ]
     },
     "metadata": {},
     "output_type": "display_data"
    },
    {
     "name": "stderr",
     "output_type": "stream",
     "text": [
      " 23%|██▎       | 19/84 [03:09<10:38,  9.82s/it]"
     ]
    },
    {
     "name": "stdout",
     "output_type": "stream",
     "text": [
      "subject: Payroll Update\n",
      "attachments: True\n",
      "sentiment: fear\n",
      "->\n",
      "body: Dear All,\n",
      "\n",
      "As you know, the situation surrounding Enron is worsening and we are\n",
      "experiencing a period of heightened uncertainty.  I have just received\n",
      "the following update from the Payroll Department.  \n",
      "\n",
      "As of <DATE>, the following changes were made to the payroll\n",
      "process.  \n",
      "\n",
      "All employees are required to report to the office on a scheduled basis\n",
      "between 8:00 a.m. and 12:00 p.m.  The Payroll Department will not\n",
      "accept telephone or faxed time sheets.  \n",
      "\n",
      "Employees who are unable to report to the office on their scheduled\n",
      "days must contact the Payroll Department to make alternate arrangements\n",
      "to submit their time sheets.  \n",
      "\n",
      "Employees who are sick and are unable to report to the office must\n",
      "contact the Payroll Department to make alternate arrangements to submit\n",
      "their time sheets.\n",
      "\n"
     ]
    },
    {
     "name": "stderr",
     "output_type": "stream",
     "text": [
      "Unused kwargs: ['selective_precision']. These kwargs are not used in <class 'transformers.utils.quantization_config.BitsAndBytesConfig'>.\n",
      "`low_cpu_mem_usage` was None, now set to True since model is quantized.\n"
     ]
    },
    {
     "data": {
      "application/vnd.jupyter.widget-view+json": {
       "model_id": "12a8f2d96cc64aca9e580de5a5333cfb",
       "version_major": 2,
       "version_minor": 0
      },
      "text/plain": [
       "Loading checkpoint shards:   0%|          | 0/2 [00:00<?, ?it/s]"
      ]
     },
     "metadata": {},
     "output_type": "display_data"
    },
    {
     "name": "stderr",
     "output_type": "stream",
     "text": [
      " 24%|██▍       | 20/84 [03:18<10:23,  9.75s/it]"
     ]
    },
    {
     "name": "stdout",
     "output_type": "stream",
     "text": [
      "subject: Payroll Update\n",
      "sentiment: fear\n",
      "->\n",
      "body: Attached is the payroll update.  The information on the last page is from the last payroll.  The rest is from the new payroll.\n",
      "\n",
      " \n",
      "\n",
      " \n",
      "\n",
      "Thank you,\n",
      "\n",
      "Mary Ann\n",
      "Payroll Coordinator\n",
      "Enron North America\n",
      "<PHONE>\n",
      "maryann.brown@enron.com\n",
      "\n",
      "\n",
      " \n",
      "\n",
      " \n",
      "\n",
      " \n",
      "\n",
      " \n",
      "\n",
      " \n",
      "\n",
      " \n",
      "\n",
      " \n",
      "\n",
      " \n",
      "\n",
      " \n",
      "\n",
      " \n",
      "\n",
      " \n",
      "\n",
      " \n",
      "\n",
      " \n",
      "\n",
      " \n",
      "\n",
      " \n",
      "\n",
      " \n",
      "\n",
      " \n",
      "\n",
      " \n",
      "\n",
      " \n",
      "\n",
      " \n",
      "\n",
      " \n",
      "\n",
      " \n",
      "\n",
      " \n",
      "\n",
      " \n",
      "\n",
      " \n",
      "\n",
      " \n",
      "\n",
      " \n",
      "\n",
      " \n",
      "\n",
      " \n",
      "\n",
      " \n",
      "\n",
      " \n",
      "\n",
      " \n",
      "\n",
      " \n",
      "\n",
      " \n",
      "\n",
      " \n",
      "\n",
      " \n",
      "\n",
      " \n",
      "\n",
      " \n",
      "\n",
      " \n",
      "\n",
      " \n",
      "\n",
      " \n",
      "\n",
      " \n",
      "\n",
      " \n",
      "\n",
      " \n",
      "\n",
      " \n",
      "\n",
      " \n",
      "\n",
      " \n",
      "\n",
      " \n",
      "\n",
      " \n",
      "\n",
      " \n",
      "\n",
      " \n",
      "\n",
      " \n",
      "\n",
      " \n",
      "\n",
      " \n",
      "\n",
      " \n",
      "\n",
      " \n",
      "\n",
      " \n",
      "\n",
      " \n",
      "\n",
      " \n",
      "\n",
      "\n",
      "\n"
     ]
    },
    {
     "name": "stderr",
     "output_type": "stream",
     "text": [
      "Unused kwargs: ['selective_precision']. These kwargs are not used in <class 'transformers.utils.quantization_config.BitsAndBytesConfig'>.\n",
      "`low_cpu_mem_usage` was None, now set to True since model is quantized.\n"
     ]
    },
    {
     "data": {
      "application/vnd.jupyter.widget-view+json": {
       "model_id": "faa2d0d8508b47c3ac02e2a5c3972dd0",
       "version_major": 2,
       "version_minor": 0
      },
      "text/plain": [
       "Loading checkpoint shards:   0%|          | 0/2 [00:00<?, ?it/s]"
      ]
     },
     "metadata": {},
     "output_type": "display_data"
    },
    {
     "name": "stderr",
     "output_type": "stream",
     "text": [
      " 25%|██▌       | 21/84 [03:29<10:29, 10.00s/it]"
     ]
    },
    {
     "name": "stdout",
     "output_type": "stream",
     "text": [
      "subject: Payroll Update\n",
      "urls: True\n",
      "attachments: True\n",
      "sentiment: surprise\n",
      "->\n",
      "body: The following changes were made to the payroll system during the weekend:\n",
      "\n",
      "Payroll is now closed for the weekend.\n",
      "\n",
      "The following changes were made to the payroll system during the weekend:\n",
      "\n",
      "The last day to make changes to your payroll card is <DATE>.\n",
      "If you have any questions, please call the Payroll Department at <PHONE>.\n",
      "\n",
      "To view your payroll information, please log on to www.enron.com/payroll beginning <DATE>.\n",
      "\n",
      "To view your payroll card, please log on to www.enron.com/payroll beginning <DATE>.\n",
      "\n",
      "If you have any questions, please call the payroll help line at <PHONE>.\n",
      "\n",
      "Enron is committed to providing a payroll service that is secure, efficient and cost effective.\n",
      "\n",
      "Thank you for your participation.\n",
      "\n",
      "Enron Global Services\n",
      "\n",
      " \n",
      " \n",
      " \n",
      " \n",
      "\n",
      "\n"
     ]
    },
    {
     "name": "stderr",
     "output_type": "stream",
     "text": [
      "Unused kwargs: ['selective_precision']. These kwargs are not used in <class 'transformers.utils.quantization_config.BitsAndBytesConfig'>.\n",
      "`low_cpu_mem_usage` was None, now set to True since model is quantized.\n"
     ]
    },
    {
     "data": {
      "application/vnd.jupyter.widget-view+json": {
       "model_id": "91067fccaa2f4edda549926459c53f3d",
       "version_major": 2,
       "version_minor": 0
      },
      "text/plain": [
       "Loading checkpoint shards:   0%|          | 0/2 [00:00<?, ?it/s]"
      ]
     },
     "metadata": {},
     "output_type": "display_data"
    },
    {
     "name": "stderr",
     "output_type": "stream",
     "text": [
      " 26%|██▌       | 22/84 [03:39<10:15,  9.92s/it]"
     ]
    },
    {
     "name": "stdout",
     "output_type": "stream",
     "text": [
      "subject: Payroll Update\n",
      "urls: True\n",
      "sentiment: surprise\n",
      "->\n",
      "body: Payroll is now available for viewing.  You can view your payroll on the new Enron Intranet site at <URL> for the following:\n",
      "\n",
      "- View your hourly and salaried paystubs\n",
      "- View your vacation and sick leave balances\n",
      "- View your 401K contributions and earnings\n",
      "- View your 401K loans and distributions\n",
      "- View your payroll deductions\n",
      "- View your 401K loan statements\n",
      "\n",
      "If you have any questions, please call the Payroll Department at <PHONE>.\n",
      "\n",
      "Thanks,\n",
      "Enron Intranet Team\n",
      "\n",
      " \n",
      "\n",
      " \n",
      "\n",
      "--------------------------------------------------------------------------------\n",
      "To unsubscribe from this group, send an email to:\n",
      "payroll-unsubscribe@egroups.com\n",
      "\n",
      " \n",
      "\n",
      " \n",
      "\n",
      " \n",
      "\n",
      " \n",
      "\n",
      " \n",
      "\n",
      " \n",
      "\n",
      " \n",
      "\n",
      " \n",
      "\n",
      " \n",
      "\n",
      " \n",
      "\n",
      " \n",
      "\n",
      " \n",
      "\n",
      " \n",
      "\n",
      " \n",
      "\n",
      " \n",
      "\n",
      "\n",
      "\n"
     ]
    },
    {
     "name": "stderr",
     "output_type": "stream",
     "text": [
      "Unused kwargs: ['selective_precision']. These kwargs are not used in <class 'transformers.utils.quantization_config.BitsAndBytesConfig'>.\n",
      "`low_cpu_mem_usage` was None, now set to True since model is quantized.\n"
     ]
    },
    {
     "data": {
      "application/vnd.jupyter.widget-view+json": {
       "model_id": "26f66eac9956468aa9f2728af87d3a51",
       "version_major": 2,
       "version_minor": 0
      },
      "text/plain": [
       "Loading checkpoint shards:   0%|          | 0/2 [00:00<?, ?it/s]"
      ]
     },
     "metadata": {},
     "output_type": "display_data"
    },
    {
     "name": "stderr",
     "output_type": "stream",
     "text": [
      " 27%|██▋       | 23/84 [03:48<10:03,  9.90s/it]"
     ]
    },
    {
     "name": "stdout",
     "output_type": "stream",
     "text": [
      "subject: Payroll Update\n",
      "attachments: True\n",
      "sentiment: surprise\n",
      "->\n",
      "body: Payroll Update\n",
      "Effective <DATE>\n",
      "\n",
      "*  The following employees will receive a 1.5% raise effective <DATE>.\n",
      "\n",
      "*  The following employees will receive a 1% raise effective <DATE>.\n",
      "\n",
      "*  The following employees will receive a 0.5% raise effective <DATE>.\n",
      "\n",
      "*  The following employees will receive a 0.25% raise effective <DATE>.\n",
      "\n",
      "*  The following employees will receive a 0.25% raise effective <DATE>.\n",
      "\n",
      "*  The following employees will receive a 0.25% raise effective <DATE>.\n",
      "\n",
      "*  The following employees will receive a 0.25% raise effective <DATE>.\n",
      "\n",
      "*  The following employees will receive a 0.25% raise effective <DATE>.\n",
      "\n",
      "*  The following employees will receive a 0.2\n",
      "\n"
     ]
    },
    {
     "name": "stderr",
     "output_type": "stream",
     "text": [
      "Unused kwargs: ['selective_precision']. These kwargs are not used in <class 'transformers.utils.quantization_config.BitsAndBytesConfig'>.\n",
      "`low_cpu_mem_usage` was None, now set to True since model is quantized.\n"
     ]
    },
    {
     "data": {
      "application/vnd.jupyter.widget-view+json": {
       "model_id": "04ab92c1cd66492ca317160561b15120",
       "version_major": 2,
       "version_minor": 0
      },
      "text/plain": [
       "Loading checkpoint shards:   0%|          | 0/2 [00:00<?, ?it/s]"
      ]
     },
     "metadata": {},
     "output_type": "display_data"
    },
    {
     "name": "stderr",
     "output_type": "stream",
     "text": [
      " 29%|██▊       | 24/84 [03:59<10:08, 10.14s/it]"
     ]
    },
    {
     "name": "stdout",
     "output_type": "stream",
     "text": [
      "subject: Payroll Update\n",
      "sentiment: surprise\n",
      "->\n",
      "body: Payroll will be closed today, Friday, <DATE>.  The last day to submit payroll is Thursday, <DATE>.  Please remember to submit all payroll checks by 11:00 a.m.  Checks will be printed and distributed by 12:00 p.m.  We will be closed for the Martin Luther King Jr. holiday.\n",
      "\n",
      "Payroll will be open on Monday, <DATE> from 8:00 a.m. to 4:00 p.m.  The last day to submit payroll is Thursday, <DATE>.\n",
      "\n",
      "If you have any questions, please call the General Services desk at <PHONE>.\n",
      "\n",
      "Thanks,\n",
      "\n",
      "Pam\n",
      "Payroll Manager\n",
      "Employee Services\n",
      "<PHONE>\n",
      "Pam.Jones@enron.com\n",
      "\n",
      "\n",
      " \n",
      " \n",
      " \n",
      " \n",
      " \n",
      " \n",
      " \n",
      " \n",
      " \n",
      " \n",
      "\n",
      "\n"
     ]
    },
    {
     "name": "stderr",
     "output_type": "stream",
     "text": [
      "Unused kwargs: ['selective_precision']. These kwargs are not used in <class 'transformers.utils.quantization_config.BitsAndBytesConfig'>.\n",
      "`low_cpu_mem_usage` was None, now set to True since model is quantized.\n"
     ]
    },
    {
     "data": {
      "application/vnd.jupyter.widget-view+json": {
       "model_id": "dccddd6aea9d4907a75783d1cf11aeb9",
       "version_major": 2,
       "version_minor": 0
      },
      "text/plain": [
       "Loading checkpoint shards:   0%|          | 0/2 [00:00<?, ?it/s]"
      ]
     },
     "metadata": {},
     "output_type": "display_data"
    },
    {
     "name": "stderr",
     "output_type": "stream",
     "text": [
      " 30%|██▉       | 25/84 [04:09<09:50, 10.01s/it]"
     ]
    },
    {
     "name": "stdout",
     "output_type": "stream",
     "text": [
      "subject: Payroll Update\n",
      "urls: True\n",
      "attachments: True\n",
      "sentiment: disgust\n",
      "->\n",
      "body: Here is the payroll update for this week.\n",
      "\n",
      " \n",
      "  \n",
      " \n",
      " \n",
      " \n",
      " \n",
      " \n",
      " \n",
      " \n",
      " \n",
      " \n",
      " \n",
      " \n",
      " \n",
      " \n",
      " \n",
      " \n",
      " \n",
      " \n",
      " \n",
      " \n",
      " \n",
      " \n",
      " \n",
      " \n",
      " \n",
      " \n",
      " \n",
      " \n",
      " \n",
      " \n",
      " \n",
      " \n",
      " \n",
      " \n",
      " \n",
      " \n",
      " \n",
      " \n",
      " \n",
      " \n",
      " \n",
      " \n",
      " \n",
      " \n",
      " \n",
      " \n",
      " \n",
      " \n",
      " \n",
      " \n",
      " \n",
      " \n",
      " \n",
      " \n",
      " \n",
      " \n",
      " \n",
      " \n",
      " \n",
      " \n",
      " \n",
      " \n",
      " \n",
      " \n",
      " \n",
      " \n",
      " \n",
      " \n",
      " \n",
      " \n",
      " \n",
      " \n",
      " \n",
      " \n",
      " \n",
      " \n",
      " \n",
      " \n",
      " \n",
      "\n",
      "\n"
     ]
    },
    {
     "name": "stderr",
     "output_type": "stream",
     "text": [
      "Unused kwargs: ['selective_precision']. These kwargs are not used in <class 'transformers.utils.quantization_config.BitsAndBytesConfig'>.\n",
      "`low_cpu_mem_usage` was None, now set to True since model is quantized.\n"
     ]
    },
    {
     "data": {
      "application/vnd.jupyter.widget-view+json": {
       "model_id": "06fb314d45e8452b87120959b0027f74",
       "version_major": 2,
       "version_minor": 0
      },
      "text/plain": [
       "Loading checkpoint shards:   0%|          | 0/2 [00:00<?, ?it/s]"
      ]
     },
     "metadata": {},
     "output_type": "display_data"
    },
    {
     "name": "stderr",
     "output_type": "stream",
     "text": [
      " 31%|███       | 26/84 [04:19<09:40, 10.00s/it]"
     ]
    },
    {
     "name": "stdout",
     "output_type": "stream",
     "text": [
      "subject: Payroll Update\n",
      "urls: True\n",
      "sentiment: disgust\n",
      "->\n",
      "body: We have received your payroll update.  Your payroll update will be available for viewing on our web site within the next 24 hours.  You can access your payroll update by logging on to www.nwtc.com and clicking on the \"My Account\" tab.  Please contact your Account Representative if you have any questions.\n",
      "\n",
      "Please note that the following changes are effective <DATE>.\n",
      "\n",
      "\t\n",
      "Payroll Updates:\n",
      "\n",
      "\t\n",
      "Please note that the following changes are effective <DATE>.\n",
      "\n",
      "\t\n",
      "\n",
      "If you have any questions please contact your Account Representative.\n",
      "\n",
      "Thank you for using our web site.\n",
      "\n",
      " \n",
      "\n",
      " \n",
      "\n",
      "The Northwest Transportation Center\n",
      "PO Box 3650, 3650 Evergreen Lane, 3650 Evergreen Lane, 97125\n",
      "PO Box 1500, 3\n",
      "\n"
     ]
    },
    {
     "name": "stderr",
     "output_type": "stream",
     "text": [
      "Unused kwargs: ['selective_precision']. These kwargs are not used in <class 'transformers.utils.quantization_config.BitsAndBytesConfig'>.\n",
      "`low_cpu_mem_usage` was None, now set to True since model is quantized.\n"
     ]
    },
    {
     "data": {
      "application/vnd.jupyter.widget-view+json": {
       "model_id": "c3982488f7a343d79ff87e7ae42d1870",
       "version_major": 2,
       "version_minor": 0
      },
      "text/plain": [
       "Loading checkpoint shards:   0%|          | 0/2 [00:00<?, ?it/s]"
      ]
     },
     "metadata": {},
     "output_type": "display_data"
    },
    {
     "name": "stderr",
     "output_type": "stream",
     "text": [
      " 32%|███▏      | 27/84 [04:29<09:39, 10.16s/it]"
     ]
    },
    {
     "name": "stdout",
     "output_type": "stream",
     "text": [
      "subject: Payroll Update\n",
      "attachments: True\n",
      "sentiment: disgust\n",
      "->\n",
      "body: Payroll Update\n",
      "The following is an update of the current payroll status:\n",
      "\n",
      "Status:  Current\n",
      "Payroll is currently current.\n",
      "\n",
      "Status:  Current\n",
      "Payroll is currently current.\n",
      "\n",
      "Status:  Current\n",
      "Payroll is currently current.\n",
      "\n",
      "Status:  Current\n",
      "Payroll is currently current.\n",
      "\n",
      "Status:  Current\n",
      "Payroll is currently current.\n",
      "\n",
      "Status:  Current\n",
      "Payroll is currently current.\n",
      "\n",
      "Status:  Current\n",
      "Payroll is currently current.\n",
      "\n",
      "Status:  Current\n",
      "Payroll is currently current.\n",
      "\n",
      "Status:  Current\n",
      "Payroll is currently current.\n",
      "\n",
      "Status:  Current\n",
      "Payroll is currently current.\n",
      "\n",
      "Status:  Current\n",
      "Payroll is currently current.\n",
      "\n",
      "Status:  Current\n",
      "Payroll is currently current.\n",
      "\n",
      "Status:  Current\n",
      "Payroll is currently current.\n",
      "\n",
      "Status:  Current\n",
      "Payroll is currently current.\n",
      "\n",
      "Status:  Current\n",
      "\n",
      "\n"
     ]
    },
    {
     "name": "stderr",
     "output_type": "stream",
     "text": [
      "Unused kwargs: ['selective_precision']. These kwargs are not used in <class 'transformers.utils.quantization_config.BitsAndBytesConfig'>.\n",
      "`low_cpu_mem_usage` was None, now set to True since model is quantized.\n"
     ]
    },
    {
     "data": {
      "application/vnd.jupyter.widget-view+json": {
       "model_id": "5accdba826b54266876f2cd39799660a",
       "version_major": 2,
       "version_minor": 0
      },
      "text/plain": [
       "Loading checkpoint shards:   0%|          | 0/2 [00:00<?, ?it/s]"
      ]
     },
     "metadata": {},
     "output_type": "display_data"
    },
    {
     "name": "stderr",
     "output_type": "stream",
     "text": [
      " 33%|███▎      | 28/84 [04:39<09:19,  9.98s/it]"
     ]
    },
    {
     "name": "stdout",
     "output_type": "stream",
     "text": [
      "subject: Payroll Update\n",
      "sentiment: disgust\n",
      "->\n",
      "body: Attached is the payroll update for the week of <DATE>.\n",
      "\n",
      " \n",
      "\n",
      "  \n",
      "\n",
      "  \n",
      "\n",
      "  \n",
      "\n",
      "  \n",
      "\n",
      "  \n",
      "\n",
      "  \n",
      "\n",
      "  \n",
      "\n",
      "  \n",
      "\n",
      "  \n",
      "\n",
      "  \n",
      "\n",
      "  \n",
      "\n",
      "  \n",
      "\n",
      "  \n",
      "\n",
      "  \n",
      "\n",
      "  \n",
      "\n",
      "  \n",
      "\n",
      "  \n",
      "\n",
      "  \n",
      "\n",
      "  \n",
      "\n",
      "  \n",
      "\n",
      "  \n",
      "\n",
      "  \n",
      "\n",
      "  \n",
      "\n",
      "  \n",
      "\n",
      "  \n",
      "\n",
      "  \n",
      "\n",
      "  \n",
      "\n",
      "  \n",
      "\n",
      "  \n",
      "\n",
      "  \n",
      "\n",
      "  \n",
      "\n",
      "  \n",
      "\n",
      "  \n",
      "\n",
      "  \n",
      "\n",
      "  \n",
      "\n",
      "  \n",
      "\n",
      "  \n",
      "\n",
      "  \n",
      "\n",
      "  \n",
      "\n",
      "  \n",
      "\n",
      "  \n",
      "\n",
      "  \n",
      "\n",
      "  \n",
      "\n",
      "  \n",
      "\n",
      "  \n",
      "\n",
      "  \n",
      "\n",
      "  \n",
      "\n",
      "  \n",
      "\n",
      "  \n",
      "\n",
      "  \n",
      "\n",
      "  \n",
      "\n",
      "  \n",
      "\n",
      "  \n",
      "\n",
      "  \n",
      "\n",
      "  \n",
      "\n",
      "  \n",
      "\n",
      "  \n",
      "\n",
      "  \n",
      "\n",
      "  \n",
      "\n",
      "  \n",
      "\n",
      "  \n",
      "\n",
      "  \n",
      "\n",
      "  \n",
      "\n",
      "  \n",
      "\n",
      "  \n",
      "\n",
      "  \n",
      "\n",
      "  \n",
      "\n",
      "  \n",
      "\n",
      "  \n",
      "\n",
      "  \n",
      "\n",
      "  \n",
      "\n",
      "  \n",
      "\n",
      "  \n",
      "\n",
      "  \n",
      "\n",
      "  \n",
      "\n",
      "  \n",
      "\n",
      "  \n",
      "\n",
      "  \n",
      "\n",
      "  \n",
      "\n",
      "  \n",
      "\n",
      "  \n",
      "\n",
      "  \n",
      "\n"
     ]
    },
    {
     "name": "stderr",
     "output_type": "stream",
     "text": [
      "Unused kwargs: ['selective_precision']. These kwargs are not used in <class 'transformers.utils.quantization_config.BitsAndBytesConfig'>.\n",
      "`low_cpu_mem_usage` was None, now set to True since model is quantized.\n"
     ]
    },
    {
     "data": {
      "application/vnd.jupyter.widget-view+json": {
       "model_id": "a96a477583dd4d56b6c5b68d56548f98",
       "version_major": 2,
       "version_minor": 0
      },
      "text/plain": [
       "Loading checkpoint shards:   0%|          | 0/2 [00:00<?, ?it/s]"
      ]
     },
     "metadata": {},
     "output_type": "display_data"
    },
    {
     "name": "stderr",
     "output_type": "stream",
     "text": [
      " 35%|███▍      | 29/84 [04:48<08:57,  9.78s/it]"
     ]
    },
    {
     "name": "stdout",
     "output_type": "stream",
     "text": [
      "subject: Christmas Office Party\n",
      "urls: True\n",
      "attachments: True\n",
      "sentiment: sadness\n",
      "->\n",
      "body: Dear Friends,\n",
      "\n",
      "It is with great sadness that we have to inform you that our Christmas party\n",
      "will not be held this year.  This is a difficult time for all of us, and we\n",
      "want to be sure that everyone is able to enjoy the holidays with their\n",
      "families.  We are all looking forward to the new year and we hope that everyone\n",
      "will be healthy and happy.  \n",
      "\n",
      "Please know that we have enjoyed our time together this year, and that we\n",
      "wish you all the best for the holidays.  We hope that you will stay in\n",
      "touch with us through the new year.\n",
      "\n",
      "With our best wishes,\n",
      "\n",
      "The 2001-2002 Enron Holiday Party Committee\n",
      "\n",
      " <ATTACHMENT> \n",
      " <ATTACHMENT> \n",
      " <ATTACHMENT> \n",
      " <ATTACHMENT> \n",
      " <ATTACHMENT> \n",
      " \n",
      "\n"
     ]
    },
    {
     "name": "stderr",
     "output_type": "stream",
     "text": [
      "Unused kwargs: ['selective_precision']. These kwargs are not used in <class 'transformers.utils.quantization_config.BitsAndBytesConfig'>.\n",
      "`low_cpu_mem_usage` was None, now set to True since model is quantized.\n"
     ]
    },
    {
     "data": {
      "application/vnd.jupyter.widget-view+json": {
       "model_id": "b03eeb2336204b12a916eba56ee83fe3",
       "version_major": 2,
       "version_minor": 0
      },
      "text/plain": [
       "Loading checkpoint shards:   0%|          | 0/2 [00:00<?, ?it/s]"
      ]
     },
     "metadata": {},
     "output_type": "display_data"
    },
    {
     "name": "stderr",
     "output_type": "stream",
     "text": [
      " 36%|███▌      | 30/84 [04:58<08:43,  9.70s/it]"
     ]
    },
    {
     "name": "stdout",
     "output_type": "stream",
     "text": [
      "subject: Christmas Office Party\n",
      "urls: True\n",
      "sentiment: sadness\n",
      "->\n",
      "body: Hi,\n",
      "\n",
      "This is the first Christmas office party that I've ever had the privilege of\n",
      "attending.  I'm sure it will be a lot of fun.  I've been asked to bring a\n",
      "dish to share.  Please let me know if you can make it.  I'd like to see you\n",
      "all.\n",
      "\n",
      "Thanks,\n",
      "Jennifer\n",
      "\n",
      " \n",
      "\n",
      "Jennifer B. Davis\n",
      "Manager, Marketing\n",
      "Enron Net Works\n",
      "<PHONE>\n",
      "jennifer.davis@enron.com\n",
      "\n",
      "\n",
      " \n",
      "\n",
      " \n",
      "\n",
      " \n",
      "\n",
      " \n",
      "\n",
      " \n",
      "\n",
      " \n",
      "\n",
      " \n",
      "\n",
      " \n",
      "\n",
      " \n",
      "\n",
      " \n",
      "\n",
      " \n",
      "\n",
      " \n",
      "\n",
      " \n",
      "\n",
      " \n",
      "\n",
      " \n",
      "\n",
      " \n",
      "\n",
      " \n",
      "\n",
      " \n",
      "\n",
      " \n",
      "\n",
      " \n",
      "\n",
      " \n",
      "\n",
      " \n",
      "\n",
      " \n",
      "\n",
      " \n",
      "\n",
      " \n",
      "\n",
      " \n",
      "\n",
      " \n",
      "\n",
      " \n",
      "\n",
      " \n",
      "\n",
      " \n",
      "\n",
      " \n",
      "\n",
      " \n",
      "\n",
      " \n",
      "\n",
      " \n",
      "\n",
      "\n",
      "\n"
     ]
    },
    {
     "name": "stderr",
     "output_type": "stream",
     "text": [
      "Unused kwargs: ['selective_precision']. These kwargs are not used in <class 'transformers.utils.quantization_config.BitsAndBytesConfig'>.\n",
      "`low_cpu_mem_usage` was None, now set to True since model is quantized.\n"
     ]
    },
    {
     "data": {
      "application/vnd.jupyter.widget-view+json": {
       "model_id": "02d09e2f60cc4afb920d82856a00e44e",
       "version_major": 2,
       "version_minor": 0
      },
      "text/plain": [
       "Loading checkpoint shards:   0%|          | 0/2 [00:00<?, ?it/s]"
      ]
     },
     "metadata": {},
     "output_type": "display_data"
    },
    {
     "name": "stderr",
     "output_type": "stream",
     "text": [
      " 37%|███▋      | 31/84 [05:07<08:29,  9.62s/it]"
     ]
    },
    {
     "name": "stdout",
     "output_type": "stream",
     "text": [
      "subject: Christmas Office Party\n",
      "attachments: True\n",
      "sentiment: sadness\n",
      "->\n",
      "body: I am sorry to have to cancel our Christmas office party this year.  I'm sure\n",
      "you will understand that I'm not feeling well and I don't want to risk\n",
      "getting sick.  I'll miss you all and I hope you all have a wonderful holiday\n",
      "season.  Please let me know if you have any questions.  I'll miss you all.\n",
      " \n",
      "Thanks,\n",
      " \n",
      "Nancy \n",
      " \n",
      " \n",
      " \n",
      " \n",
      " \n",
      " \n",
      " \n",
      " \n",
      " \n",
      " \n",
      " \n",
      " \n",
      " \n",
      " \n",
      " \n",
      " \n",
      " \n",
      " \n",
      " \n",
      " \n",
      " \n",
      " \n",
      " \n",
      " \n",
      " \n",
      " \n",
      " \n",
      " \n",
      " \n",
      " \n",
      " \n",
      " \n",
      " \n",
      " \n",
      " \n",
      " \n",
      " \n",
      " \n",
      " \n",
      " \n",
      " \n",
      "\n",
      "\n"
     ]
    },
    {
     "name": "stderr",
     "output_type": "stream",
     "text": [
      "Unused kwargs: ['selective_precision']. These kwargs are not used in <class 'transformers.utils.quantization_config.BitsAndBytesConfig'>.\n",
      "`low_cpu_mem_usage` was None, now set to True since model is quantized.\n"
     ]
    },
    {
     "data": {
      "application/vnd.jupyter.widget-view+json": {
       "model_id": "5c27c584fafa4a45b8a80f7eefc08ecd",
       "version_major": 2,
       "version_minor": 0
      },
      "text/plain": [
       "Loading checkpoint shards:   0%|          | 0/2 [00:00<?, ?it/s]"
      ]
     },
     "metadata": {},
     "output_type": "display_data"
    },
    {
     "name": "stderr",
     "output_type": "stream",
     "text": [
      " 38%|███▊      | 32/84 [05:17<08:19,  9.60s/it]"
     ]
    },
    {
     "name": "stdout",
     "output_type": "stream",
     "text": [
      "subject: Christmas Office Party\n",
      "sentiment: sadness\n",
      "->\n",
      "body: I am so sorry that I am unable to attend the Christmas party this year.  I really enjoyed my time with you all and wish you all the best for the holidays.  I will miss you all.  I am going to miss you all.  I hope you all have a wonderful Christmas and a Merry Christmas.  Please let me know if you need anything.  I will miss you all.  I am sorry that I am not able to attend.  I will miss you all.  I hope you all have a wonderful Christmas.  I am sorry that I am not able to attend.  I will miss you all.  I wish you all a wonderful Christmas.  I hope you all have a wonderful Christmas.  I am so sorry that I am unable to attend.  I wish you all a wonderful Christmas.  I am so sorry that I\n",
      "\n"
     ]
    },
    {
     "name": "stderr",
     "output_type": "stream",
     "text": [
      "Unused kwargs: ['selective_precision']. These kwargs are not used in <class 'transformers.utils.quantization_config.BitsAndBytesConfig'>.\n",
      "`low_cpu_mem_usage` was None, now set to True since model is quantized.\n"
     ]
    },
    {
     "data": {
      "application/vnd.jupyter.widget-view+json": {
       "model_id": "f0b4653dd1644b6194428301519213ef",
       "version_major": 2,
       "version_minor": 0
      },
      "text/plain": [
       "Loading checkpoint shards:   0%|          | 0/2 [00:00<?, ?it/s]"
      ]
     },
     "metadata": {},
     "output_type": "display_data"
    },
    {
     "name": "stderr",
     "output_type": "stream",
     "text": [
      " 39%|███▉      | 33/84 [05:28<08:31, 10.03s/it]"
     ]
    },
    {
     "name": "stdout",
     "output_type": "stream",
     "text": [
      "subject: Christmas Office Party\n",
      "urls: True\n",
      "attachments: True\n",
      "sentiment: joy\n",
      "->\n",
      "body: You are invited to the office Christmas Party.  The theme is \"Christmas in the\n",
      "Jungle.\"  Dress is casual.  Please bring a dish to share.\n",
      "\n",
      "Please RSVP by Friday, December 10th to:\n",
      "\n",
      "Judy O'Neal\n",
      "x3-7742\n",
      "jonoeal@enron.com\n",
      "\n",
      "Thanks,\n",
      "Judy O'Neal\n",
      "Enron Net Works\n",
      "<PHONE>\n",
      "\n",
      "==============================================================================================================================\n",
      "This message is intended for the named addressee only.  If you have received\n",
      "this message in error, please delete it and do not copy, forward or take any\n",
      "action in response to it.  This message and any attachments are intended to\n",
      "be confidential.  This information is for the use of the named addressee only\n",
      "and may contain privileged and confidential information.  \n",
      "\n"
     ]
    },
    {
     "name": "stderr",
     "output_type": "stream",
     "text": [
      "Unused kwargs: ['selective_precision']. These kwargs are not used in <class 'transformers.utils.quantization_config.BitsAndBytesConfig'>.\n",
      "`low_cpu_mem_usage` was None, now set to True since model is quantized.\n"
     ]
    },
    {
     "data": {
      "application/vnd.jupyter.widget-view+json": {
       "model_id": "4884120d3c344029b8e519b7c95d9826",
       "version_major": 2,
       "version_minor": 0
      },
      "text/plain": [
       "Loading checkpoint shards:   0%|          | 0/2 [00:00<?, ?it/s]"
      ]
     },
     "metadata": {},
     "output_type": "display_data"
    },
    {
     "name": "stderr",
     "output_type": "stream",
     "text": [
      " 40%|████      | 34/84 [05:38<08:21, 10.04s/it]"
     ]
    },
    {
     "name": "stdout",
     "output_type": "stream",
     "text": [
      "subject: Christmas Office Party\n",
      "urls: True\n",
      "sentiment: joy\n",
      "->\n",
      "body: Dear Friends,\n",
      " \n",
      "It is our pleasure to invite you to our Christmas Office Party on Friday,\n",
      "December 16th at the Embassy Suites Hotel.  The party will start at 5:30\n",
      "p.m. and will end at 8:30 p.m.  The Embassy Suites Hotel is located at\n",
      "2425 12th Street, Houston, Texas 77005.  The address is easily accessible from\n",
      "the Beltway 8, the Grand Parkway, or I-45.  We have reserved a block of\n",
      "rooms for Friday and Saturday nights.  If you would like to book a room\n",
      "for Friday night, please call the Embassy Suites at <PHONE>.  If you\n",
      "would like to stay over on Saturday, the hotel will be happy to accommodate\n",
      "\n",
      "\n"
     ]
    },
    {
     "name": "stderr",
     "output_type": "stream",
     "text": [
      "Unused kwargs: ['selective_precision']. These kwargs are not used in <class 'transformers.utils.quantization_config.BitsAndBytesConfig'>.\n",
      "`low_cpu_mem_usage` was None, now set to True since model is quantized.\n"
     ]
    },
    {
     "data": {
      "application/vnd.jupyter.widget-view+json": {
       "model_id": "d6e80ba9320e46f6b2c43e589ee00779",
       "version_major": 2,
       "version_minor": 0
      },
      "text/plain": [
       "Loading checkpoint shards:   0%|          | 0/2 [00:00<?, ?it/s]"
      ]
     },
     "metadata": {},
     "output_type": "display_data"
    },
    {
     "name": "stderr",
     "output_type": "stream",
     "text": [
      " 42%|████▏     | 35/84 [05:48<08:10, 10.02s/it]"
     ]
    },
    {
     "name": "stdout",
     "output_type": "stream",
     "text": [
      "subject: Christmas Office Party\n",
      "attachments: True\n",
      "sentiment: joy\n",
      "->\n",
      "body: Hello,\n",
      "\n",
      "The Christmas Office Party is scheduled for Thursday, December 15th from 6:00-9:00\n",
      "pm.  Please RSVP to my email address.  The event is free for all Enron employees.\n",
      "We will have a catered lunch and drinks.  Please bring a dish to share.  I\n",
      "will send out the menu later.  If you have any questions, please let me know.\n",
      "\n",
      "Thanks,\n",
      "\n",
      "Jennifer\n",
      "x33826\n",
      "\n",
      "<PHONE>\n",
      "\n",
      " <ATTACHMENT> \n",
      "\n",
      " <ATTACHMENT> \n",
      "\n",
      " <ATTACHMENT> \n",
      "\n",
      " <ATTACHMENT> \n",
      "\n",
      " <ATTACHMENT> \n",
      "\n",
      " <ATTACHMENT> \n",
      "\n",
      " <ATTACHMENT> \n",
      "\n",
      " <ATTACHMENT> \n",
      "\n",
      " <ATTACHMENT> \n",
      "\n",
      " <ATTACHMENT> \n",
      "\n",
      " <ATTACHMENT> \n",
      "\n",
      " <ATTACHMENT> \n",
      "\n",
      " <ATTACHMENT> \n",
      "\n",
      " <ATTACHMENT> \n",
      "\n",
      " <ATTACHMENT> \n",
      "\n",
      " <ATTACHMENT> \n",
      "\n",
      " <ATTACHMENT> \n",
      "\n",
      "\n",
      "\n"
     ]
    },
    {
     "name": "stderr",
     "output_type": "stream",
     "text": [
      "Unused kwargs: ['selective_precision']. These kwargs are not used in <class 'transformers.utils.quantization_config.BitsAndBytesConfig'>.\n",
      "`low_cpu_mem_usage` was None, now set to True since model is quantized.\n"
     ]
    },
    {
     "data": {
      "application/vnd.jupyter.widget-view+json": {
       "model_id": "1c8c5570bd664808889495ddd2d87f8e",
       "version_major": 2,
       "version_minor": 0
      },
      "text/plain": [
       "Loading checkpoint shards:   0%|          | 0/2 [00:00<?, ?it/s]"
      ]
     },
     "metadata": {},
     "output_type": "display_data"
    },
    {
     "name": "stderr",
     "output_type": "stream",
     "text": [
      " 43%|████▎     | 36/84 [05:59<08:11, 10.23s/it]"
     ]
    },
    {
     "name": "stdout",
     "output_type": "stream",
     "text": [
      "subject: Christmas Office Party\n",
      "sentiment: joy\n",
      "->\n",
      "body: We are planning a Christmas office party on December 12th from 5-7 pm at the DoubleTree Hotel.  We are hoping to get a good turn out so that we can have a good time.  There will be a small charge for the party.  The cost will be based on how many people are in attendance.  The party will be catered by the DoubleTree.  The cost will be $10 per person.  This covers the cost of the food, drinks, and entertainment.  The drinks will be served at a cash bar.  If you would like to attend, please RSVP to me by the end of the day on Monday, December 3rd.  \n",
      "\n",
      "If you have any questions, please feel free to contact me.  I look forward to seeing everyone.\n",
      "\n",
      "Thanks,\n",
      "Kelli\n",
      "x3-75\n",
      "\n"
     ]
    },
    {
     "name": "stderr",
     "output_type": "stream",
     "text": [
      "Unused kwargs: ['selective_precision']. These kwargs are not used in <class 'transformers.utils.quantization_config.BitsAndBytesConfig'>.\n",
      "`low_cpu_mem_usage` was None, now set to True since model is quantized.\n"
     ]
    },
    {
     "data": {
      "application/vnd.jupyter.widget-view+json": {
       "model_id": "1d00a6c521fc4f6cb26430601710dbc9",
       "version_major": 2,
       "version_minor": 0
      },
      "text/plain": [
       "Loading checkpoint shards:   0%|          | 0/2 [00:00<?, ?it/s]"
      ]
     },
     "metadata": {},
     "output_type": "display_data"
    },
    {
     "name": "stderr",
     "output_type": "stream",
     "text": [
      " 44%|████▍     | 37/84 [06:08<07:45,  9.91s/it]"
     ]
    },
    {
     "name": "stdout",
     "output_type": "stream",
     "text": [
      "subject: Christmas Office Party\n",
      "urls: True\n",
      "attachments: True\n",
      "sentiment: neutral\n",
      "->\n",
      "body: Please mark your calendars for the Enron Christmas Office Party.  The party will be held at the Embassy Suites Hotel on Friday, December 15th.  The Embassy Suites is located at 1500 North Loop West, Houston, TX 77056.  The cost is $25 per person and includes dinner and drinks.  Please RSVP to me by Thursday, December 14th.  I will send out a more detailed confirmation and directions next week.  If you have any questions, please call me at <PHONE>.\n",
      "\n",
      "Thanks,\n",
      "Lisa\n",
      "\n",
      "Lisa D. Grier\n",
      "Enron North America\n",
      "Office: <PHONE>\n",
      "Fax: <PHONE>\n",
      "Cell: <PHONE>\n",
      "lisa.grier@enron.com\n",
      "\n",
      "__________________________________________________\n",
      "Do You Yahoo!?\n",
      "Yahoo!\n",
      "\n"
     ]
    },
    {
     "name": "stderr",
     "output_type": "stream",
     "text": [
      "Unused kwargs: ['selective_precision']. These kwargs are not used in <class 'transformers.utils.quantization_config.BitsAndBytesConfig'>.\n",
      "`low_cpu_mem_usage` was None, now set to True since model is quantized.\n"
     ]
    },
    {
     "data": {
      "application/vnd.jupyter.widget-view+json": {
       "model_id": "e8fd8c4532a14b6da4f0217f4c5e9d29",
       "version_major": 2,
       "version_minor": 0
      },
      "text/plain": [
       "Loading checkpoint shards:   0%|          | 0/2 [00:00<?, ?it/s]"
      ]
     },
     "metadata": {},
     "output_type": "display_data"
    },
    {
     "name": "stderr",
     "output_type": "stream",
     "text": [
      " 45%|████▌     | 38/84 [06:17<07:29,  9.77s/it]"
     ]
    },
    {
     "name": "stdout",
     "output_type": "stream",
     "text": [
      "subject: Christmas Office Party\n",
      "urls: True\n",
      "sentiment: neutral\n",
      "->\n",
      "body: The Enron Christmas Party is scheduled for Thursday, December 14, from 6:00 - 8:00 p.m. in the Enron Building, Level 2.  \n",
      "\n",
      "Please RSVP by Friday, December 8, to indicate your attendance.  We are requesting that you bring a dish to share.  We will have a small gift exchange for those who attend.  \n",
      "\n",
      "Please forward this message to anyone who may be interested.\n",
      "\n",
      "Thank you,\n",
      "\n",
      "Enron Corporate Communications\n",
      "\n",
      "<Embedded Image>\n",
      "\n",
      "<Embedded Image>\n",
      "\n",
      "<Embedded Image>\n",
      "\n",
      "<Embedded Image>\n",
      "\n",
      "<Embedded Image>\n",
      "\n",
      "<Embedded Image>\n",
      "\n",
      "<Embedded Image>\n",
      "\n",
      "<Embedded Image>\n",
      "\n",
      "<Embedded Image>\n",
      "\n",
      "<Embedded Image>\n",
      "\n",
      "<Embedded Image>\n",
      "\n",
      "<Embedded Image>\n",
      "\n",
      "<Embedded Image>\n",
      "\n",
      "<Embedded Image\n",
      "\n"
     ]
    },
    {
     "name": "stderr",
     "output_type": "stream",
     "text": [
      "Unused kwargs: ['selective_precision']. These kwargs are not used in <class 'transformers.utils.quantization_config.BitsAndBytesConfig'>.\n",
      "`low_cpu_mem_usage` was None, now set to True since model is quantized.\n"
     ]
    },
    {
     "data": {
      "application/vnd.jupyter.widget-view+json": {
       "model_id": "ee69a6cb9b7f45b1b8d158ffbf7fc782",
       "version_major": 2,
       "version_minor": 0
      },
      "text/plain": [
       "Loading checkpoint shards:   0%|          | 0/2 [00:00<?, ?it/s]"
      ]
     },
     "metadata": {},
     "output_type": "display_data"
    },
    {
     "name": "stderr",
     "output_type": "stream",
     "text": [
      " 46%|████▋     | 39/84 [06:28<07:29,  9.99s/it]"
     ]
    },
    {
     "name": "stdout",
     "output_type": "stream",
     "text": [
      "subject: Christmas Office Party\n",
      "attachments: True\n",
      "sentiment: neutral\n",
      "->\n",
      "body: Dear Members of the Enron Corporation,\n",
      "\n",
      "As we approach the holidays, the Enron Corporation would like to invite all employees to join us for the Christmas Office Party.  This event is scheduled for Friday, December 15, 1999 from 6:00 PM to 10:00 PM at the Hyatt Regency Houston.  The cost of the event will be $35 per person.  This includes dinner and dancing.  The event will be catered by the Hyatt Regency Houston.  \n",
      "\n",
      "The dress code for the party is business casual.  We look forward to seeing you there.\n",
      "\n",
      "Sincerely,\n",
      "\n",
      "J. Scott Wilson\n",
      "President\n",
      "\n",
      " <ATTACHMENT> \n",
      "\n",
      " <ATTACHMENT> \n",
      "\n",
      " <ATTACHMENT> \n",
      "\n",
      " <ATTACHMENT> \n",
      "\n",
      " <ATTACHMENT> \n",
      "\n",
      " <ATTACHMENT> \n",
      "\n",
      " <ATTACHMENT> \n",
      "\n",
      " <ATTACHMENT> \n",
      "\n",
      " <ATTACHMENT> \n",
      "\n"
     ]
    },
    {
     "name": "stderr",
     "output_type": "stream",
     "text": [
      "Unused kwargs: ['selective_precision']. These kwargs are not used in <class 'transformers.utils.quantization_config.BitsAndBytesConfig'>.\n",
      "`low_cpu_mem_usage` was None, now set to True since model is quantized.\n"
     ]
    },
    {
     "data": {
      "application/vnd.jupyter.widget-view+json": {
       "model_id": "95813e33b8a74db5b4d2d1421b65d8aa",
       "version_major": 2,
       "version_minor": 0
      },
      "text/plain": [
       "Loading checkpoint shards:   0%|          | 0/2 [00:00<?, ?it/s]"
      ]
     },
     "metadata": {},
     "output_type": "display_data"
    },
    {
     "name": "stderr",
     "output_type": "stream",
     "text": [
      " 48%|████▊     | 40/84 [06:37<07:17,  9.94s/it]"
     ]
    },
    {
     "name": "stdout",
     "output_type": "stream",
     "text": [
      "subject: Christmas Office Party\n",
      "sentiment: neutral\n",
      "->\n",
      "body: I have received a few questions about the Christmas party.  Here is the information.\n",
      "\n",
      "Date:  Wednesday, <DATE>\n",
      "Time:  6:00 p.m.  (Dinner at 6:30 p.m.)\n",
      "Location:  The Embassy Suites, 5000 Lakeside Blvd., Houston, TX  77090\n",
      "Cost:  $30 per person\n",
      "Menu:  Hors d'oeuvres followed by a buffet dinner.\n",
      "Dress:  Business casual.  No tuxedos or evening dresses.\n",
      "\n",
      "If you have any questions, please call me at <PHONE>.  If you need to cancel, please do so no later than <DATE>.\n",
      "\n",
      "Thanks,\n",
      "Nancy\n",
      "x32466\n",
      "\n",
      " \n",
      "\n",
      "Nancy D. Lee\n",
      "Director, Human Resources\n",
      "Enron Corp.\n",
      "<PHONE>\n",
      "\n",
      "\n"
     ]
    },
    {
     "name": "stderr",
     "output_type": "stream",
     "text": [
      "Unused kwargs: ['selective_precision']. These kwargs are not used in <class 'transformers.utils.quantization_config.BitsAndBytesConfig'>.\n",
      "`low_cpu_mem_usage` was None, now set to True since model is quantized.\n"
     ]
    },
    {
     "data": {
      "application/vnd.jupyter.widget-view+json": {
       "model_id": "ae46934e9423490fada3fe458b36f6ef",
       "version_major": 2,
       "version_minor": 0
      },
      "text/plain": [
       "Loading checkpoint shards:   0%|          | 0/2 [00:00<?, ?it/s]"
      ]
     },
     "metadata": {},
     "output_type": "display_data"
    },
    {
     "name": "stderr",
     "output_type": "stream",
     "text": [
      " 49%|████▉     | 41/84 [06:47<06:58,  9.73s/it]"
     ]
    },
    {
     "name": "stdout",
     "output_type": "stream",
     "text": [
      "subject: Christmas Office Party\n",
      "urls: True\n",
      "attachments: True\n",
      "sentiment: anger\n",
      "->\n",
      "body: The holidays are fast approaching and we are planning a Christmas office party.  \n",
      "We are looking for your input on the following:\n",
      "\n",
      "Date: <DATE>\n",
      "Time: 6:00 p.m. to 10:00 p.m.\n",
      "Location: The Ritz-Carlton Hotel\n",
      "Cost: $10 per person\n",
      "\n",
      "Please let me know your thoughts.  If you have any questions, please call me at \n",
      "713/853-6681.\n",
      "\n",
      "Thanks!\n",
      "\n",
      "Mary\n",
      "x3366\n",
      "\n",
      " <ATTACHMENT> \n",
      "\n",
      " <ATTACHMENT> \n",
      "\n",
      " <ATTACHMENT> \n",
      "\n",
      " <ATTACHMENT> \n",
      "\n",
      " <ATTACHMENT> \n",
      "\n",
      " <ATTACHMENT> \n",
      "\n",
      " <ATTACHMENT> \n",
      "\n",
      " <ATTACHMENT> \n",
      "\n",
      " <ATTACHMENT> \n",
      "\n",
      " <ATTACHMENT> \n",
      "\n",
      " <ATTACHMENT> \n",
      "\n",
      " <ATTACHMENT> \n",
      "\n",
      " <ATTACHMENT> \n",
      "\n",
      " \n",
      "\n"
     ]
    },
    {
     "name": "stderr",
     "output_type": "stream",
     "text": [
      "Unused kwargs: ['selective_precision']. These kwargs are not used in <class 'transformers.utils.quantization_config.BitsAndBytesConfig'>.\n",
      "`low_cpu_mem_usage` was None, now set to True since model is quantized.\n"
     ]
    },
    {
     "data": {
      "application/vnd.jupyter.widget-view+json": {
       "model_id": "dca6a4a17f814658bf660349ad25b962",
       "version_major": 2,
       "version_minor": 0
      },
      "text/plain": [
       "Loading checkpoint shards:   0%|          | 0/2 [00:00<?, ?it/s]"
      ]
     },
     "metadata": {},
     "output_type": "display_data"
    },
    {
     "name": "stderr",
     "output_type": "stream",
     "text": [
      " 50%|█████     | 42/84 [06:58<07:08, 10.21s/it]"
     ]
    },
    {
     "name": "stdout",
     "output_type": "stream",
     "text": [
      "subject: Christmas Office Party\n",
      "urls: True\n",
      "sentiment: anger\n",
      "->\n",
      "body: Dear Friends,\n",
      " \n",
      "We are planning a Christmas Office Party.  The date is Thursday, December 18th.  \n",
      " \n",
      "The location is the Sheraton Hotel in downtown Houston.  The party will be \n",
      "from 6:00 - 10:00 pm.  The cost is $50 per person.  This includes a \n",
      "three course dinner and some drinks.  There will be a cash bar as well.  \n",
      " \n",
      "This is a very special party for us.  We have been in the same office for \n",
      "over 20 years.  We are a very close group of people.  We want to celebrate \n",
      "this special occasion with you.  \n",
      " \n",
      "Please RSVP to me as soon as possible.  I will be calling some people to \n",
      "reserve a\n",
      "\n"
     ]
    },
    {
     "name": "stderr",
     "output_type": "stream",
     "text": [
      "Unused kwargs: ['selective_precision']. These kwargs are not used in <class 'transformers.utils.quantization_config.BitsAndBytesConfig'>.\n",
      "`low_cpu_mem_usage` was None, now set to True since model is quantized.\n"
     ]
    },
    {
     "data": {
      "application/vnd.jupyter.widget-view+json": {
       "model_id": "468d2d63c8cb41a49bb09d4c4085e36e",
       "version_major": 2,
       "version_minor": 0
      },
      "text/plain": [
       "Loading checkpoint shards:   0%|          | 0/2 [00:00<?, ?it/s]"
      ]
     },
     "metadata": {},
     "output_type": "display_data"
    },
    {
     "name": "stderr",
     "output_type": "stream",
     "text": [
      " 51%|█████     | 43/84 [07:08<06:57, 10.19s/it]"
     ]
    },
    {
     "name": "stdout",
     "output_type": "stream",
     "text": [
      "subject: Christmas Office Party\n",
      "attachments: True\n",
      "sentiment: anger\n",
      "->\n",
      "body: Hello everyone,\n",
      "\n",
      "I hope you're all enjoying the holidays.  I'm writing to ask you to please\n",
      "let me know if you plan to attend the Christmas office party on Wednesday,\n",
      "December 22.  I'm hoping that the party will be a small affair, so if you\n",
      "can't make it, please let me know.  I'm going to try to get a list of names\n",
      "of those who are attending.\n",
      "\n",
      "The party will be at the DoubleTree Hotel, at 6:30.  The address is 100\n",
      "North Lakefront Drive, in downtown Houston.  The hotel is located in the\n",
      "downtown convention district.  The DoubleTree is just a few blocks south of\n",
      "the Galleria and the Houston Galleria mall.  The hotel is in the heart of\n",
      "downtown\n",
      "\n"
     ]
    },
    {
     "name": "stderr",
     "output_type": "stream",
     "text": [
      "Unused kwargs: ['selective_precision']. These kwargs are not used in <class 'transformers.utils.quantization_config.BitsAndBytesConfig'>.\n",
      "`low_cpu_mem_usage` was None, now set to True since model is quantized.\n"
     ]
    },
    {
     "data": {
      "application/vnd.jupyter.widget-view+json": {
       "model_id": "2a92820d5e974a368752aa3f48f4ad70",
       "version_major": 2,
       "version_minor": 0
      },
      "text/plain": [
       "Loading checkpoint shards:   0%|          | 0/2 [00:00<?, ?it/s]"
      ]
     },
     "metadata": {},
     "output_type": "display_data"
    },
    {
     "name": "stderr",
     "output_type": "stream",
     "text": [
      " 52%|█████▏    | 44/84 [07:18<06:38,  9.97s/it]"
     ]
    },
    {
     "name": "stdout",
     "output_type": "stream",
     "text": [
      "subject: Christmas Office Party\n",
      "sentiment: anger\n",
      "->\n",
      "body: Dear Friends,\n",
      "\n",
      "Please join us for our annual Christmas Office Party on Friday, <DATE> from 5:00 to 7:00 pm at the Hyatt Regency in Houston.  The cost is $25.00 per person and includes dinner and drinks.  The Hyatt will provide transportation to and from the party.  We have a great line up of music and entertainment and will be providing food and drinks for the entire party.  \n",
      "\n",
      "We will be providing a shuttle to and from the Hyatt to the Galleria at 4:00 pm.  We will be leaving from the Hyatt at 4:00 pm and will return to the Hyatt at 6:00 pm.  The shuttle will be leaving the Galleria at 5:45 pm and returning to the Hyatt at 7:00 pm.  \n",
      "\n",
      "We have a\n",
      "\n"
     ]
    },
    {
     "name": "stderr",
     "output_type": "stream",
     "text": [
      "Unused kwargs: ['selective_precision']. These kwargs are not used in <class 'transformers.utils.quantization_config.BitsAndBytesConfig'>.\n",
      "`low_cpu_mem_usage` was None, now set to True since model is quantized.\n"
     ]
    },
    {
     "data": {
      "application/vnd.jupyter.widget-view+json": {
       "model_id": "5e6742e5f3a842a3817e0cffccdf3269",
       "version_major": 2,
       "version_minor": 0
      },
      "text/plain": [
       "Loading checkpoint shards:   0%|          | 0/2 [00:00<?, ?it/s]"
      ]
     },
     "metadata": {},
     "output_type": "display_data"
    },
    {
     "name": "stderr",
     "output_type": "stream",
     "text": [
      " 54%|█████▎    | 45/84 [07:28<06:36, 10.16s/it]"
     ]
    },
    {
     "name": "stdout",
     "output_type": "stream",
     "text": [
      "subject: Christmas Office Party\n",
      "urls: True\n",
      "attachments: True\n",
      "sentiment: fear\n",
      "->\n",
      "body: We are planning a Christmas Office Party for Friday, December 14th.  The party will be held at the Sheraton at the Galleria.  We are planning on having dinner at 5:30, followed by a dance party.  The cost will be $25 per person.  We are hoping that you will be able to attend.  If you are interested, please let me know by email.  \n",
      "\n",
      "Thank you,\n",
      "\n",
      "Jennifer\n",
      "Enron North America\n",
      "Power and Gas Pricing\n",
      "<PHONE>\n",
      "jennifer.h.davis@enron.com\n",
      "\n",
      "\n",
      " \n",
      "\n",
      " \n",
      "\n",
      " \n",
      "\n",
      " \n",
      "\n",
      " \n",
      "\n",
      " \n",
      "\n",
      " \n",
      "\n",
      " \n",
      "\n",
      " \n",
      "\n",
      " \n",
      "\n",
      " \n",
      "\n",
      " \n",
      "\n",
      " \n",
      "\n",
      " \n",
      "\n",
      " \n",
      "\n",
      " \n",
      "\n",
      " \n",
      "\n",
      " \n",
      "\n",
      " \n",
      "\n",
      " \n",
      "\n",
      " \n",
      "\n",
      " \n",
      "\n",
      " \n",
      "\n",
      " \n",
      "\n",
      " \n",
      "\n",
      " \n",
      "\n",
      " \n",
      "\n"
     ]
    },
    {
     "name": "stderr",
     "output_type": "stream",
     "text": [
      "Unused kwargs: ['selective_precision']. These kwargs are not used in <class 'transformers.utils.quantization_config.BitsAndBytesConfig'>.\n",
      "`low_cpu_mem_usage` was None, now set to True since model is quantized.\n"
     ]
    },
    {
     "data": {
      "application/vnd.jupyter.widget-view+json": {
       "model_id": "bc139024eb9e46d590c82d65d52c24e5",
       "version_major": 2,
       "version_minor": 0
      },
      "text/plain": [
       "Loading checkpoint shards:   0%|          | 0/2 [00:00<?, ?it/s]"
      ]
     },
     "metadata": {},
     "output_type": "display_data"
    },
    {
     "name": "stderr",
     "output_type": "stream",
     "text": [
      " 55%|█████▍    | 46/84 [07:38<06:16,  9.91s/it]"
     ]
    },
    {
     "name": "stdout",
     "output_type": "stream",
     "text": [
      "subject: Christmas Office Party\n",
      "urls: True\n",
      "sentiment: fear\n",
      "->\n",
      "body: Here is the link to the Christmas Office Party.  The link is:\n",
      "\n",
      "<URL>\n",
      "\n",
      "Please RSVP.\n",
      "\n",
      "Thanks,\n",
      "\n",
      "Kim\n",
      "HR, Enron Wholesale Services\n",
      "<PHONE>\n",
      "kim.s.hager@enron.com\n",
      "\n",
      "<Embedded Picture (Metafile)>\n",
      "\n",
      "<Embedded Picture (Metafile)>\n",
      "\n",
      "<Embedded Picture (Metafile)>\n",
      "\n",
      "<Embedded Picture (Metafile)>\n",
      "\n",
      "<Embedded Picture (Metafile)>\n",
      "\n",
      "<Embedded Picture (Metafile)>\n",
      "\n",
      "<Embedded Picture (Metafile)>\n",
      "\n",
      "<Embedded Picture (Metafile)>\n",
      "\n",
      "<Embedded Picture (Metafile)>\n",
      "\n",
      "<Embedded Picture (Metafile)>\n",
      "\n",
      "<Embedded Picture (Metafile)>\n",
      "\n",
      "<Embedded Picture (Metafile)>\n",
      "\n",
      "<Embedded Picture (Metafile)>\n",
      "\n",
      "<Embedded Picture (Metafile)>\n",
      "\n",
      "<Embedded Picture (Metafile)>\n",
      "\n",
      "<Embedded Picture (Meta\n",
      "\n"
     ]
    },
    {
     "name": "stderr",
     "output_type": "stream",
     "text": [
      "Unused kwargs: ['selective_precision']. These kwargs are not used in <class 'transformers.utils.quantization_config.BitsAndBytesConfig'>.\n",
      "`low_cpu_mem_usage` was None, now set to True since model is quantized.\n"
     ]
    },
    {
     "data": {
      "application/vnd.jupyter.widget-view+json": {
       "model_id": "2229378e61e147b89e4928db7b2180b7",
       "version_major": 2,
       "version_minor": 0
      },
      "text/plain": [
       "Loading checkpoint shards:   0%|          | 0/2 [00:00<?, ?it/s]"
      ]
     },
     "metadata": {},
     "output_type": "display_data"
    },
    {
     "name": "stderr",
     "output_type": "stream",
     "text": [
      " 56%|█████▌    | 47/84 [07:47<06:04,  9.86s/it]"
     ]
    },
    {
     "name": "stdout",
     "output_type": "stream",
     "text": [
      "subject: Christmas Office Party\n",
      "attachments: True\n",
      "sentiment: fear\n",
      "->\n",
      "body: The Christmas Office Party will be held on Thursday, December 17, in the\n",
      "Conference Room.  The party will begin at 5:30 p.m. and end at 7:30 p.m.  The\n",
      "cost will be $10.00 per person.  The party will include food, drinks, and\n",
      "entertainment.  The party will be catered by the Embassy's caterer.  If you\n",
      "have any questions, please contact me at <PHONE>.  Please RSVP to me\n",
      "by Monday, December 14.\n",
      "\n",
      "Regards,\n",
      "\n",
      "Nancy\n",
      "Administrative Assistant\n",
      "US Embassy in Moscow\n",
      "tel:  +7 <PHONE>\n",
      "fax: +7 <PHONE>\n",
      "e-mail:  nancy.barnes@state.gov\n",
      "\n",
      " <ATTACHMENT>  << Christmas Office Party >>\n",
      "\n",
      " <ATTACHMENT>\n",
      "\n"
     ]
    },
    {
     "name": "stderr",
     "output_type": "stream",
     "text": [
      "Unused kwargs: ['selective_precision']. These kwargs are not used in <class 'transformers.utils.quantization_config.BitsAndBytesConfig'>.\n",
      "`low_cpu_mem_usage` was None, now set to True since model is quantized.\n"
     ]
    },
    {
     "data": {
      "application/vnd.jupyter.widget-view+json": {
       "model_id": "61ca3874a97647199632d0e4843deb57",
       "version_major": 2,
       "version_minor": 0
      },
      "text/plain": [
       "Loading checkpoint shards:   0%|          | 0/2 [00:00<?, ?it/s]"
      ]
     },
     "metadata": {},
     "output_type": "display_data"
    },
    {
     "name": "stderr",
     "output_type": "stream",
     "text": [
      " 57%|█████▋    | 48/84 [07:58<06:07, 10.21s/it]"
     ]
    },
    {
     "name": "stdout",
     "output_type": "stream",
     "text": [
      "subject: Christmas Office Party\n",
      "sentiment: fear\n",
      "->\n",
      "body: I'm sure everyone is looking forward to the Christmas Office Party.  I know I am.  I hope you'll all come out and have a great time.  I'll see you all there.\n",
      "\n",
      "~Beth\n",
      "\n",
      "Beth L. Moore\n",
      "Enron North America\n",
      "<PHONE>\n",
      "<PHONE> Fax\n",
      "Beth.Moore@enron.com <mailto:Beth.Moore@enron.com>\n",
      "www.enron.com/northamerica <http://enron.com/northamerica>\n",
      "\n",
      " \n",
      " \n",
      " \n",
      " \n",
      " \n",
      " \n",
      " \n",
      " \n",
      " \n",
      " \n",
      " \n",
      " \n",
      " \n",
      " \n",
      " \n",
      " \n",
      " \n",
      " \n",
      " \n",
      " \n",
      " \n",
      " \n",
      " \n",
      " \n",
      " \n",
      " \n",
      " \n",
      " \n",
      " \n",
      " \n",
      " \n",
      " \n",
      " \n",
      " \n",
      " \n",
      " \n",
      "\n",
      "\n"
     ]
    },
    {
     "name": "stderr",
     "output_type": "stream",
     "text": [
      "Unused kwargs: ['selective_precision']. These kwargs are not used in <class 'transformers.utils.quantization_config.BitsAndBytesConfig'>.\n",
      "`low_cpu_mem_usage` was None, now set to True since model is quantized.\n"
     ]
    },
    {
     "data": {
      "application/vnd.jupyter.widget-view+json": {
       "model_id": "3c09896dbe404c91a23ce7573fcac753",
       "version_major": 2,
       "version_minor": 0
      },
      "text/plain": [
       "Loading checkpoint shards:   0%|          | 0/2 [00:00<?, ?it/s]"
      ]
     },
     "metadata": {},
     "output_type": "display_data"
    },
    {
     "name": "stderr",
     "output_type": "stream",
     "text": [
      " 58%|█████▊    | 49/84 [08:08<05:53, 10.10s/it]"
     ]
    },
    {
     "name": "stdout",
     "output_type": "stream",
     "text": [
      "subject: Christmas Office Party\n",
      "urls: True\n",
      "attachments: True\n",
      "sentiment: surprise\n",
      "->\n",
      "body: I have a suggestion for the Christmas office party.  Instead of having a party,\n",
      "just give everyone a check for $500.  We could all use a little extra cash at this\n",
      "time of year.  I think this would be a fun idea.  How about it?  If you don't\n",
      "like the idea, don't send me a reply.  I'm just throwing it out there.  Thanks.\n",
      "\n",
      "<applet>\n",
      "<param name=\"code\" value=\"\n",
      "\t<embed></embed>\n",
      "\t<embed></embed>\n",
      "\t<embed></embed>\n",
      "\t<embed></embed>\n",
      "\t<embed></embed>\n",
      "\t<embed></embed>\n",
      "\t<embed></embed>\n",
      "\t<embed></embed>\n",
      "\t<embed></embed>\n",
      "\n",
      "\n"
     ]
    },
    {
     "name": "stderr",
     "output_type": "stream",
     "text": [
      "Unused kwargs: ['selective_precision']. These kwargs are not used in <class 'transformers.utils.quantization_config.BitsAndBytesConfig'>.\n",
      "`low_cpu_mem_usage` was None, now set to True since model is quantized.\n"
     ]
    },
    {
     "data": {
      "application/vnd.jupyter.widget-view+json": {
       "model_id": "08bc8a0a7a05492f93fad55f17bebbc9",
       "version_major": 2,
       "version_minor": 0
      },
      "text/plain": [
       "Loading checkpoint shards:   0%|          | 0/2 [00:00<?, ?it/s]"
      ]
     },
     "metadata": {},
     "output_type": "display_data"
    },
    {
     "name": "stderr",
     "output_type": "stream",
     "text": [
      " 60%|█████▉    | 50/84 [08:17<05:35,  9.85s/it]"
     ]
    },
    {
     "name": "stdout",
     "output_type": "stream",
     "text": [
      "subject: Christmas Office Party\n",
      "urls: True\n",
      "sentiment: surprise\n",
      "->\n",
      "body: We are planning a Christmas office party on Thursday, December 16, at the Sheraton Hotel in Houston.  We'll be at the same time as the Houston Oilers, so the party should be a lot of fun.  Please RSVP to me by Friday, December 10, so we can get an idea of how many people will be coming.  I'll send out more details as the party gets closer.\n",
      "\n",
      "Thanks,\n",
      "Jeff\n",
      "Jeff D. Schlom\n",
      "Senior Vice President\n",
      "Enron Net Works LLC\n",
      "<PHONE>\n",
      "<PHONE> (cell)\n",
      "<PHONE> (fax)\n",
      "jschlom@enron.com\n",
      "\n",
      "This message is the property of Enron Net Works LLC.  This message may contain confidential and/or privileged information.  If you are not the intended recipient, you are hereby notified that any review, dissemination,\n",
      "\n"
     ]
    },
    {
     "name": "stderr",
     "output_type": "stream",
     "text": [
      "Unused kwargs: ['selective_precision']. These kwargs are not used in <class 'transformers.utils.quantization_config.BitsAndBytesConfig'>.\n",
      "`low_cpu_mem_usage` was None, now set to True since model is quantized.\n"
     ]
    },
    {
     "data": {
      "application/vnd.jupyter.widget-view+json": {
       "model_id": "0a5ccdc7c9ea4f7183d2e79b9186afba",
       "version_major": 2,
       "version_minor": 0
      },
      "text/plain": [
       "Loading checkpoint shards:   0%|          | 0/2 [00:00<?, ?it/s]"
      ]
     },
     "metadata": {},
     "output_type": "display_data"
    },
    {
     "name": "stderr",
     "output_type": "stream",
     "text": [
      " 61%|██████    | 51/84 [08:28<05:31, 10.05s/it]"
     ]
    },
    {
     "name": "stdout",
     "output_type": "stream",
     "text": [
      "subject: Christmas Office Party\n",
      "attachments: True\n",
      "sentiment: surprise\n",
      "->\n",
      "body: I am wondering if anyone is interested in going to the Christmas Office Party at the Hyatt Regency on Friday, <DATE>.  I have been told that it is going to be a lot of fun and there will be a DJ, etc.  I will let you know more details as they become available.  I think we should go as a group.  If you are interested, please let me know by email.  I have already reserved a room for the night.  I will send out more information as we get closer to the date.\n",
      "\n",
      " <ATTACHMENT> \n",
      "\n",
      " <ATTACHMENT> \n",
      "\n",
      " <ATTACHMENT> \n",
      "\n",
      " <ATTACHMENT> \n",
      "\n",
      " <ATTACHMENT> \n",
      "\n",
      " <ATTACHMENT> \n",
      "\n",
      " <ATTACHMENT> \n",
      "\n",
      " <ATTACHMENT> \n",
      "\n",
      " <ATTACHMENT> \n",
      "\n",
      " <ATTACHMENT> \n",
      "\n",
      " <ATTACHMENT> \n",
      "\n",
      " <ATTACHMENT> \n",
      "\n",
      " <ATTACHMENT> \n",
      "\n",
      " <ATTACHMENT> \n",
      "\n",
      " <ATTACHMENT> \n",
      "\n",
      " <ATTACHMENT>\n",
      "\n"
     ]
    },
    {
     "name": "stderr",
     "output_type": "stream",
     "text": [
      "Unused kwargs: ['selective_precision']. These kwargs are not used in <class 'transformers.utils.quantization_config.BitsAndBytesConfig'>.\n",
      "`low_cpu_mem_usage` was None, now set to True since model is quantized.\n"
     ]
    },
    {
     "data": {
      "application/vnd.jupyter.widget-view+json": {
       "model_id": "4f5a7bbd622842fcbff85dedeb13c7d2",
       "version_major": 2,
       "version_minor": 0
      },
      "text/plain": [
       "Loading checkpoint shards:   0%|          | 0/2 [00:00<?, ?it/s]"
      ]
     },
     "metadata": {},
     "output_type": "display_data"
    },
    {
     "name": "stderr",
     "output_type": "stream",
     "text": [
      " 62%|██████▏   | 52/84 [08:38<05:21, 10.06s/it]"
     ]
    },
    {
     "name": "stdout",
     "output_type": "stream",
     "text": [
      "subject: Christmas Office Party\n",
      "sentiment: surprise\n",
      "->\n",
      "body: Please mark your calendars for the Christmas Office Party.  \n",
      "\n",
      "The party will be held on Friday, December 14th from 5-8pm.  \n",
      "\n",
      "The location will be the Sheraton Hotel in Houston, Texas.\n",
      "\n",
      "The cost of the party will be $20 per person.  The cost includes a buffet dinner, drinks, and a DJ.  \n",
      "\n",
      "Please RSVP to me by Friday, December 7th.  \n",
      "\n",
      "If you are interested in helping with the party, please let me know.  \n",
      "\n",
      "Thanks,\n",
      "\n",
      "Elizabeth \n",
      "\n",
      "Elizabeth H. Johnson\n",
      "Enron North America\n",
      "<PHONE> Fax <PHONE>\n",
      "Elizabeth.johnson@enron.com\n",
      "\n",
      " \n",
      "\n",
      " \n",
      "\n",
      " \n",
      "\n",
      " \n",
      "\n",
      " \n",
      "\n",
      " \n",
      "\n",
      " \n",
      "\n",
      " \n",
      "\n",
      " \n",
      "\n",
      " \n",
      "\n",
      " \n",
      "\n",
      " \n",
      "\n",
      " \n",
      "\n",
      " \n",
      "\n",
      " \n",
      "\n",
      " \n",
      "\n",
      " \n",
      "\n",
      " \n",
      "\n",
      " \n",
      "\n",
      " \n",
      "\n",
      "\n",
      "\n"
     ]
    },
    {
     "name": "stderr",
     "output_type": "stream",
     "text": [
      "Unused kwargs: ['selective_precision']. These kwargs are not used in <class 'transformers.utils.quantization_config.BitsAndBytesConfig'>.\n",
      "`low_cpu_mem_usage` was None, now set to True since model is quantized.\n"
     ]
    },
    {
     "data": {
      "application/vnd.jupyter.widget-view+json": {
       "model_id": "431eda21b14b46c99abd2c5a6ec7b016",
       "version_major": 2,
       "version_minor": 0
      },
      "text/plain": [
       "Loading checkpoint shards:   0%|          | 0/2 [00:00<?, ?it/s]"
      ]
     },
     "metadata": {},
     "output_type": "display_data"
    },
    {
     "name": "stderr",
     "output_type": "stream",
     "text": [
      " 63%|██████▎   | 53/84 [08:48<05:08,  9.95s/it]"
     ]
    },
    {
     "name": "stdout",
     "output_type": "stream",
     "text": [
      "subject: Christmas Office Party\n",
      "urls: True\n",
      "attachments: True\n",
      "sentiment: disgust\n",
      "->\n",
      "body: Hey, I thought I'd send you a quick note to let you know that we're planning a Christmas Office Party.  We're thinking about going to a local restaurant and having dinner with some drinks afterwards.  I'm thinking it might be fun.  I'd like to invite you and your family.  I'll send you an invite later.  I'm thinking about sending you an invitation via email.  I'll send you an email with the details of the party.  Let me know if you're interested.  I'd love to hear your thoughts.  Thanks, and I hope you have a great holiday.  See you soon.\n",
      "\n",
      " \n",
      "\n",
      " \n",
      "\n",
      "Greg \n",
      "\n",
      " <ATTACHMENT> \n",
      "\n",
      " <ATTACHMENT> \n",
      "\n",
      " <ATTACHMENT> \n",
      "\n",
      " <ATTACHMENT> \n",
      "\n",
      " <ATTACHMENT> \n",
      "\n"
     ]
    },
    {
     "name": "stderr",
     "output_type": "stream",
     "text": [
      "Unused kwargs: ['selective_precision']. These kwargs are not used in <class 'transformers.utils.quantization_config.BitsAndBytesConfig'>.\n",
      "`low_cpu_mem_usage` was None, now set to True since model is quantized.\n"
     ]
    },
    {
     "data": {
      "application/vnd.jupyter.widget-view+json": {
       "model_id": "e8f34e0490d54644987e38996051108e",
       "version_major": 2,
       "version_minor": 0
      },
      "text/plain": [
       "Loading checkpoint shards:   0%|          | 0/2 [00:00<?, ?it/s]"
      ]
     },
     "metadata": {},
     "output_type": "display_data"
    },
    {
     "name": "stderr",
     "output_type": "stream",
     "text": [
      " 64%|██████▍   | 54/84 [08:58<05:05, 10.17s/it]"
     ]
    },
    {
     "name": "stdout",
     "output_type": "stream",
     "text": [
      "subject: Christmas Office Party\n",
      "urls: True\n",
      "sentiment: disgust\n",
      "->\n",
      "body: <<URL>\n",
      "<<URL>\n",
      "<<URL>\n",
      "<<URL>\n",
      "<<URL>\n",
      "<<URL>\n",
      "<<URL>\n",
      "<<URL>\n",
      "<<URL>\n",
      "<<URL>\n",
      "<<URL>\n",
      "<<URL>\n",
      "<<URL>\n",
      "<<URL>\n",
      "<<URL>\n",
      "<<URL>\n",
      "<<URL>\n",
      "<<URL>\n",
      "<<URL>\n",
      "<<URL>\n",
      "<<URL>\n",
      "<<URL>\n",
      "<<URL>\n",
      "<<URL>\n",
      "<<URL>\n",
      "<<URL>\n",
      "<<URL>\n",
      "<<URL>\n",
      "<<URL>\n",
      "<<URL>\n",
      "<<URL>\n",
      "<<URL>\n",
      "<<URL>\n",
      "<<URL>\n",
      "<<URL>\n",
      "<<URL>\n",
      "<<URL>\n",
      "<<URL>\n",
      "<<URL>\n",
      "<<URL>\n",
      "<<URL>\n",
      "<<URL>\n",
      "<<URL>\n",
      "<<URL>\n",
      "<<URL>\n",
      "<<URL>\n",
      "<<URL>\n",
      "<<URL>\n",
      "<<URL>\n",
      "<<URL>\n",
      "<<URL>\n",
      "<<URL>\n",
      "<<URL>\n",
      "<<URL>\n",
      "<<URL>\n",
      "<<URL>\n",
      "<<URL>\n",
      "<<URL>\n",
      "\n"
     ]
    },
    {
     "name": "stderr",
     "output_type": "stream",
     "text": [
      "Unused kwargs: ['selective_precision']. These kwargs are not used in <class 'transformers.utils.quantization_config.BitsAndBytesConfig'>.\n",
      "`low_cpu_mem_usage` was None, now set to True since model is quantized.\n"
     ]
    },
    {
     "data": {
      "application/vnd.jupyter.widget-view+json": {
       "model_id": "d24fedac9b3a466c98d6d2fc330d80c5",
       "version_major": 2,
       "version_minor": 0
      },
      "text/plain": [
       "Loading checkpoint shards:   0%|          | 0/2 [00:00<?, ?it/s]"
      ]
     },
     "metadata": {},
     "output_type": "display_data"
    },
    {
     "name": "stderr",
     "output_type": "stream",
     "text": [
      " 65%|██████▌   | 55/84 [09:08<04:52, 10.08s/it]"
     ]
    },
    {
     "name": "stdout",
     "output_type": "stream",
     "text": [
      "subject: Christmas Office Party\n",
      "attachments: True\n",
      "sentiment: disgust\n",
      "->\n",
      "body: Attached is the flyer for the Christmas Office Party.  I hope that you can make it.  The party will be on Friday, December 10th from 6:00-9:00 p.m.  The location will be at the Sheraton Hotel in the ballroom.  I will send out more details next week.\n",
      "\n",
      " <ATTACHMENT> \n",
      "\n",
      "Regards,\n",
      "John\n",
      " <ATTACHMENT> \n",
      " <ATTACHMENT> \n",
      " <ATTACHMENT> \n",
      " <ATTACHMENT> \n",
      " <ATTACHMENT> \n",
      " <ATTACHMENT> \n",
      " <ATTACHMENT> \n",
      " <ATTACHMENT> \n",
      " <ATTACHMENT> \n",
      " <ATTACHMENT> \n",
      " <ATTACHMENT> \n",
      " <ATTACHMENT> \n",
      " <ATTACHMENT> \n",
      " <ATTACHMENT> \n",
      " <ATTACHMENT> \n",
      " <ATTACHMENT> \n",
      " <ATTACHMENT> \n",
      " <ATTACHMENT> \n",
      " <ATTACHMENT> \n",
      " <ATTACHMENT> \n",
      " <ATTACHMENT> \n",
      " <ATTACHMENT> \n",
      " <ATTACHMENT> \n",
      " \n",
      "\n"
     ]
    },
    {
     "name": "stderr",
     "output_type": "stream",
     "text": [
      "Unused kwargs: ['selective_precision']. These kwargs are not used in <class 'transformers.utils.quantization_config.BitsAndBytesConfig'>.\n",
      "`low_cpu_mem_usage` was None, now set to True since model is quantized.\n"
     ]
    },
    {
     "data": {
      "application/vnd.jupyter.widget-view+json": {
       "model_id": "b5f8f67c2d3a4f77b4f73d433df2088b",
       "version_major": 2,
       "version_minor": 0
      },
      "text/plain": [
       "Loading checkpoint shards:   0%|          | 0/2 [00:00<?, ?it/s]"
      ]
     },
     "metadata": {},
     "output_type": "display_data"
    },
    {
     "name": "stderr",
     "output_type": "stream",
     "text": [
      " 67%|██████▋   | 56/84 [09:18<04:38,  9.95s/it]"
     ]
    },
    {
     "name": "stdout",
     "output_type": "stream",
     "text": [
      "subject: Christmas Office Party\n",
      "sentiment: disgust\n",
      "->\n",
      "body: The office Christmas Party is scheduled for Friday, December 14, 2001.  The\n",
      "location will be announced as soon as it is confirmed.  \n",
      "\n",
      "Please plan to attend.  It is a great opportunity for us to get together and\n",
      "have a fun night.  If you have any questions, please call me at <PHONE>.\n",
      "\n",
      "Thanks!\n",
      "\n",
      "Susan\n",
      "x33093\n",
      "\n",
      "Susan D. Taylor\n",
      "Enron North America\n",
      "Legal\n",
      "1400 Smith Street, EB3802\n",
      "Houston, Texas 77002\n",
      "Phone: <PHONE>\n",
      "Fax: <PHONE>\n",
      "E-mail: susan.taylor@enron.com\n",
      "\n",
      "This message is intended for the use of the individual or entity named above\n",
      "and may contain information that is privileged and confidential.  If you\n",
      "are not the\n",
      "\n"
     ]
    },
    {
     "name": "stderr",
     "output_type": "stream",
     "text": [
      "Unused kwargs: ['selective_precision']. These kwargs are not used in <class 'transformers.utils.quantization_config.BitsAndBytesConfig'>.\n",
      "`low_cpu_mem_usage` was None, now set to True since model is quantized.\n"
     ]
    },
    {
     "data": {
      "application/vnd.jupyter.widget-view+json": {
       "model_id": "aeb35625f7b34f489434aa7271e823b5",
       "version_major": 2,
       "version_minor": 0
      },
      "text/plain": [
       "Loading checkpoint shards:   0%|          | 0/2 [00:00<?, ?it/s]"
      ]
     },
     "metadata": {},
     "output_type": "display_data"
    },
    {
     "name": "stderr",
     "output_type": "stream",
     "text": [
      " 68%|██████▊   | 57/84 [09:29<04:36, 10.24s/it]"
     ]
    },
    {
     "name": "stdout",
     "output_type": "stream",
     "text": [
      "subject: Outstanding Invoice\n",
      "urls: True\n",
      "attachments: True\n",
      "sentiment: sadness\n",
      "->\n",
      "body: Dear Mr. Hynes:\n",
      "\n",
      "Thank you for your letter of <DATE>.  I have reviewed the\n",
      "attached\n",
      "invoice and the outstanding balance.  I have no objection to the\n",
      "payment of the invoice.\n",
      "\n",
      "Please do not hesitate to contact me with any questions.\n",
      "\n",
      "Sincerely,\n",
      "\n",
      "John W. Hynes\n",
      "President\n",
      "Enron North America\n",
      "1400 Smith Street\n",
      "Houston, Texas  77002\n",
      "<PHONE>\n",
      "<PHONE> (fax)\n",
      "jhynes@enron.com\n",
      "\n",
      "<attach:ENRON_0911_001.doc>\n",
      "\n",
      "__________________________________________________________________\n",
      "\n",
      "If you are not the signor for this invoice, please forward this e-mail\n",
      "to the signor and ask them to forward a reply to me.  If you have any\n",
      "questions, please call me\n",
      "\n"
     ]
    },
    {
     "name": "stderr",
     "output_type": "stream",
     "text": [
      "Unused kwargs: ['selective_precision']. These kwargs are not used in <class 'transformers.utils.quantization_config.BitsAndBytesConfig'>.\n",
      "`low_cpu_mem_usage` was None, now set to True since model is quantized.\n"
     ]
    },
    {
     "data": {
      "application/vnd.jupyter.widget-view+json": {
       "model_id": "0286a1406a8342dfb433c0aac47ccba8",
       "version_major": 2,
       "version_minor": 0
      },
      "text/plain": [
       "Loading checkpoint shards:   0%|          | 0/2 [00:00<?, ?it/s]"
      ]
     },
     "metadata": {},
     "output_type": "display_data"
    },
    {
     "name": "stderr",
     "output_type": "stream",
     "text": [
      " 69%|██████▉   | 58/84 [09:38<04:19, 10.00s/it]"
     ]
    },
    {
     "name": "stdout",
     "output_type": "stream",
     "text": [
      "subject: Outstanding Invoice\n",
      "urls: True\n",
      "sentiment: sadness\n",
      "->\n",
      "body: Please review the attached invoice.  If you have any questions or concerns, please do not hesitate to call me.  Thanks.\n",
      "\n",
      " \n",
      "\n",
      "Thank you,\n",
      "Mark E. Johnson\n",
      "Sr. Manager, Global Supply Management\n",
      "Enron Net Works LLC\n",
      "1400 Smith Street, EB3801a\n",
      "Houston, TX 77002\n",
      "Office:  <PHONE>\n",
      "Fax:  <PHONE>\n",
      "mark.johnson@enron.com\n",
      "\n",
      "\n",
      "\n",
      "__________________________________________________\n",
      "Do You Yahoo!?\n",
      "Yahoo! Mail is now free!\n",
      "<URL>\n",
      "Get Yahoo! Mail for web-based email\n",
      "<URL>\n",
      "Get Yahoo! Mail for mobile phones\n",
      "<URL>\n",
      "Get Yahoo! Mail for Outlook\n",
      "<URL>\n",
      "\n",
      " \n",
      "\n",
      " \n",
      "\n",
      " \n",
      "\n",
      " \n",
      "\n",
      " \n",
      "\n",
      " \n",
      "\n",
      " \n",
      "\n",
      " \n",
      "\n",
      " \n",
      "\n",
      " \n",
      "\n",
      " \n",
      "\n",
      " \n",
      "\n",
      " \n",
      "\n",
      " \n",
      "\n",
      "\n",
      "\n"
     ]
    },
    {
     "name": "stderr",
     "output_type": "stream",
     "text": [
      "Unused kwargs: ['selective_precision']. These kwargs are not used in <class 'transformers.utils.quantization_config.BitsAndBytesConfig'>.\n",
      "`low_cpu_mem_usage` was None, now set to True since model is quantized.\n"
     ]
    },
    {
     "data": {
      "application/vnd.jupyter.widget-view+json": {
       "model_id": "6706e10c8b574090bcfdc3bc78822dc7",
       "version_major": 2,
       "version_minor": 0
      },
      "text/plain": [
       "Loading checkpoint shards:   0%|          | 0/2 [00:00<?, ?it/s]"
      ]
     },
     "metadata": {},
     "output_type": "display_data"
    },
    {
     "name": "stderr",
     "output_type": "stream",
     "text": [
      " 70%|███████   | 59/84 [09:48<04:07,  9.90s/it]"
     ]
    },
    {
     "name": "stdout",
     "output_type": "stream",
     "text": [
      "subject: Outstanding Invoice\n",
      "attachments: True\n",
      "sentiment: sadness\n",
      "->\n",
      "body: Dear John,\n",
      "\n",
      "I'm very sorry for the delay in getting this to you.  I've been out of the office the past few days.  I had a very busy week, and then I got hit with the flu.  I hope you are feeling better.\n",
      "\n",
      "I'm attaching a copy of the invoice for your review.  I've done my best to make the invoice as clear as possible, but if you have any questions, please don't hesitate to let me know.\n",
      "\n",
      "Thank you,\n",
      "Jennifer\n",
      "\n",
      " <ATTACHMENT> \n",
      "\n",
      "Jennifer A. Johnson\n",
      "Global Procurement Manager\n",
      "Enron Net Works LLC\n",
      "Phone:  <PHONE>\n",
      "Fax:  <PHONE>\n",
      "Email:  jennifer.johnson@enron.com\n",
      "Web:  www.enron.com\n",
      "\n",
      " <ATTACHMENT> \n",
      "\n",
      " <ATTACHMENT> \n",
      "\n",
      " <ATTACHMENT> \n",
      "\n",
      "\n",
      "\n"
     ]
    },
    {
     "name": "stderr",
     "output_type": "stream",
     "text": [
      "Unused kwargs: ['selective_precision']. These kwargs are not used in <class 'transformers.utils.quantization_config.BitsAndBytesConfig'>.\n",
      "`low_cpu_mem_usage` was None, now set to True since model is quantized.\n"
     ]
    },
    {
     "data": {
      "application/vnd.jupyter.widget-view+json": {
       "model_id": "f98abe40053e4eb8afda7ea6a20091ef",
       "version_major": 2,
       "version_minor": 0
      },
      "text/plain": [
       "Loading checkpoint shards:   0%|          | 0/2 [00:00<?, ?it/s]"
      ]
     },
     "metadata": {},
     "output_type": "display_data"
    },
    {
     "name": "stderr",
     "output_type": "stream",
     "text": [
      " 71%|███████▏  | 60/84 [09:59<04:08, 10.36s/it]"
     ]
    },
    {
     "name": "stdout",
     "output_type": "stream",
     "text": [
      "subject: Outstanding Invoice\n",
      "sentiment: sadness\n",
      "->\n",
      "body: We have an outstanding invoice with you.  If you have any questions, please call me.\n",
      "\n",
      "Thanks,\n",
      "Mark\n",
      "x36141\n",
      "\n",
      "********************************************************************************************************************************************************************************************************************************************************************************************************************************************************************************************************************************************************************************************************************************************************************************************************************************************************************************************************************************************************************************************************************************************************************************************************************************************************************************************************************************************************************************************************************************************************************************************************************************************************************************************************************************************************************************************************************************************************************************************************************************************************************************************************************************************************************************************************************************************************************************************************************************************************************************************************************************************************************************************************************************************************************************************************************************************************************************************************************************************************************************************************************************************************************************************************************************\n",
      "\n"
     ]
    },
    {
     "name": "stderr",
     "output_type": "stream",
     "text": [
      "Unused kwargs: ['selective_precision']. These kwargs are not used in <class 'transformers.utils.quantization_config.BitsAndBytesConfig'>.\n",
      "`low_cpu_mem_usage` was None, now set to True since model is quantized.\n"
     ]
    },
    {
     "data": {
      "application/vnd.jupyter.widget-view+json": {
       "model_id": "f058a08c404147c6acf28f81f30645e0",
       "version_major": 2,
       "version_minor": 0
      },
      "text/plain": [
       "Loading checkpoint shards:   0%|          | 0/2 [00:00<?, ?it/s]"
      ]
     },
     "metadata": {},
     "output_type": "display_data"
    },
    {
     "name": "stderr",
     "output_type": "stream",
     "text": [
      " 73%|███████▎  | 61/84 [10:09<03:53, 10.15s/it]"
     ]
    },
    {
     "name": "stdout",
     "output_type": "stream",
     "text": [
      "subject: Outstanding Invoice\n",
      "urls: True\n",
      "attachments: True\n",
      "sentiment: joy\n",
      "->\n",
      "body: Dear Client,\n",
      "\n",
      "Please accept our apologies for the delay in sending you this invoice.  We\n",
      "have been trying to contact you via telephone to discuss the status of your\n",
      "invoice.  We have not been able to reach you at your office.\n",
      "\n",
      "Please find attached a copy of our invoice for your review.  If you have\n",
      "any questions, please do not hesitate to call me at <PHONE>.\n",
      "\n",
      "Thank you.\n",
      "\n",
      "Sincerely,\n",
      "\n",
      "Mark G. Lee\n",
      "Vice President\n",
      "Enron Net Works LLC\n",
      " <ATTACHMENT>\n",
      " <ATTACHMENT>\n",
      " <ATTACHMENT>\n",
      " <ATTACHMENT>\n",
      " <ATTACHMENT>\n",
      " <ATTACHMENT>\n",
      " <ATTACHMENT>\n",
      " <ATTACHMENT>\n",
      " <ATTACHMENT>\n",
      " <ATTACHMENT>\n",
      " <ATTACHMENT>\n",
      " <ATTACHMENT>\n",
      " <ATTACHMENT>\n",
      " <ATTACHMENT>\n",
      " <ATTACHMENT>\n",
      " <ATTACHMENT>\n",
      " <ATTACHMENT>\n",
      " <ATTACHMENT>\n",
      " <ATTACHMENT>\n",
      " <ATTACHMENT>\n",
      " <ATTACHMENT>\n",
      " <ATTACHMENT>\n",
      "\n",
      "\n"
     ]
    },
    {
     "name": "stderr",
     "output_type": "stream",
     "text": [
      "Unused kwargs: ['selective_precision']. These kwargs are not used in <class 'transformers.utils.quantization_config.BitsAndBytesConfig'>.\n",
      "`low_cpu_mem_usage` was None, now set to True since model is quantized.\n"
     ]
    },
    {
     "data": {
      "application/vnd.jupyter.widget-view+json": {
       "model_id": "0314ef89272c4184a405a79773ef06c2",
       "version_major": 2,
       "version_minor": 0
      },
      "text/plain": [
       "Loading checkpoint shards:   0%|          | 0/2 [00:00<?, ?it/s]"
      ]
     },
     "metadata": {},
     "output_type": "display_data"
    },
    {
     "name": "stderr",
     "output_type": "stream",
     "text": [
      " 74%|███████▍  | 62/84 [10:19<03:44, 10.22s/it]"
     ]
    },
    {
     "name": "stdout",
     "output_type": "stream",
     "text": [
      "subject: Outstanding Invoice\n",
      "urls: True\n",
      "sentiment: joy\n",
      "->\n",
      "body: Here are the outstanding invoices.  Please review and let me know if you need anything else.  Thanks!\n",
      "\n",
      " \n",
      "\n",
      "<<URL>\n",
      "\n",
      "David E. Martin\n",
      "Enron North America Corp.\n",
      "1400 Smith Street, EB3801a\n",
      "Houston, Texas  77002\n",
      "Phone:  <PHONE>\n",
      "Fax:  <PHONE>\n",
      "david.martin@enron.com\n",
      " \n",
      " \n",
      " \n",
      " \n",
      " \n",
      " \n",
      " \n",
      " \n",
      " \n",
      " \n",
      " \n",
      " \n",
      " \n",
      " \n",
      " \n",
      " \n",
      " \n",
      " \n",
      " \n",
      " \n",
      " \n",
      " \n",
      " \n",
      " \n",
      " \n",
      " \n",
      " \n",
      " \n",
      " \n",
      " \n",
      " \n",
      " \n",
      " \n",
      " \n",
      " \n",
      " \n",
      " \n",
      " \n",
      " \n",
      " \n",
      " \n",
      " \n",
      " \n",
      " \n",
      " \n",
      " \n",
      "\n"
     ]
    },
    {
     "name": "stderr",
     "output_type": "stream",
     "text": [
      "Unused kwargs: ['selective_precision']. These kwargs are not used in <class 'transformers.utils.quantization_config.BitsAndBytesConfig'>.\n",
      "`low_cpu_mem_usage` was None, now set to True since model is quantized.\n"
     ]
    },
    {
     "data": {
      "application/vnd.jupyter.widget-view+json": {
       "model_id": "ae196b32b07e4b6ba2033ced8a8568b4",
       "version_major": 2,
       "version_minor": 0
      },
      "text/plain": [
       "Loading checkpoint shards:   0%|          | 0/2 [00:00<?, ?it/s]"
      ]
     },
     "metadata": {},
     "output_type": "display_data"
    },
    {
     "name": "stderr",
     "output_type": "stream",
     "text": [
      " 75%|███████▌  | 63/84 [10:31<03:39, 10.47s/it]"
     ]
    },
    {
     "name": "stdout",
     "output_type": "stream",
     "text": [
      "subject: Outstanding Invoice\n",
      "attachments: True\n",
      "sentiment: joy\n",
      "->\n",
      "body: Hi,\n",
      "I've just been looking at the list of invoices for the last 30 days.  I\n",
      "see that you have an invoice from my desk that I forgot to pay.  I\n",
      "have attached a check for $2500.00.  Please let me know if you have any\n",
      "questions.\n",
      "\n",
      "Thanks,\n",
      "John\n",
      "\n",
      " <ATTACHMENT> \n",
      "\n",
      "John S. Tye\n",
      "Director, Global Sales\n",
      "Enron Wholesale Services\n",
      "<PHONE>\n",
      "<PHONE> (fax)\n",
      "jtye@enron.com\n",
      " <ATTACHMENT> \n",
      " <ATTACHMENT> \n",
      " <ATTACHMENT> \n",
      " <ATTACHMENT> \n",
      " <ATTACHMENT> \n",
      " <ATTACHMENT> \n",
      " <ATTACHMENT> \n",
      " <ATTACHMENT> \n",
      " <ATTACHMENT> \n",
      " <ATTACHMENT> \n",
      " <ATTACHMENT> \n",
      " <ATTACHMENT> \n",
      " <ATTACHMENT> \n",
      " <ATTACHMENT> \n",
      " <ATTACHMENT> \n",
      " <ATTACHMENT> \n",
      "\n"
     ]
    },
    {
     "name": "stderr",
     "output_type": "stream",
     "text": [
      "Unused kwargs: ['selective_precision']. These kwargs are not used in <class 'transformers.utils.quantization_config.BitsAndBytesConfig'>.\n",
      "`low_cpu_mem_usage` was None, now set to True since model is quantized.\n"
     ]
    },
    {
     "data": {
      "application/vnd.jupyter.widget-view+json": {
       "model_id": "756e34adcd564d809f3e22924c7b2afe",
       "version_major": 2,
       "version_minor": 0
      },
      "text/plain": [
       "Loading checkpoint shards:   0%|          | 0/2 [00:00<?, ?it/s]"
      ]
     },
     "metadata": {},
     "output_type": "display_data"
    },
    {
     "name": "stderr",
     "output_type": "stream",
     "text": [
      " 76%|███████▌  | 64/84 [10:41<03:26, 10.34s/it]"
     ]
    },
    {
     "name": "stdout",
     "output_type": "stream",
     "text": [
      "subject: Outstanding Invoice\n",
      "sentiment: joy\n",
      "->\n",
      "body: Hi,\n",
      "\n",
      "I have been working on a file to send out to you.  I have been\n",
      "unable to locate the original invoice for the following invoice:\n",
      "\n",
      "Invoice # 000000000049377\n",
      "Invoice Date: <DATE>\n",
      "Invoice Due Date: <DATE>\n",
      "Invoice Amount: $2,616.57\n",
      "Invoice Description:  \n",
      "\n",
      "I have attached a copy of the invoice, please let me know if this\n",
      "invoice is still due.  \n",
      "\n",
      "Thank you,\n",
      "\n",
      "Lisa\n",
      "x54556\n",
      "x54557\n",
      "x54558\n",
      "x54559\n",
      "x54560\n",
      "x54561\n",
      "x54562\n",
      "x54563\n",
      "x54564\n",
      "x54\n",
      "\n"
     ]
    },
    {
     "name": "stderr",
     "output_type": "stream",
     "text": [
      "Unused kwargs: ['selective_precision']. These kwargs are not used in <class 'transformers.utils.quantization_config.BitsAndBytesConfig'>.\n",
      "`low_cpu_mem_usage` was None, now set to True since model is quantized.\n"
     ]
    },
    {
     "data": {
      "application/vnd.jupyter.widget-view+json": {
       "model_id": "8454dee5430a4e2d8cb93d1c3d3b2121",
       "version_major": 2,
       "version_minor": 0
      },
      "text/plain": [
       "Loading checkpoint shards:   0%|          | 0/2 [00:00<?, ?it/s]"
      ]
     },
     "metadata": {},
     "output_type": "display_data"
    },
    {
     "name": "stderr",
     "output_type": "stream",
     "text": [
      " 77%|███████▋  | 65/84 [10:50<03:09,  9.98s/it]"
     ]
    },
    {
     "name": "stdout",
     "output_type": "stream",
     "text": [
      "subject: Outstanding Invoice\n",
      "urls: True\n",
      "attachments: True\n",
      "sentiment: neutral\n",
      "->\n",
      "body: The attached invoice is due on <DATE>.  Please call me at <PHONE> if you have any questions.\n",
      "\n",
      "Thanks,\n",
      "Lisa\n",
      "Enron Wholesale Services\n",
      "Office: <PHONE>\n",
      "Fax: <PHONE>\n",
      "lisa.johnson@enron.com\n",
      " \n",
      " \n",
      " \n",
      " \n",
      " \n",
      " \n",
      " \n",
      " \n",
      " \n",
      " \n",
      " \n",
      " \n",
      " \n",
      " \n",
      " \n",
      " \n",
      " \n",
      " \n",
      " \n",
      " \n",
      " \n",
      " \n",
      " \n",
      " \n",
      " \n",
      " \n",
      " \n",
      " \n",
      " \n",
      " \n",
      " \n",
      " \n",
      " \n",
      " \n",
      " \n",
      " \n",
      " \n",
      " \n",
      " \n",
      " \n",
      " \n",
      " \n",
      " \n",
      " \n",
      " \n",
      " \n",
      " \n",
      " \n",
      " \n",
      " \n",
      " \n",
      " \n",
      " \n",
      " \n",
      " \n",
      " \n",
      " \n",
      " \n",
      " \n",
      "\n",
      "\n"
     ]
    },
    {
     "name": "stderr",
     "output_type": "stream",
     "text": [
      "Unused kwargs: ['selective_precision']. These kwargs are not used in <class 'transformers.utils.quantization_config.BitsAndBytesConfig'>.\n",
      "`low_cpu_mem_usage` was None, now set to True since model is quantized.\n"
     ]
    },
    {
     "data": {
      "application/vnd.jupyter.widget-view+json": {
       "model_id": "c19e163b444c4164810ac9033d333245",
       "version_major": 2,
       "version_minor": 0
      },
      "text/plain": [
       "Loading checkpoint shards:   0%|          | 0/2 [00:00<?, ?it/s]"
      ]
     },
     "metadata": {},
     "output_type": "display_data"
    },
    {
     "name": "stderr",
     "output_type": "stream",
     "text": [
      " 79%|███████▊  | 66/84 [11:00<03:01, 10.11s/it]"
     ]
    },
    {
     "name": "stdout",
     "output_type": "stream",
     "text": [
      "subject: Outstanding Invoice\n",
      "urls: True\n",
      "sentiment: neutral\n",
      "->\n",
      "body: Dear Dan,\n",
      " \n",
      "As you know, we are in the process of implementing a new accounting system,\n",
      "which will go live on Friday, <DATE>.  As part of this\n",
      "implementation, we have identified a number of outstanding invoices.  We\n",
      "have been unable to locate a copy of the original invoice, so we are\n",
      "unable to verify the invoice amount.  Therefore, we are requesting that\n",
      "you verify the invoice amount and approve the payment.  Once you have\n",
      "verified the invoice, please forward a copy to me via e-mail.  If you\n",
      "have any questions, please do not hesitate to call me at <PHONE>.  We\n",
      "are looking forward to working with you on this project.\n",
      " \n",
      "Thanks,\n",
      " \n",
      "Karen\n",
      " \n",
      "Karen L. Allen\n",
      "Assistant Vice President, Corporate Accounting\n",
      "Enron Net\n",
      "\n"
     ]
    },
    {
     "name": "stderr",
     "output_type": "stream",
     "text": [
      "Unused kwargs: ['selective_precision']. These kwargs are not used in <class 'transformers.utils.quantization_config.BitsAndBytesConfig'>.\n",
      "`low_cpu_mem_usage` was None, now set to True since model is quantized.\n"
     ]
    },
    {
     "data": {
      "application/vnd.jupyter.widget-view+json": {
       "model_id": "451c53945d28419f87e2672b28b0bcf3",
       "version_major": 2,
       "version_minor": 0
      },
      "text/plain": [
       "Loading checkpoint shards:   0%|          | 0/2 [00:00<?, ?it/s]"
      ]
     },
     "metadata": {},
     "output_type": "display_data"
    },
    {
     "name": "stderr",
     "output_type": "stream",
     "text": [
      " 80%|███████▉  | 67/84 [11:10<02:49,  9.96s/it]"
     ]
    },
    {
     "name": "stdout",
     "output_type": "stream",
     "text": [
      "subject: Outstanding Invoice\n",
      "attachments: True\n",
      "sentiment: neutral\n",
      "->\n",
      "body: Dear Bill,\n",
      "\n",
      "I am writing to inform you that there is an outstanding invoice that has not been paid.  Please see the attached invoice for details.\n",
      "\n",
      "Please contact me at <PHONE> to discuss this invoice.\n",
      "\n",
      "Thanks,\n",
      "David\n",
      "<PHONE>\n",
      "\n",
      " <ATTACHMENT> \n",
      " <ATTACHMENT> \n",
      " <ATTACHMENT> \n",
      " <ATTACHMENT> \n",
      " <ATTACHMENT> \n",
      " <ATTACHMENT> \n",
      " <ATTACHMENT> \n",
      " <ATTACHMENT> \n",
      " <ATTACHMENT> \n",
      " <ATTACHMENT> \n",
      " <ATTACHMENT> \n",
      " <ATTACHMENT> \n",
      " <ATTACHMENT> \n",
      " <ATTACHMENT> \n",
      " <ATTACHMENT> \n",
      " <ATTACHMENT> \n",
      " <ATTACHMENT> \n",
      " <ATTACHMENT> \n",
      " <ATTACHMENT> \n",
      " <ATTACHMENT> \n",
      " <ATTACHMENT> \n",
      " <ATTACHMENT> \n",
      " <ATTACHMENT> \n",
      " <ATTACHMENT> \n",
      " <ATTACHMENT> \n",
      " <ATTACHMENT> \n",
      " <ATTACHMENT> \n",
      " <ATTACHMENT> \n",
      " <ATTACHMENT> \n",
      " <ATTACHMENT> \n",
      " <ATTACHMENT> \n",
      "\n"
     ]
    },
    {
     "name": "stderr",
     "output_type": "stream",
     "text": [
      "Unused kwargs: ['selective_precision']. These kwargs are not used in <class 'transformers.utils.quantization_config.BitsAndBytesConfig'>.\n",
      "`low_cpu_mem_usage` was None, now set to True since model is quantized.\n"
     ]
    },
    {
     "data": {
      "application/vnd.jupyter.widget-view+json": {
       "model_id": "9756e907be944e1e9b7955b2b5f14ec9",
       "version_major": 2,
       "version_minor": 0
      },
      "text/plain": [
       "Loading checkpoint shards:   0%|          | 0/2 [00:00<?, ?it/s]"
      ]
     },
     "metadata": {},
     "output_type": "display_data"
    },
    {
     "name": "stderr",
     "output_type": "stream",
     "text": [
      " 81%|████████  | 68/84 [11:20<02:40, 10.01s/it]"
     ]
    },
    {
     "name": "stdout",
     "output_type": "stream",
     "text": [
      "subject: Outstanding Invoice\n",
      "sentiment: neutral\n",
      "->\n",
      "body: I am a bit late in sending this but I am hoping you can help me.  We have an outstanding invoice from you for the following items:\n",
      "\n",
      "1)  A 2000 invoice dated <DATE> for $21,550.00 for the purchase of a computer.\n",
      "\n",
      "2)  A 2000 invoice dated <DATE> for $13,150.00 for the purchase of a computer.\n",
      "\n",
      "3)  A 2000 invoice dated <DATE> for $14,550.00 for the purchase of a computer.\n",
      "\n",
      "4)  A 2000 invoice dated <DATE> for $14,550.00 for the purchase of a computer.\n",
      "\n",
      "5)  A 2000 invoice dated <DATE> for $14,5\n",
      "\n"
     ]
    },
    {
     "name": "stderr",
     "output_type": "stream",
     "text": [
      "Unused kwargs: ['selective_precision']. These kwargs are not used in <class 'transformers.utils.quantization_config.BitsAndBytesConfig'>.\n",
      "`low_cpu_mem_usage` was None, now set to True since model is quantized.\n"
     ]
    },
    {
     "data": {
      "application/vnd.jupyter.widget-view+json": {
       "model_id": "005225998993453abb86dad8514d9bee",
       "version_major": 2,
       "version_minor": 0
      },
      "text/plain": [
       "Loading checkpoint shards:   0%|          | 0/2 [00:00<?, ?it/s]"
      ]
     },
     "metadata": {},
     "output_type": "display_data"
    },
    {
     "name": "stderr",
     "output_type": "stream",
     "text": [
      " 82%|████████▏ | 69/84 [11:29<02:26,  9.75s/it]"
     ]
    },
    {
     "name": "stdout",
     "output_type": "stream",
     "text": [
      "subject: Outstanding Invoice\n",
      "urls: True\n",
      "attachments: True\n",
      "sentiment: anger\n",
      "->\n",
      "body: Dear Bill,\n",
      "\n",
      "I have just received the following invoice:\n",
      "\n",
      "Invoice Number: 000000000000000000000000000000000000000000000000000000000000000000000000000000000000000000000000000000000000000000000000000000000000000000000000000000000\n",
      "\n"
     ]
    },
    {
     "name": "stderr",
     "output_type": "stream",
     "text": [
      "Unused kwargs: ['selective_precision']. These kwargs are not used in <class 'transformers.utils.quantization_config.BitsAndBytesConfig'>.\n",
      "`low_cpu_mem_usage` was None, now set to True since model is quantized.\n"
     ]
    },
    {
     "data": {
      "application/vnd.jupyter.widget-view+json": {
       "model_id": "2978a0c616014707b831c3f8e3048ccb",
       "version_major": 2,
       "version_minor": 0
      },
      "text/plain": [
       "Loading checkpoint shards:   0%|          | 0/2 [00:00<?, ?it/s]"
      ]
     },
     "metadata": {},
     "output_type": "display_data"
    },
    {
     "name": "stderr",
     "output_type": "stream",
     "text": [
      " 83%|████████▎ | 70/84 [11:38<02:15,  9.65s/it]"
     ]
    },
    {
     "name": "stdout",
     "output_type": "stream",
     "text": [
      "subject: Outstanding Invoice\n",
      "urls: True\n",
      "sentiment: anger\n",
      "->\n",
      "body: Dear Mr. Johnson:\n",
      "\n",
      "I am writing to you because I have not received my invoice for the work you did on my computer.  I have not been able to get a hold of you at all and I am at my wit's end.  I am the owner of a small business and have been trying to get you to return my phone calls for over a week now.  I have tried to get a hold of you at your home and your office.  I have tried to get a hold of you through your secretary and have left numerous messages.  I have even tried to get a hold of you through your personal cell phone and have not been able to reach you.  I am afraid that you have been very busy with other clients and have not been able to return my phone calls.  I would like to know how you are doing and\n",
      "\n"
     ]
    },
    {
     "name": "stderr",
     "output_type": "stream",
     "text": [
      "Unused kwargs: ['selective_precision']. These kwargs are not used in <class 'transformers.utils.quantization_config.BitsAndBytesConfig'>.\n",
      "`low_cpu_mem_usage` was None, now set to True since model is quantized.\n"
     ]
    },
    {
     "data": {
      "application/vnd.jupyter.widget-view+json": {
       "model_id": "9faafdd00cc4453cbce87506fe940417",
       "version_major": 2,
       "version_minor": 0
      },
      "text/plain": [
       "Loading checkpoint shards:   0%|          | 0/2 [00:00<?, ?it/s]"
      ]
     },
     "metadata": {},
     "output_type": "display_data"
    },
    {
     "name": "stderr",
     "output_type": "stream",
     "text": [
      " 85%|████████▍ | 71/84 [11:48<02:05,  9.67s/it]"
     ]
    },
    {
     "name": "stdout",
     "output_type": "stream",
     "text": [
      "subject: Outstanding Invoice\n",
      "attachments: True\n",
      "sentiment: anger\n",
      "->\n",
      "body: Dear Mr. Lee:\n",
      "\n",
      "We are writing to inform you that we have not received payment for the invoice\n",
      "number 10543019.  We are now<DATE>.  Please call me at <PHONE> or\n",
      "email me at <mailto:j.w.smith@enron.com> to discuss this matter.  Thank\n",
      "you.\n",
      "\n",
      "Sincerely,\n",
      "\n",
      "John W. Smith\n",
      "Manager, Contract Management\n",
      "Enron North America Corp.\n",
      "1400 Smith Street, 37th Floor\n",
      "Houston, Texas  77002\n",
      "Phone:  <PHONE>\n",
      "Fax:  <PHONE>\n",
      "E-mail:  <mailto:j.w.smith@enron.com>\n",
      "Web:  <URL>\n",
      "\n",
      " <ATTACHMENT> \n",
      " <ATTACHMENT> \n",
      " <ATTACHMENT> \n",
      " <ATTACHMENT> \n",
      " <ATTACHMENT> \n",
      "\n",
      "\n"
     ]
    },
    {
     "name": "stderr",
     "output_type": "stream",
     "text": [
      "Unused kwargs: ['selective_precision']. These kwargs are not used in <class 'transformers.utils.quantization_config.BitsAndBytesConfig'>.\n",
      "`low_cpu_mem_usage` was None, now set to True since model is quantized.\n"
     ]
    },
    {
     "data": {
      "application/vnd.jupyter.widget-view+json": {
       "model_id": "f31c0ffdf09b4dc0a1c2e8189ec6e075",
       "version_major": 2,
       "version_minor": 0
      },
      "text/plain": [
       "Loading checkpoint shards:   0%|          | 0/2 [00:00<?, ?it/s]"
      ]
     },
     "metadata": {},
     "output_type": "display_data"
    },
    {
     "name": "stderr",
     "output_type": "stream",
     "text": [
      " 86%|████████▌ | 72/84 [11:59<02:00, 10.01s/it]"
     ]
    },
    {
     "name": "stdout",
     "output_type": "stream",
     "text": [
      "subject: Outstanding Invoice\n",
      "sentiment: anger\n",
      "->\n",
      "body: Dear Mr. Wood,\n",
      "\n",
      "I am writing to you to express my displeasure in your company's inability to\n",
      "resolve the invoice outstanding with Enron.  I am a long-time customer of\n",
      "Enron and have been for many years.  I have also been a long-time employee of\n",
      "Enron and have seen the company go through many changes, both good and bad.\n",
      "However, I have never seen such a gross failure to resolve a customer's\n",
      "outstanding invoice.  I have tried to resolve this with your customer service\n",
      "department and have been told that it is up to the \"Credit Dept.\" to resolve\n",
      "the matter.  I have tried to contact the \"Credit Dept.\" and have been told\n",
      "that I must contact you directly.  I have tried to contact you directly and\n",
      "have been told that it is up to your \"Credit Dept\n",
      "\n"
     ]
    },
    {
     "name": "stderr",
     "output_type": "stream",
     "text": [
      "Unused kwargs: ['selective_precision']. These kwargs are not used in <class 'transformers.utils.quantization_config.BitsAndBytesConfig'>.\n",
      "`low_cpu_mem_usage` was None, now set to True since model is quantized.\n"
     ]
    },
    {
     "data": {
      "application/vnd.jupyter.widget-view+json": {
       "model_id": "482fdb799de041ab9840bfd72559292e",
       "version_major": 2,
       "version_minor": 0
      },
      "text/plain": [
       "Loading checkpoint shards:   0%|          | 0/2 [00:00<?, ?it/s]"
      ]
     },
     "metadata": {},
     "output_type": "display_data"
    },
    {
     "name": "stderr",
     "output_type": "stream",
     "text": [
      " 87%|████████▋ | 73/84 [12:09<01:50, 10.02s/it]"
     ]
    },
    {
     "name": "stdout",
     "output_type": "stream",
     "text": [
      "subject: Outstanding Invoice\n",
      "urls: True\n",
      "attachments: True\n",
      "sentiment: fear\n",
      "->\n",
      "body: Dear Mr. Rader,\n",
      "\n",
      "I am writing you to inform you that we have received your invoice dated <DATE>\n",
      "for the amount of $260.00.  The invoice number is 11111.  Please review the attached\n",
      "documents for your reference.\n",
      "\n",
      "Please feel free to contact me at any time if you have any questions.\n",
      "\n",
      "Sincerely,\n",
      "\n",
      "John J. Smith\n",
      "Accountant\n",
      "Enron North America Corp.\n",
      "1400 Smith Street\n",
      "Houston, TX  77002\n",
      "Phone: <PHONE>\n",
      "Fax: <PHONE>\n",
      "E-mail: john.smith@enron.com\n",
      "Web: www.enron.com\n",
      "\n",
      " <ATTACHMENT> \n",
      "\n",
      " <ATTACHMENT> \n",
      "\n",
      " <ATTACHMENT> \n",
      "\n",
      " <ATTACHMENT> \n",
      "\n",
      " <ATTACHMENT> \n",
      "\n",
      " <ATTACHMENT> \n",
      "\n",
      " <ATTACHMENT> \n",
      "\n"
     ]
    },
    {
     "name": "stderr",
     "output_type": "stream",
     "text": [
      "Unused kwargs: ['selective_precision']. These kwargs are not used in <class 'transformers.utils.quantization_config.BitsAndBytesConfig'>.\n",
      "`low_cpu_mem_usage` was None, now set to True since model is quantized.\n"
     ]
    },
    {
     "data": {
      "application/vnd.jupyter.widget-view+json": {
       "model_id": "3fff84451dc840d78390554277e70db9",
       "version_major": 2,
       "version_minor": 0
      },
      "text/plain": [
       "Loading checkpoint shards:   0%|          | 0/2 [00:00<?, ?it/s]"
      ]
     },
     "metadata": {},
     "output_type": "display_data"
    },
    {
     "name": "stderr",
     "output_type": "stream",
     "text": [
      " 88%|████████▊ | 74/84 [12:19<01:39,  9.99s/it]"
     ]
    },
    {
     "name": "stdout",
     "output_type": "stream",
     "text": [
      "subject: Outstanding Invoice\n",
      "urls: True\n",
      "sentiment: fear\n",
      "->\n",
      "body: Dear Sir,\n",
      "\n",
      "I am writing to you regarding the outstanding invoice you sent me on <DATE>.\n",
      "I am in the process of closing my company and I have not had the time to pay it yet.\n",
      "I have not received any invoice from you, but I am sure you would have sent me one.\n",
      "I am attaching my credit card information. Please charge me the amount of $3500.00\n",
      "I will be happy to pay you the amount of $3500.00 as soon as I have received the invoice.\n",
      "Please do not charge me any interest. I will be very grateful.\n",
      "\n",
      "Please do not hesitate to contact me if you have any questions.\n",
      "\n",
      "Best regards,\n",
      "\n",
      "E.S.\n",
      " \n",
      " \n",
      " \n",
      "\n",
      " \n",
      " \n",
      " \n",
      " \n",
      " \n",
      " \n",
      " \n",
      " \n",
      "\n"
     ]
    },
    {
     "name": "stderr",
     "output_type": "stream",
     "text": [
      "Unused kwargs: ['selective_precision']. These kwargs are not used in <class 'transformers.utils.quantization_config.BitsAndBytesConfig'>.\n",
      "`low_cpu_mem_usage` was None, now set to True since model is quantized.\n"
     ]
    },
    {
     "data": {
      "application/vnd.jupyter.widget-view+json": {
       "model_id": "b124834b58454c5ca68afd0913aeb5ae",
       "version_major": 2,
       "version_minor": 0
      },
      "text/plain": [
       "Loading checkpoint shards:   0%|          | 0/2 [00:00<?, ?it/s]"
      ]
     },
     "metadata": {},
     "output_type": "display_data"
    },
    {
     "name": "stderr",
     "output_type": "stream",
     "text": [
      " 89%|████████▉ | 75/84 [12:28<01:28,  9.83s/it]"
     ]
    },
    {
     "name": "stdout",
     "output_type": "stream",
     "text": [
      "subject: Outstanding Invoice\n",
      "attachments: True\n",
      "sentiment: fear\n",
      "->\n",
      "body: Dear John,\n",
      "\n",
      "Please find attached the invoice for your account.  Please call me if you have any questions.\n",
      "\n",
      "Thanks,\n",
      "Lisa\n",
      "\n",
      " <ATTACHMENT> \n",
      " <ATTACHMENT> \n",
      " <ATTACHMENT> \n",
      " <ATTACHMENT> \n",
      " <ATTACHMENT> \n",
      " <ATTACHMENT> \n",
      " <ATTACHMENT> \n",
      " <ATTACHMENT> \n",
      " <ATTACHMENT> \n",
      " <ATTACHMENT> \n",
      " <ATTACHMENT> \n",
      " <ATTACHMENT> \n",
      " <ATTACHMENT> \n",
      " <ATTACHMENT> \n",
      " <ATTACHMENT> \n",
      " <ATTACHMENT> \n",
      " <ATTACHMENT> \n",
      " <ATTACHMENT> \n",
      " <ATTACHMENT> \n",
      " <ATTACHMENT> \n",
      " <ATTACHMENT> \n",
      " <ATTACHMENT> \n",
      " <ATTACHMENT> \n",
      " <ATTACHMENT> \n",
      " <ATTACHMENT> \n",
      " <ATTACHMENT> \n",
      " <ATTACHMENT> \n",
      " <ATTACHMENT> \n",
      " <ATTACHMENT> \n",
      " <ATTACHMENT> \n",
      " <ATTACHMENT> \n",
      " <ATTACHMENT> \n",
      " <ATTACHMENT> \n",
      " <ATTACHMENT> \n",
      " <ATTACHMENT> \n",
      " <ATTACHMENT> \n",
      " \n",
      "\n"
     ]
    },
    {
     "name": "stderr",
     "output_type": "stream",
     "text": [
      "Unused kwargs: ['selective_precision']. These kwargs are not used in <class 'transformers.utils.quantization_config.BitsAndBytesConfig'>.\n",
      "`low_cpu_mem_usage` was None, now set to True since model is quantized.\n"
     ]
    },
    {
     "data": {
      "application/vnd.jupyter.widget-view+json": {
       "model_id": "8c1c93714a02460085796bc27076872b",
       "version_major": 2,
       "version_minor": 0
      },
      "text/plain": [
       "Loading checkpoint shards:   0%|          | 0/2 [00:00<?, ?it/s]"
      ]
     },
     "metadata": {},
     "output_type": "display_data"
    },
    {
     "name": "stderr",
     "output_type": "stream",
     "text": [
      " 90%|█████████ | 76/84 [12:38<01:18,  9.81s/it]"
     ]
    },
    {
     "name": "stdout",
     "output_type": "stream",
     "text": [
      "subject: Outstanding Invoice\n",
      "sentiment: fear\n",
      "->\n",
      "body: Dear Sir,\n",
      "\n",
      "We are writing to inform you that we are unable to pay the invoice you sent to us dated <DATE>.  We are currently experiencing a severe cash shortage and have no choice but to delay payment.  We are still interested in doing business with you, but we need to make sure that we are able to pay you in the future.  Please let us know if we can be of any assistance.\n",
      "\n",
      "Regards,\n",
      "John\n",
      "\n",
      " \n",
      "\n",
      "John H. Scott\n",
      "President\n",
      "Enron Canada Limited\n",
      "Phone: <PHONE>\n",
      "Fax: <PHONE>\n",
      "E-mail: john.scott@enron.com\n",
      "Web: www.enron.com/enroncanada\n",
      "\n",
      " \n",
      "\n",
      "This email and any files transmitted with it are confidential and intended solely for the use of the individual or entity to which they are addressed.  If you have received this in error\n",
      "\n"
     ]
    },
    {
     "name": "stderr",
     "output_type": "stream",
     "text": [
      "Unused kwargs: ['selective_precision']. These kwargs are not used in <class 'transformers.utils.quantization_config.BitsAndBytesConfig'>.\n",
      "`low_cpu_mem_usage` was None, now set to True since model is quantized.\n"
     ]
    },
    {
     "data": {
      "application/vnd.jupyter.widget-view+json": {
       "model_id": "a96dd190e40e42778cc555042d966168",
       "version_major": 2,
       "version_minor": 0
      },
      "text/plain": [
       "Loading checkpoint shards:   0%|          | 0/2 [00:00<?, ?it/s]"
      ]
     },
     "metadata": {},
     "output_type": "display_data"
    },
    {
     "name": "stderr",
     "output_type": "stream",
     "text": [
      " 92%|█████████▏| 77/84 [12:47<01:07,  9.69s/it]"
     ]
    },
    {
     "name": "stdout",
     "output_type": "stream",
     "text": [
      "subject: Outstanding Invoice\n",
      "urls: True\n",
      "attachments: True\n",
      "sentiment: surprise\n",
      "->\n",
      "body: Dear David,\n",
      "\n",
      "I have received your e-mail about the invoice.  I have reviewed the\n",
      "invoice and found no errors.  I am sorry for any confusion this\n",
      "invoice may have caused.  I have attached the invoice to this e-mail\n",
      "for your records.  Please do not hesitate to contact me with any\n",
      "questions.\n",
      "\n",
      "Best Regards,\n",
      "\n",
      "Karen\n",
      "Customer Service\n",
      "Enron Net Works\n",
      "Phone: <PHONE>\n",
      "Fax: <PHONE>\n",
      "E-mail: karen.thomas@enron.com\n",
      "\n",
      "P.S.  I will be on vacation next week, but I will be back in the office\n",
      "on Monday, <DATE>.  If you have any questions or need to\n",
      "contact me during my vacation, please feel free to call me at <PHONE>.\n",
      "Thank you.\n",
      "\n",
      "<<<<Attachment\n",
      "\n"
     ]
    },
    {
     "name": "stderr",
     "output_type": "stream",
     "text": [
      "Unused kwargs: ['selective_precision']. These kwargs are not used in <class 'transformers.utils.quantization_config.BitsAndBytesConfig'>.\n",
      "`low_cpu_mem_usage` was None, now set to True since model is quantized.\n"
     ]
    },
    {
     "data": {
      "application/vnd.jupyter.widget-view+json": {
       "model_id": "71e65fb92c194f88bca81570c2dfe792",
       "version_major": 2,
       "version_minor": 0
      },
      "text/plain": [
       "Loading checkpoint shards:   0%|          | 0/2 [00:00<?, ?it/s]"
      ]
     },
     "metadata": {},
     "output_type": "display_data"
    },
    {
     "name": "stderr",
     "output_type": "stream",
     "text": [
      " 93%|█████████▎| 78/84 [12:59<01:00, 10.10s/it]"
     ]
    },
    {
     "name": "stdout",
     "output_type": "stream",
     "text": [
      "subject: Outstanding Invoice\n",
      "urls: True\n",
      "sentiment: surprise\n",
      "->\n",
      "body: Dear Mr. Deitz,\n",
      "\n",
      "This is to inform you that we have received your invoice.  We have\n",
      "received it and will process it as soon as possible.  Thank you for\n",
      "your patience.\n",
      "\n",
      "Sincerely,\n",
      "\n",
      "The Enron Global Services Team\n",
      "\n",
      "********************************************************************\n",
      "\n",
      "If you have any questions, please contact the Global Services Helpdesk at\n",
      "<PHONE> or email helpdesk@enron.com.\n",
      "\n",
      "********************************************************************\n",
      "\n",
      "Please do not reply to this email address.  If you wish to contact us\n",
      "directly, please use the following contact information:\n",
      "\n",
      "Email:  helpdesk@enron.com\n",
      "Phone:  <PHONE>\n",
      "Fax:  <PHONE>\n",
      "Mail:\n",
      "Enron Global Services Helpdesk\n",
      "PO Box 4122\n",
      "Houston, TX  77258-4122\n",
      "\n",
      "En\n",
      "\n"
     ]
    },
    {
     "name": "stderr",
     "output_type": "stream",
     "text": [
      "Unused kwargs: ['selective_precision']. These kwargs are not used in <class 'transformers.utils.quantization_config.BitsAndBytesConfig'>.\n",
      "`low_cpu_mem_usage` was None, now set to True since model is quantized.\n"
     ]
    },
    {
     "data": {
      "application/vnd.jupyter.widget-view+json": {
       "model_id": "6dc38662081643fa9903b8ab12b04529",
       "version_major": 2,
       "version_minor": 0
      },
      "text/plain": [
       "Loading checkpoint shards:   0%|          | 0/2 [00:00<?, ?it/s]"
      ]
     },
     "metadata": {},
     "output_type": "display_data"
    },
    {
     "name": "stderr",
     "output_type": "stream",
     "text": [
      " 94%|█████████▍| 79/84 [13:08<00:49,  9.96s/it]"
     ]
    },
    {
     "name": "stdout",
     "output_type": "stream",
     "text": [
      "subject: Outstanding Invoice\n",
      "attachments: True\n",
      "sentiment: surprise\n",
      "->\n",
      "body: Dear John,\n",
      "\n",
      "I am sending you an invoice for the following items.  Please review\n",
      "and let me know if you have any questions.  If you have any questions\n",
      "please call me at <PHONE>.  Thank you for your time and\n",
      "patience.\n",
      "\n",
      "1.  $200.00 -  For the work done on the new website.  We are\n",
      "  very happy with the work done by your company.  Please let me know\n",
      "  if you need any additional information.\n",
      "\n",
      "2.  $100.00 -  For the work done on the new logo.  We are very\n",
      "  happy with the work done.  Please let me know if you need any\n",
      "  additional information.\n",
      "\n",
      "3.  $150.00 -  For the work done on the new business cards\n",
      "\n"
     ]
    },
    {
     "name": "stderr",
     "output_type": "stream",
     "text": [
      "Unused kwargs: ['selective_precision']. These kwargs are not used in <class 'transformers.utils.quantization_config.BitsAndBytesConfig'>.\n",
      "`low_cpu_mem_usage` was None, now set to True since model is quantized.\n"
     ]
    },
    {
     "data": {
      "application/vnd.jupyter.widget-view+json": {
       "model_id": "3735ea103b5d4f08a65de8c25e018628",
       "version_major": 2,
       "version_minor": 0
      },
      "text/plain": [
       "Loading checkpoint shards:   0%|          | 0/2 [00:00<?, ?it/s]"
      ]
     },
     "metadata": {},
     "output_type": "display_data"
    },
    {
     "name": "stderr",
     "output_type": "stream",
     "text": [
      " 95%|█████████▌| 80/84 [13:18<00:39,  9.94s/it]"
     ]
    },
    {
     "name": "stdout",
     "output_type": "stream",
     "text": [
      "subject: Outstanding Invoice\n",
      "sentiment: surprise\n",
      "->\n",
      "body: Please be advised that there are 6 invoices due for payment.  These invoices are due by 5pm on Thursday, <DATE>.  Please advise if there are any questions.\n",
      "\n",
      "Thanks,\n",
      "Chris\n",
      "Enron Net Works\n",
      "Phone: <PHONE>\n",
      "Fax: <PHONE>\n",
      "Email: chris.h.hines@enron.com\n",
      "\n",
      "_________________________________________________\n",
      "Do You Yahoo!?\n",
      "Yahoo! Travel is offering a special rate on your next trip.\n",
      "Book your hotel, car rental, flight, or vacation package online\n",
      "at www.YahooTravel.com\n",
      "_________________________________________________\n",
      "\n",
      " \n",
      "\n",
      " \n",
      "\n",
      " \n",
      "\n",
      " \n",
      "\n",
      " \n",
      "\n",
      " \n",
      "\n",
      " \n",
      "\n",
      " \n",
      "\n",
      " \n",
      "\n",
      " \n",
      "\n",
      " \n",
      "\n",
      " \n",
      "\n",
      " \n",
      "\n",
      " \n",
      "\n",
      " \n",
      "\n",
      " \n",
      "\n",
      " \n",
      "\n",
      " \n",
      "\n",
      " \n",
      "\n",
      " \n",
      "\n",
      " \n",
      "\n",
      " \n",
      "\n",
      " \n",
      "\n",
      " \n",
      "\n",
      " \n",
      "\n",
      " \n",
      "\n",
      " \n",
      "\n",
      " \n",
      "\n"
     ]
    },
    {
     "name": "stderr",
     "output_type": "stream",
     "text": [
      "Unused kwargs: ['selective_precision']. These kwargs are not used in <class 'transformers.utils.quantization_config.BitsAndBytesConfig'>.\n",
      "`low_cpu_mem_usage` was None, now set to True since model is quantized.\n"
     ]
    },
    {
     "data": {
      "application/vnd.jupyter.widget-view+json": {
       "model_id": "b78d9379581744c69481ba167a7a2d73",
       "version_major": 2,
       "version_minor": 0
      },
      "text/plain": [
       "Loading checkpoint shards:   0%|          | 0/2 [00:00<?, ?it/s]"
      ]
     },
     "metadata": {},
     "output_type": "display_data"
    },
    {
     "name": "stderr",
     "output_type": "stream",
     "text": [
      " 96%|█████████▋| 81/84 [13:29<00:30, 10.24s/it]"
     ]
    },
    {
     "name": "stdout",
     "output_type": "stream",
     "text": [
      "subject: Outstanding Invoice\n",
      "urls: True\n",
      "attachments: True\n",
      "sentiment: disgust\n",
      "->\n",
      "body: Dear Sir,\n",
      "\n",
      "I am sorry to have to inform you that your invoice has not been paid.  I\n",
      "have been unable to reach you on the phone, and I have not received a\n",
      "message from your bank.  I have attached a copy of your invoice and\n",
      "request that you please send your payment immediately.\n",
      "\n",
      "Thanks,\n",
      "\n",
      "Mike\n",
      "Customer Service\n",
      "Enron Net Works\n",
      "\n",
      "<DATE>\n",
      "\n",
      " <ATTACHMENT> \n",
      " <ATTACHMENT> \n",
      " <ATTACHMENT> \n",
      " <ATTACHMENT> \n",
      " <ATTACHMENT> \n",
      " <ATTACHMENT> \n",
      " <ATTACHMENT> \n",
      " <ATTACHMENT> \n",
      " <ATTACHMENT> \n",
      " <ATTACHMENT> \n",
      " <ATTACHMENT> \n",
      " <ATTACHMENT> \n",
      " <ATTACHMENT> \n",
      " <ATTACHMENT> \n",
      " <ATTACHMENT> \n",
      " <ATTACHMENT> \n",
      " <ATTACHMENT> \n",
      " <ATTACHMENT> \n",
      " <ATTACHMENT> \n",
      " <ATTACHMENT> \n",
      " <ATTACHMENT> \n",
      " <ATTACHMENT> \n",
      " \n",
      "\n"
     ]
    },
    {
     "name": "stderr",
     "output_type": "stream",
     "text": [
      "Unused kwargs: ['selective_precision']. These kwargs are not used in <class 'transformers.utils.quantization_config.BitsAndBytesConfig'>.\n",
      "`low_cpu_mem_usage` was None, now set to True since model is quantized.\n"
     ]
    },
    {
     "data": {
      "application/vnd.jupyter.widget-view+json": {
       "model_id": "285c1a83e8474bba877253ccc28b0726",
       "version_major": 2,
       "version_minor": 0
      },
      "text/plain": [
       "Loading checkpoint shards:   0%|          | 0/2 [00:00<?, ?it/s]"
      ]
     },
     "metadata": {},
     "output_type": "display_data"
    },
    {
     "name": "stderr",
     "output_type": "stream",
     "text": [
      " 98%|█████████▊| 82/84 [13:39<00:20, 10.04s/it]"
     ]
    },
    {
     "name": "stdout",
     "output_type": "stream",
     "text": [
      "subject: Outstanding Invoice\n",
      "urls: True\n",
      "sentiment: disgust\n",
      "->\n",
      "body: Dear Client,\n",
      "\n",
      "Please be advised that your invoice for the month of October 2001 has been\n",
      "posted to your account.  Please click on the following link to view your\n",
      "invoice.  If you have any questions, please contact the Client Services\n",
      "Department at <PHONE>.\n",
      "\n",
      "Invoice: 1000001\n",
      "\n",
      "<URL>\n",
      "\n",
      "Thank you for your business.\n",
      "\n",
      "The Enron Global Services Team\n",
      "\n",
      "P.S.  If you are not the account holder, please forward this message to the\n",
      "correct party.\n",
      "\n",
      " \n",
      "\n",
      "If you do not wish to receive future messages from us, please click on the\n",
      "unsubscribe link below.\n",
      "\n",
      "< < < < < < < < < < < < < < < < < < < < < < < < < < < < < < < < < < < < < < <\n",
      "\n"
     ]
    },
    {
     "name": "stderr",
     "output_type": "stream",
     "text": [
      "Unused kwargs: ['selective_precision']. These kwargs are not used in <class 'transformers.utils.quantization_config.BitsAndBytesConfig'>.\n",
      "`low_cpu_mem_usage` was None, now set to True since model is quantized.\n"
     ]
    },
    {
     "data": {
      "application/vnd.jupyter.widget-view+json": {
       "model_id": "0fd44939518a4501969fe4658e49305e",
       "version_major": 2,
       "version_minor": 0
      },
      "text/plain": [
       "Loading checkpoint shards:   0%|          | 0/2 [00:00<?, ?it/s]"
      ]
     },
     "metadata": {},
     "output_type": "display_data"
    },
    {
     "name": "stderr",
     "output_type": "stream",
     "text": [
      " 99%|█████████▉| 83/84 [13:48<00:09,  9.86s/it]"
     ]
    },
    {
     "name": "stdout",
     "output_type": "stream",
     "text": [
      "subject: Outstanding Invoice\n",
      "attachments: True\n",
      "sentiment: disgust\n",
      "->\n",
      "body: Dear Customer,\n",
      "\n",
      "We have not received your payment for invoice # 1224771.  Please review your\n",
      "invoice in your account on our website at www.enron.com.  If you have any\n",
      "questions, please call our Customer Care Center at <PHONE>.  Thank you\n",
      "for being a valued Enron customer.\n",
      "\n",
      "Enron Customer Care Center\n",
      "\n",
      " <ATTACHMENT> \n",
      " <ATTACHMENT> \n",
      " <ATTACHMENT> \n",
      " <ATTACHMENT> \n",
      " <ATTACHMENT> \n",
      " <ATTACHMENT> \n",
      " <ATTACHMENT> \n",
      " <ATTACHMENT> \n",
      " <ATTACHMENT> \n",
      " <ATTACHMENT> \n",
      " <ATTACHMENT> \n",
      " <ATTACHMENT> \n",
      " <ATTACHMENT> \n",
      " <ATTACHMENT> \n",
      " <ATTACHMENT> \n",
      " <ATTACHMENT> \n",
      " <ATTACHMENT> \n",
      " <ATTACHMENT> \n",
      " <ATTACHMENT> \n",
      " <ATTACHMENT> \n",
      " <ATTACHMENT> \n",
      " <ATTACHMENT> \n",
      " <ATTACHMENT> \n",
      " <ATTACHMENT> \n",
      "\n"
     ]
    },
    {
     "name": "stderr",
     "output_type": "stream",
     "text": [
      "Unused kwargs: ['selective_precision']. These kwargs are not used in <class 'transformers.utils.quantization_config.BitsAndBytesConfig'>.\n",
      "`low_cpu_mem_usage` was None, now set to True since model is quantized.\n"
     ]
    },
    {
     "data": {
      "application/vnd.jupyter.widget-view+json": {
       "model_id": "0a124843f3814fb5a6b2cdcebba8be63",
       "version_major": 2,
       "version_minor": 0
      },
      "text/plain": [
       "Loading checkpoint shards:   0%|          | 0/2 [00:00<?, ?it/s]"
      ]
     },
     "metadata": {},
     "output_type": "display_data"
    },
    {
     "name": "stderr",
     "output_type": "stream",
     "text": [
      "100%|██████████| 84/84 [13:59<00:00, 10.00s/it]"
     ]
    },
    {
     "name": "stdout",
     "output_type": "stream",
     "text": [
      "subject: Outstanding Invoice\n",
      "sentiment: disgust\n",
      "->\n",
      "body: Here is the list of invoices we still have open.  Please contact me if you have any questions.  \n",
      "\n",
      "Thanks,\n",
      "Dave\n",
      " \n",
      " \n",
      "\n",
      "********************************************************************************************************************************************************************************************************************************************************************************************************************************************************************************************************************************************************************************************************************************************************************************************************************************************************************************************************************************************************************************************************************************************************************************************************************************************************************************************************************************************************************************************************************************************************************************************************************************************************************************************************************************************************************************************************************************************************************************************************************************************************************************************************************************************************************************************************************************************************************************************************************************************************************************************************************************************************************************************************************************************************************************************************************************************************************************************************************************************************************************************************************************************************************************************************************************\n",
      "\n"
     ]
    },
    {
     "name": "stderr",
     "output_type": "stream",
     "text": [
      "\n"
     ]
    }
   ],
   "source": [
    "import os\n",
    "from tqdm import tqdm\n",
    "new_working_directory = \"/home/ubuntu/git/phish-gen/\"\n",
    "os.chdir(new_working_directory)\n",
    "message_labeller = SentimentMessageLabeller(classifier_id=\"michellejieli/emotion_text_classifier\", \n",
    "                                            task=\"sentiment-analysis\", \n",
    "                                            no_top_k=True)\n",
    "results = list()\n",
    "\n",
    "for i in tqdm(sample_args):\n",
    "    message=generate_message(**i)\n",
    "    print(message)\n",
    "    result=dict()\n",
    "    print()\n",
    "    result[\"sentiment\"] = message_labeller.validate_label(labels=[i[\"sentiment\"],], message_body=message)\n",
    "    result[\"custom_tokens\"] = dict()\n",
    "    result[\"custom_tokens\"][\"urls\"], result[\"custom_tokens\"][\"attachments\"] = message_labeller.validate_custom_tokens(urls=i[\"urls\"], \n",
    "                                                                                                                      attachments=i[\"attachments\"],\n",
    "                                                                                                                      message_body=message)\n",
    "    result[\"message\"] = message\n",
    "    results.append(result)\n",
    "\n",
    "    \n",
    "    "
   ]
  },
  {
   "cell_type": "code",
   "execution_count": 5,
   "metadata": {},
   "outputs": [
    {
     "data": {
      "text/plain": [
       "[{'sentiment': False,\n",
       "  'custom_tokens': {'urls': False, 'attachments': False},\n",
       "  'message': 'subject: Payroll Update\\nurls: True\\nattachments: True\\nsentiment: sadness\\n->\\nbody: We are now aware of the situation surrounding the employee who was involved in a traffic accident.  We have been in contact with the employee and his family and he is currently at home recovering.  We will continue to monitor the situation and will provide you with an update as we receive one.  Please be assured that we are doing everything we can to assist in this matter.\\n\\n \\n\\n \\n\\n \\n\\n \\n\\n \\n\\n \\n\\n \\n\\n \\n\\n \\n\\n \\n\\n \\n\\n \\n\\n \\n\\n \\n\\n \\n\\n \\n\\n \\n\\n \\n\\n \\n\\n \\n\\n \\n\\n \\n\\n \\n\\n \\n\\n \\n\\n \\n\\n \\n\\n \\n\\n \\n\\n \\n\\n \\n\\n \\n\\n \\n\\n \\n\\n \\n\\n \\n\\n \\n\\n \\n\\n \\n\\n \\n\\n \\n\\n \\n\\n \\n\\n \\n\\n \\n\\n \\n\\n \\n\\n'},\n",
       " {'sentiment': False,\n",
       "  'custom_tokens': {'urls': True, 'attachments': True},\n",
       "  'message': 'subject: Payroll Update\\nurls: True\\nsentiment: sadness\\n->\\nbody: We are in the process of updating our payroll system.  We have found that the current system is not able to handle the volume of payroll transactions that we are currently handling.  The new system will be implemented on Monday, <DATE>.  You will need to log into the new system with your Enron ID and password.  Once you are logged into the new system, you will be able to see your payroll information.  We are working to get all of your information into the new system as quickly as possible.  If you have any questions, please call the Resolution Center at <PHONE>.  Thank you for your patience.\\n\\nTo access the new system, go to <URL> and enter your Enron ID and password.  When prompted for a user name, select USER and then select OK.  Once you are logged into the system, you will'},\n",
       " {'sentiment': False,\n",
       "  'custom_tokens': {'urls': True, 'attachments': True},\n",
       "  'message': 'subject: Payroll Update\\nattachments: True\\nsentiment: sadness\\n->\\nbody: Payroll Update:\\n\\nThe Payroll Department has confirmed that all paychecks for the week of <DATE> have been issued.  Checks will be mailed on Monday, <DATE>.  If you have any questions, please call the Payroll Department at <PHONE>.\\n\\nThank you for your cooperation.\\n\\nPayroll Department\\nEnron North America\\n1400 Smith Street, EB3821\\nHouston, Texas 77002\\n\\n <ATTACHMENT> \\n \\n <ATTACHMENT> \\n \\n <ATTACHMENT> \\n \\n \\n <ATTACHMENT> \\n \\n <ATTACHMENT> \\n \\n <ATTACHMENT> \\n \\n <ATTACHMENT> \\n \\n <ATTACHMENT> \\n \\n <ATTACHMENT> \\n \\n <ATTACHMENT> \\n \\n <ATTACHMENT> \\n \\n <ATTACHMENT> \\n \\n <ATTACHMENT> \\n \\n <ATTACHMENT> \\n '},\n",
       " {'sentiment': False,\n",
       "  'custom_tokens': {'urls': True, 'attachments': False},\n",
       "  'message': \"subject: Payroll Update\\nsentiment: sadness\\n->\\nbody: Hi All,\\n\\nThe payroll for the week ending <DATE> has been posted to the\\ncompany's payroll system.  If you have any questions, please let me know.\\n\\nThanks,\\n\\nJeff\\n\\nJeff C. Thompson\\nManager, Enron Global Finance\\nPhone: <PHONE>\\nCell: <PHONE>\\nFax: <PHONE>\\nEmail: jeff.thompson@enron.com <mailto:jeff.thompson@enron.com>\\n\\n <ATTACHMENT> \\n <ATTACHMENT> \\n <ATTACHMENT> \\n <ATTACHMENT> \\n <ATTACHMENT> \\n <ATTACHMENT> \\n <ATTACHMENT> \\n <ATTACHMENT> \\n <ATTACHMENT> \\n <ATTACHMENT> \\n <ATTACHMENT> \\n <ATTACHMENT> \\n <ATTACHMENT> \\n <ATTACHMENT> \\n <ATTACHMENT> \\n <ATTACHMENT> \\n <ATTACHMENT> \\n <ATTACHMENT> \\n <ATTACHMENT> \\n <ATTACHMENT> \\n <ATTACHMENT> \\n\"},\n",
       " {'sentiment': False,\n",
       "  'custom_tokens': {'urls': False, 'attachments': False},\n",
       "  'message': 'subject: Payroll Update\\nurls: True\\nattachments: True\\nsentiment: joy\\n->\\nbody: Dear All,\\n\\nPayroll will be processed on Friday, <DATE>.  Please make sure you have your payroll information entered in the system by Thursday, <DATE>.  This is the last payroll for the 2001 year.  If you have any questions, please call me at <PHONE>.\\n\\nRegards,\\nMonica\\nPayroll Manager\\nEnron Net Works LLC\\nPhone: <PHONE>\\nFax: <PHONE>\\nEmail: Monica.M.Garcia@enron.com\\n \\n \\n \\n \\n \\n \\n \\n \\n \\n \\n \\n \\n \\n \\n \\n \\n \\n \\n \\n \\n \\n \\n \\n \\n \\n \\n \\n \\n \\n \\n \\n \\n \\n \\n \\n'},\n",
       " {'sentiment': False,\n",
       "  'custom_tokens': {'urls': False, 'attachments': True},\n",
       "  'message': 'subject: Payroll Update\\nurls: True\\nsentiment: joy\\n->\\nbody: Here is the payroll update for the week of <DATE>.\\n\\n \\n\\n1.  New hires\\n2.  Terminations\\n3.  Retirements\\n4.  New hours\\n5.  New employees\\n6.  Terminations\\n7.  Retirements\\n8.  New hours\\n9.  New employees\\n10. Terminations\\n11. Retirements\\n12. New hours\\n13. New employees\\n14. Terminations\\n15. Retirements\\n16. New hours\\n17. New employees\\n18. Terminations\\n19. Retirements\\n20. New hours\\n21. New employees\\n22. Terminations\\n23. Retirements\\n24. New hours\\n25. New employees\\n26. Terminations\\n2'},\n",
       " {'sentiment': False,\n",
       "  'custom_tokens': {'urls': True, 'attachments': True},\n",
       "  'message': 'subject: Payroll Update\\nattachments: True\\nsentiment: joy\\n->\\nbody: Dear All,\\n\\nAttached is the payroll update for the week of <DATE>.  Please\\nlet me know if you have any questions.\\n\\nBest,\\nJohn\\n\\n <ATTACHMENT>\\n\\nJohn C. Moore\\nEnron North America\\n1400 Smith Street, EB3801\\nHouston, Texas 77002\\nPhone:  <PHONE>\\nFax:  <PHONE>\\nEmail:  john.moore@enron.com\\n <ATTACHMENT> \\n <ATTACHMENT> \\n <ATTACHMENT> \\n <ATTACHMENT> \\n <ATTACHMENT> \\n <ATTACHMENT> \\n <ATTACHMENT> \\n <ATTACHMENT> \\n <ATTACHMENT> \\n <ATTACHMENT> \\n <ATTACHMENT> \\n <ATTACHMENT> \\n <ATTACHMENT> \\n <ATTACHMENT> \\n <ATTACHMENT> \\n <ATTACHMENT> \\n <ATTACHMENT> \\n <ATTACHMENT> \\n <ATTACHMENT> \\n <ATTACHMENT> \\n '},\n",
       " {'sentiment': False,\n",
       "  'custom_tokens': {'urls': True, 'attachments': True},\n",
       "  'message': 'subject: Payroll Update\\nsentiment: joy\\n->\\nbody: Payroll is now in the process of being converted to the new payroll system.  We are currently in the process of updating all payroll related documents including payroll checks, direct deposit forms, and direct deposit authorization forms.  \\n\\nWe will continue to update you as we move through the conversion process.  If you have any questions, please call the Global Payroll Services Help Desk at <PHONE>.\\n\\nThank you for your patience during this transition period.\\n\\nPayroll Services\\n\\n \\n\\n************************************************************************************************************************************************************************************************************************************************************************************************************************************************************************************************************************************************************************************************************************************************************************************************************************************************************************************************************************************************************************************************************************************************************************************************************************************************************************************************************************************************************************************************************************************************************************************************************************************************************************************************************************************************************************************************'},\n",
       " {'sentiment': False,\n",
       "  'custom_tokens': {'urls': False, 'attachments': False},\n",
       "  'message': 'subject: Payroll Update\\nurls: True\\nattachments: True\\nsentiment: neutral\\n->\\nbody: Dear Employee,\\n\\nThis is your Payroll Update.\\n\\nYour Gross Pay for the week ending <DATE> is $16,872.75.\\n\\nYou will receive $16,872.75 in pay on Friday, <DATE>.\\n\\nYou will receive $1,744.72 in vacation pay on Friday, <DATE>.\\n\\nYou will receive $1,744.72 in holiday pay on Friday, <DATE>.\\n\\nYour Net Pay for the week ending <DATE> is $15,128.03.\\n\\nYour deductions for the week ending <DATE> are as follows:\\n\\nFICA Tax 1.46%\\nMedicare Tax 1.46%\\nHealth Insurance 2.75%\\nDental Insurance 0.75%'},\n",
       " {'sentiment': False,\n",
       "  'custom_tokens': {'urls': False, 'attachments': True},\n",
       "  'message': 'subject: Payroll Update\\nurls: True\\nsentiment: neutral\\n->\\nbody: Dear Employees:\\n\\nThe following information is provided for your payroll update.\\n\\nEmployees on the following schedules will be paid on Friday, <DATE>:\\n\\nNo Weekend Schedules:\\nNo Weekend Schedules\\n\\nEmployees on the following schedules will be paid on Monday, <DATE>:\\n1.  Employees on the following schedules will be paid on Wednesday, <DATE>:\\n2.  Employees on the following schedules will be paid on Friday, <DATE>:\\n3.  Employees on the following schedules will be paid on Monday, <DATE>:\\n4.  Employees on the following schedules will be paid on Wednesday, <DATE>:\\n\\nEmployees on the following schedules will be paid on Friday, <DATE>:\\n5.  Employees on the following schedules will be paid on Monday, <DATE>:\\n6.  Employees on the following schedules will be paid on Wednesday, '},\n",
       " {'sentiment': False,\n",
       "  'custom_tokens': {'urls': True, 'attachments': False},\n",
       "  'message': 'subject: Payroll Update\\nattachments: True\\nsentiment: neutral\\n->\\nbody: Payroll Update <DATE>\\n\\nThis notice is provided to help you understand the impact of the payroll changes\\nthat will take effect on this date.\\n\\nEffective <DATE>, Enron will no longer be able to accept payroll checks for\\nemployees who are not in the United States.  In order to continue to pay employees\\nin the U.S., Enron will issue payroll checks for those employees who are in the\\nU.S.  Checks will be issued on a 15-day cycle, beginning on the 15th of each month.\\nEnron will continue to pay all U.S. employees via direct deposit to their\\nbanked accounts.  Checks will be issued to employees who are in the U.S. for the\\nfirst time on a 15-day cycle beginning on the 15th of each month'},\n",
       " {'sentiment': False,\n",
       "  'custom_tokens': {'urls': True, 'attachments': True},\n",
       "  'message': 'subject: Payroll Update\\nsentiment: neutral\\n->\\nbody: We are currently in the process of updating payroll.  The following changes will be implemented effective <DATE>.\\n\\nPay Date:  All pay dates will be moved up one day.\\n\\nPay Period:  We are changing the pay period to be the 2nd and 3rd of each month.\\n\\nPay Type:  We are changing the pay type to be \"Payroll\" instead of \"Payroll 2\".\\n\\nPay Rate:  The pay rate will be increased to $22.00.\\n\\nEmployee Information:  We are moving all employee information to be on the second page of the paycheck stub.  This will eliminate the need for the employee to sign the paycheck stub.\\n\\nIf you have any questions, please call me at <PHONE>.\\n\\nThanks,\\n\\nKevin\\nHR Specialist\\nEnron North America\\n<PHONE>\\nkevin.davis@enron.com'},\n",
       " {'sentiment': False,\n",
       "  'custom_tokens': {'urls': False, 'attachments': False},\n",
       "  'message': 'subject: Payroll Update\\nurls: True\\nattachments: True\\nsentiment: anger\\n->\\nbody: Payroll Update:\\n\\nThis week we have a number of special paychecks to be processed.  We have a few special paychecks to be processed.  We have a few special paychecks to be processed.  We have a few special paychecks to be processed.  We have a few special paychecks to be processed.  We have a few special paychecks to be processed.  We have a few special paychecks to be processed.  We have a few special paychecks to be processed.  We have a few special paychecks to be processed.  We have a few special paychecks to be processed.  We have a few special paychecks to be processed.  We have a few special paychecks to be processed.  We have a few special paychecks to be processed.  We have a few special paychecks'},\n",
       " {'sentiment': False,\n",
       "  'custom_tokens': {'urls': False, 'attachments': True},\n",
       "  'message': 'subject: Payroll Update\\nurls: True\\nsentiment: anger\\n->\\nbody: Payroll update for <DATE>.\\n\\n<Embedded URL removed>\\n\\n<Embedded URL removed>\\n\\n<Embedded URL removed>\\n\\n<Embedded URL removed>\\n\\n<Embedded URL removed>\\n\\n<Embedded URL removed>\\n\\n<Embedded URL removed>\\n\\n<Embedded URL removed>\\n\\n<Embedded URL removed>\\n\\n<Embedded URL removed>\\n\\n<Embedded URL removed>\\n\\n<Embedded URL removed>\\n\\n<Embedded URL removed>\\n\\n<Embedded URL removed>\\n\\n<Embedded URL removed>\\n\\n<Embedded URL removed>\\n\\n<Embedded URL removed>\\n\\n<Embedded URL removed>\\n\\n<Embedded URL removed>\\n\\n<Embedded URL removed>\\n\\n<Embedded URL removed>\\n\\n<Embedded URL removed>\\n\\n<Embedded URL removed>\\n\\n<Embedded URL removed>\\n\\n<Embedded URL removed>\\n\\n<Embedded URL removed>\\n\\n<Embedded URL removed>\\n\\n<Embedded URL removed>'},\n",
       " {'sentiment': False,\n",
       "  'custom_tokens': {'urls': True, 'attachments': True},\n",
       "  'message': 'subject: Payroll Update\\nattachments: True\\nsentiment: anger\\n->\\nbody: This is a reminder that the payroll is due on Friday, <DATE>.  Please\\nbe sure to send your payroll to:\\n\\nEnron North America\\nAttn: Payroll\\nPO Box 1313\\nHouston, TX 77251-1313\\n\\nIf you have any questions please call me at <PHONE>.\\n\\nThanks,\\nJennifer\\nx31502\\n\\n <ATTACHMENT> \\n\\n <ATTACHMENT> \\n\\n <ATTACHMENT> \\n\\n <ATTACHMENT> \\n\\n <ATTACHMENT> \\n\\n <ATTACHMENT> \\n\\n <ATTACHMENT> \\n\\n <ATTACHMENT> \\n\\n <ATTACHMENT> \\n\\n <ATTACHMENT> \\n\\n <ATTACHMENT> \\n\\n <ATTACHMENT> \\n\\n <ATTACHMENT> \\n\\n <ATTACHMENT> \\n\\n <ATTACHMENT> \\n\\n <ATTACHMENT> \\n\\n <ATTACHMENT> \\n\\n <ATTACHMENT> \\n\\n <ATTACHMENT> \\n\\n <ATTACHMENT> \\n\\n <ATTACHMENT> \\n\\n <ATTACHMENT> \\n\\n <ATTACHMENT>'},\n",
       " {'sentiment': False,\n",
       "  'custom_tokens': {'urls': True, 'attachments': True},\n",
       "  'message': 'subject: Payroll Update\\nsentiment: anger\\n->\\nbody: I am sorry to hear that you are not happy with the payroll department.  I would like to give you a chance to give me a chance to correct the situation.  I will be available on Thursday, <DATE> from 2:00 - 3:00 in my office to meet with you.  I will be happy to discuss any issues you have.  I will also be available on Friday, <DATE> from 9:00 - 10:00 if you are unable to meet with me on Thursday.  I can be reached at <PHONE>.  Thank you for your patience.\\n\\nThanks,\\nKevin\\nPayroll Manager\\nEnron North America\\n1400 Smith Street, 38th Floor, Houston, Texas 77002\\nkevin.p.johnson@enron.com\\n<PHONE>\\n<PHONE>'},\n",
       " {'sentiment': False,\n",
       "  'custom_tokens': {'urls': False, 'attachments': False},\n",
       "  'message': \"subject: Payroll Update\\nurls: True\\nattachments: True\\nsentiment: fear\\n->\\nbody: The following is an update to the payroll situation.\\n\\nThe IRS has not yet released the information regarding the IRS\\ntax withholding tables.  We are waiting for the IRS to release the\\ninformation.  We will update you as soon as we receive the\\ninformation.\\n\\nThe IRS is currently working to correct the tax withholding tables\\nfor the previous year.  Once the IRS corrects the tables, the IRS\\nwill notify the payroll industry of the corrected tables.  We will\\nupdate you as soon as we receive the information.\\n\\nAs a result of the IRS not releasing the information, we are\\nunable to process payroll for the previous year.  We are waiting\\nfor the IRS to release the information.\\n\\nThe IRS is also working to correct the W-2's for the previous year.\\nOnce the IRS corrects the W\"},\n",
       " {'sentiment': False,\n",
       "  'custom_tokens': {'urls': False, 'attachments': True},\n",
       "  'message': 'subject: Payroll Update\\nurls: True\\nsentiment: fear\\n->\\nbody: The following is a payroll update for the week of <DATE> through <DATE>.\\n\\nEmployee\\nNo.\\nName\\nStatus\\nPay Date\\nPay Date\\nPay Date\\nPay Date\\nPay Date\\nPay Date\\nPay Date\\nPay Date\\nPay Date\\nPay Date\\nPay Date\\nPay Date\\nPay Date\\nPay Date\\nPay Date\\nPay Date\\nPay Date\\nPay Date\\nPay Date\\nPay Date\\nPay Date\\nPay Date\\nPay Date\\nPay Date\\nPay Date\\nPay Date\\nPay Date\\nPay Date\\nPay Date\\nPay Date\\nPay Date\\nPay Date\\nPay Date\\nPay Date\\nPay Date\\nPay Date\\nPay Date\\nPay Date\\nPay Date\\nPay Date\\nPay Date\\nPay Date\\nPay Date\\nPay Date\\nPay Date\\nPay Date\\nPay Date\\nPay Date\\nPay Date\\nPay'},\n",
       " {'sentiment': False,\n",
       "  'custom_tokens': {'urls': True, 'attachments': False},\n",
       "  'message': 'subject: Payroll Update\\nattachments: True\\nsentiment: fear\\n->\\nbody: Dear All,\\n\\nAs you know, the situation surrounding Enron is worsening and we are\\nexperiencing a period of heightened uncertainty.  I have just received\\nthe following update from the Payroll Department.  \\n\\nAs of <DATE>, the following changes were made to the payroll\\nprocess.  \\n\\nAll employees are required to report to the office on a scheduled basis\\nbetween 8:00 a.m. and 12:00 p.m.  The Payroll Department will not\\naccept telephone or faxed time sheets.  \\n\\nEmployees who are unable to report to the office on their scheduled\\ndays must contact the Payroll Department to make alternate arrangements\\nto submit their time sheets.  \\n\\nEmployees who are sick and are unable to report to the office must\\ncontact the Payroll Department to make alternate arrangements to submit\\ntheir time sheets.'},\n",
       " {'sentiment': False,\n",
       "  'custom_tokens': {'urls': True, 'attachments': True},\n",
       "  'message': 'subject: Payroll Update\\nsentiment: fear\\n->\\nbody: Attached is the payroll update.  The information on the last page is from the last payroll.  The rest is from the new payroll.\\n\\n \\n\\n \\n\\nThank you,\\n\\nMary Ann\\nPayroll Coordinator\\nEnron North America\\n<PHONE>\\nmaryann.brown@enron.com\\n\\n\\n \\n\\n \\n\\n \\n\\n \\n\\n \\n\\n \\n\\n \\n\\n \\n\\n \\n\\n \\n\\n \\n\\n \\n\\n \\n\\n \\n\\n \\n\\n \\n\\n \\n\\n \\n\\n \\n\\n \\n\\n \\n\\n \\n\\n \\n\\n \\n\\n \\n\\n \\n\\n \\n\\n \\n\\n \\n\\n \\n\\n \\n\\n \\n\\n \\n\\n \\n\\n \\n\\n \\n\\n \\n\\n \\n\\n \\n\\n \\n\\n \\n\\n \\n\\n \\n\\n \\n\\n \\n\\n \\n\\n \\n\\n \\n\\n \\n\\n \\n\\n \\n\\n \\n\\n \\n\\n \\n\\n \\n\\n \\n\\n \\n\\n \\n\\n \\n\\n'},\n",
       " {'sentiment': False,\n",
       "  'custom_tokens': {'urls': False, 'attachments': False},\n",
       "  'message': 'subject: Payroll Update\\nurls: True\\nattachments: True\\nsentiment: surprise\\n->\\nbody: The following changes were made to the payroll system during the weekend:\\n\\nPayroll is now closed for the weekend.\\n\\nThe following changes were made to the payroll system during the weekend:\\n\\nThe last day to make changes to your payroll card is <DATE>.\\nIf you have any questions, please call the Payroll Department at <PHONE>.\\n\\nTo view your payroll information, please log on to www.enron.com/payroll beginning <DATE>.\\n\\nTo view your payroll card, please log on to www.enron.com/payroll beginning <DATE>.\\n\\nIf you have any questions, please call the payroll help line at <PHONE>.\\n\\nEnron is committed to providing a payroll service that is secure, efficient and cost effective.\\n\\nThank you for your participation.\\n\\nEnron Global Services\\n\\n \\n \\n \\n \\n'},\n",
       " {'sentiment': False,\n",
       "  'custom_tokens': {'urls': True, 'attachments': True},\n",
       "  'message': 'subject: Payroll Update\\nurls: True\\nsentiment: surprise\\n->\\nbody: Payroll is now available for viewing.  You can view your payroll on the new Enron Intranet site at <URL> for the following:\\n\\n- View your hourly and salaried paystubs\\n- View your vacation and sick leave balances\\n- View your 401K contributions and earnings\\n- View your 401K loans and distributions\\n- View your payroll deductions\\n- View your 401K loan statements\\n\\nIf you have any questions, please call the Payroll Department at <PHONE>.\\n\\nThanks,\\nEnron Intranet Team\\n\\n \\n\\n \\n\\n--------------------------------------------------------------------------------\\nTo unsubscribe from this group, send an email to:\\npayroll-unsubscribe@egroups.com\\n\\n \\n\\n \\n\\n \\n\\n \\n\\n \\n\\n \\n\\n \\n\\n \\n\\n \\n\\n \\n\\n \\n\\n \\n\\n \\n\\n \\n\\n \\n\\n'},\n",
       " {'sentiment': False,\n",
       "  'custom_tokens': {'urls': True, 'attachments': False},\n",
       "  'message': 'subject: Payroll Update\\nattachments: True\\nsentiment: surprise\\n->\\nbody: Payroll Update\\nEffective <DATE>\\n\\n*  The following employees will receive a 1.5% raise effective <DATE>.\\n\\n*  The following employees will receive a 1% raise effective <DATE>.\\n\\n*  The following employees will receive a 0.5% raise effective <DATE>.\\n\\n*  The following employees will receive a 0.25% raise effective <DATE>.\\n\\n*  The following employees will receive a 0.25% raise effective <DATE>.\\n\\n*  The following employees will receive a 0.25% raise effective <DATE>.\\n\\n*  The following employees will receive a 0.25% raise effective <DATE>.\\n\\n*  The following employees will receive a 0.25% raise effective <DATE>.\\n\\n*  The following employees will receive a 0.2'},\n",
       " {'sentiment': False,\n",
       "  'custom_tokens': {'urls': True, 'attachments': True},\n",
       "  'message': 'subject: Payroll Update\\nsentiment: surprise\\n->\\nbody: Payroll will be closed today, Friday, <DATE>.  The last day to submit payroll is Thursday, <DATE>.  Please remember to submit all payroll checks by 11:00 a.m.  Checks will be printed and distributed by 12:00 p.m.  We will be closed for the Martin Luther King Jr. holiday.\\n\\nPayroll will be open on Monday, <DATE> from 8:00 a.m. to 4:00 p.m.  The last day to submit payroll is Thursday, <DATE>.\\n\\nIf you have any questions, please call the General Services desk at <PHONE>.\\n\\nThanks,\\n\\nPam\\nPayroll Manager\\nEmployee Services\\n<PHONE>\\nPam.Jones@enron.com\\n\\n\\n \\n \\n \\n \\n \\n \\n \\n \\n \\n \\n'},\n",
       " {'sentiment': False,\n",
       "  'custom_tokens': {'urls': False, 'attachments': False},\n",
       "  'message': 'subject: Payroll Update\\nurls: True\\nattachments: True\\nsentiment: disgust\\n->\\nbody: Here is the payroll update for this week.\\n\\n \\n  \\n \\n \\n \\n \\n \\n \\n \\n \\n \\n \\n \\n \\n \\n \\n \\n \\n \\n \\n \\n \\n \\n \\n \\n \\n \\n \\n \\n \\n \\n \\n \\n \\n \\n \\n \\n \\n \\n \\n \\n \\n \\n \\n \\n \\n \\n \\n \\n \\n \\n \\n \\n \\n \\n \\n \\n \\n \\n \\n \\n \\n \\n \\n \\n \\n \\n \\n \\n \\n \\n \\n \\n \\n \\n \\n \\n \\n \\n \\n'},\n",
       " {'sentiment': False,\n",
       "  'custom_tokens': {'urls': False, 'attachments': True},\n",
       "  'message': 'subject: Payroll Update\\nurls: True\\nsentiment: disgust\\n->\\nbody: We have received your payroll update.  Your payroll update will be available for viewing on our web site within the next 24 hours.  You can access your payroll update by logging on to www.nwtc.com and clicking on the \"My Account\" tab.  Please contact your Account Representative if you have any questions.\\n\\nPlease note that the following changes are effective <DATE>.\\n\\n\\t\\nPayroll Updates:\\n\\n\\t\\nPlease note that the following changes are effective <DATE>.\\n\\n\\t\\n\\nIf you have any questions please contact your Account Representative.\\n\\nThank you for using our web site.\\n\\n \\n\\n \\n\\nThe Northwest Transportation Center\\nPO Box 3650, 3650 Evergreen Lane, 3650 Evergreen Lane, 97125\\nPO Box 1500, 3'},\n",
       " {'sentiment': False,\n",
       "  'custom_tokens': {'urls': True, 'attachments': False},\n",
       "  'message': 'subject: Payroll Update\\nattachments: True\\nsentiment: disgust\\n->\\nbody: Payroll Update\\nThe following is an update of the current payroll status:\\n\\nStatus:  Current\\nPayroll is currently current.\\n\\nStatus:  Current\\nPayroll is currently current.\\n\\nStatus:  Current\\nPayroll is currently current.\\n\\nStatus:  Current\\nPayroll is currently current.\\n\\nStatus:  Current\\nPayroll is currently current.\\n\\nStatus:  Current\\nPayroll is currently current.\\n\\nStatus:  Current\\nPayroll is currently current.\\n\\nStatus:  Current\\nPayroll is currently current.\\n\\nStatus:  Current\\nPayroll is currently current.\\n\\nStatus:  Current\\nPayroll is currently current.\\n\\nStatus:  Current\\nPayroll is currently current.\\n\\nStatus:  Current\\nPayroll is currently current.\\n\\nStatus:  Current\\nPayroll is currently current.\\n\\nStatus:  Current\\nPayroll is currently current.\\n\\nStatus:  Current\\n'},\n",
       " {'sentiment': False,\n",
       "  'custom_tokens': {'urls': True, 'attachments': True},\n",
       "  'message': 'subject: Payroll Update\\nsentiment: disgust\\n->\\nbody: Attached is the payroll update for the week of <DATE>.\\n\\n \\n\\n  \\n\\n  \\n\\n  \\n\\n  \\n\\n  \\n\\n  \\n\\n  \\n\\n  \\n\\n  \\n\\n  \\n\\n  \\n\\n  \\n\\n  \\n\\n  \\n\\n  \\n\\n  \\n\\n  \\n\\n  \\n\\n  \\n\\n  \\n\\n  \\n\\n  \\n\\n  \\n\\n  \\n\\n  \\n\\n  \\n\\n  \\n\\n  \\n\\n  \\n\\n  \\n\\n  \\n\\n  \\n\\n  \\n\\n  \\n\\n  \\n\\n  \\n\\n  \\n\\n  \\n\\n  \\n\\n  \\n\\n  \\n\\n  \\n\\n  \\n\\n  \\n\\n  \\n\\n  \\n\\n  \\n\\n  \\n\\n  \\n\\n  \\n\\n  \\n\\n  \\n\\n  \\n\\n  \\n\\n  \\n\\n  \\n\\n  \\n\\n  \\n\\n  \\n\\n  \\n\\n  \\n\\n  \\n\\n  \\n\\n  \\n\\n  \\n\\n  \\n\\n  \\n\\n  \\n\\n  \\n\\n  \\n\\n  \\n\\n  \\n\\n  \\n\\n  \\n\\n  \\n\\n  \\n\\n  \\n\\n  \\n\\n  \\n\\n  \\n\\n  \\n\\n  '},\n",
       " {'sentiment': False,\n",
       "  'custom_tokens': {'urls': False, 'attachments': True},\n",
       "  'message': 'subject: Christmas Office Party\\nurls: True\\nattachments: True\\nsentiment: sadness\\n->\\nbody: Dear Friends,\\n\\nIt is with great sadness that we have to inform you that our Christmas party\\nwill not be held this year.  This is a difficult time for all of us, and we\\nwant to be sure that everyone is able to enjoy the holidays with their\\nfamilies.  We are all looking forward to the new year and we hope that everyone\\nwill be healthy and happy.  \\n\\nPlease know that we have enjoyed our time together this year, and that we\\nwish you all the best for the holidays.  We hope that you will stay in\\ntouch with us through the new year.\\n\\nWith our best wishes,\\n\\nThe 2001-2002 Enron Holiday Party Committee\\n\\n <ATTACHMENT> \\n <ATTACHMENT> \\n <ATTACHMENT> \\n <ATTACHMENT> \\n <ATTACHMENT> \\n '},\n",
       " {'sentiment': False,\n",
       "  'custom_tokens': {'urls': False, 'attachments': True},\n",
       "  'message': \"subject: Christmas Office Party\\nurls: True\\nsentiment: sadness\\n->\\nbody: Hi,\\n\\nThis is the first Christmas office party that I've ever had the privilege of\\nattending.  I'm sure it will be a lot of fun.  I've been asked to bring a\\ndish to share.  Please let me know if you can make it.  I'd like to see you\\nall.\\n\\nThanks,\\nJennifer\\n\\n \\n\\nJennifer B. Davis\\nManager, Marketing\\nEnron Net Works\\n<PHONE>\\njennifer.davis@enron.com\\n\\n\\n \\n\\n \\n\\n \\n\\n \\n\\n \\n\\n \\n\\n \\n\\n \\n\\n \\n\\n \\n\\n \\n\\n \\n\\n \\n\\n \\n\\n \\n\\n \\n\\n \\n\\n \\n\\n \\n\\n \\n\\n \\n\\n \\n\\n \\n\\n \\n\\n \\n\\n \\n\\n \\n\\n \\n\\n \\n\\n \\n\\n \\n\\n \\n\\n \\n\\n \\n\\n\"},\n",
       " {'sentiment': False,\n",
       "  'custom_tokens': {'urls': True, 'attachments': False},\n",
       "  'message': \"subject: Christmas Office Party\\nattachments: True\\nsentiment: sadness\\n->\\nbody: I am sorry to have to cancel our Christmas office party this year.  I'm sure\\nyou will understand that I'm not feeling well and I don't want to risk\\ngetting sick.  I'll miss you all and I hope you all have a wonderful holiday\\nseason.  Please let me know if you have any questions.  I'll miss you all.\\n \\nThanks,\\n \\nNancy \\n \\n \\n \\n \\n \\n \\n \\n \\n \\n \\n \\n \\n \\n \\n \\n \\n \\n \\n \\n \\n \\n \\n \\n \\n \\n \\n \\n \\n \\n \\n \\n \\n \\n \\n \\n \\n \\n \\n \\n \\n \\n\"},\n",
       " {'sentiment': False,\n",
       "  'custom_tokens': {'urls': True, 'attachments': True},\n",
       "  'message': 'subject: Christmas Office Party\\nsentiment: sadness\\n->\\nbody: I am so sorry that I am unable to attend the Christmas party this year.  I really enjoyed my time with you all and wish you all the best for the holidays.  I will miss you all.  I am going to miss you all.  I hope you all have a wonderful Christmas and a Merry Christmas.  Please let me know if you need anything.  I will miss you all.  I am sorry that I am not able to attend.  I will miss you all.  I hope you all have a wonderful Christmas.  I am sorry that I am not able to attend.  I will miss you all.  I wish you all a wonderful Christmas.  I hope you all have a wonderful Christmas.  I am so sorry that I am unable to attend.  I wish you all a wonderful Christmas.  I am so sorry that I'},\n",
       " {'sentiment': False,\n",
       "  'custom_tokens': {'urls': False, 'attachments': False},\n",
       "  'message': 'subject: Christmas Office Party\\nurls: True\\nattachments: True\\nsentiment: joy\\n->\\nbody: You are invited to the office Christmas Party.  The theme is \"Christmas in the\\nJungle.\"  Dress is casual.  Please bring a dish to share.\\n\\nPlease RSVP by Friday, December 10th to:\\n\\nJudy O\\'Neal\\nx3-7742\\njonoeal@enron.com\\n\\nThanks,\\nJudy O\\'Neal\\nEnron Net Works\\n<PHONE>\\n\\n==============================================================================================================================\\nThis message is intended for the named addressee only.  If you have received\\nthis message in error, please delete it and do not copy, forward or take any\\naction in response to it.  This message and any attachments are intended to\\nbe confidential.  This information is for the use of the named addressee only\\nand may contain privileged and confidential information.  '},\n",
       " {'sentiment': False,\n",
       "  'custom_tokens': {'urls': False, 'attachments': True},\n",
       "  'message': 'subject: Christmas Office Party\\nurls: True\\nsentiment: joy\\n->\\nbody: Dear Friends,\\n \\nIt is our pleasure to invite you to our Christmas Office Party on Friday,\\nDecember 16th at the Embassy Suites Hotel.  The party will start at 5:30\\np.m. and will end at 8:30 p.m.  The Embassy Suites Hotel is located at\\n2425 12th Street, Houston, Texas 77005.  The address is easily accessible from\\nthe Beltway 8, the Grand Parkway, or I-45.  We have reserved a block of\\nrooms for Friday and Saturday nights.  If you would like to book a room\\nfor Friday night, please call the Embassy Suites at <PHONE>.  If you\\nwould like to stay over on Saturday, the hotel will be happy to accommodate\\n'},\n",
       " {'sentiment': False,\n",
       "  'custom_tokens': {'urls': True, 'attachments': True},\n",
       "  'message': 'subject: Christmas Office Party\\nattachments: True\\nsentiment: joy\\n->\\nbody: Hello,\\n\\nThe Christmas Office Party is scheduled for Thursday, December 15th from 6:00-9:00\\npm.  Please RSVP to my email address.  The event is free for all Enron employees.\\nWe will have a catered lunch and drinks.  Please bring a dish to share.  I\\nwill send out the menu later.  If you have any questions, please let me know.\\n\\nThanks,\\n\\nJennifer\\nx33826\\n\\n<PHONE>\\n\\n <ATTACHMENT> \\n\\n <ATTACHMENT> \\n\\n <ATTACHMENT> \\n\\n <ATTACHMENT> \\n\\n <ATTACHMENT> \\n\\n <ATTACHMENT> \\n\\n <ATTACHMENT> \\n\\n <ATTACHMENT> \\n\\n <ATTACHMENT> \\n\\n <ATTACHMENT> \\n\\n <ATTACHMENT> \\n\\n <ATTACHMENT> \\n\\n <ATTACHMENT> \\n\\n <ATTACHMENT> \\n\\n <ATTACHMENT> \\n\\n <ATTACHMENT> \\n\\n <ATTACHMENT> \\n\\n'},\n",
       " {'sentiment': False,\n",
       "  'custom_tokens': {'urls': True, 'attachments': True},\n",
       "  'message': 'subject: Christmas Office Party\\nsentiment: joy\\n->\\nbody: We are planning a Christmas office party on December 12th from 5-7 pm at the DoubleTree Hotel.  We are hoping to get a good turn out so that we can have a good time.  There will be a small charge for the party.  The cost will be based on how many people are in attendance.  The party will be catered by the DoubleTree.  The cost will be $10 per person.  This covers the cost of the food, drinks, and entertainment.  The drinks will be served at a cash bar.  If you would like to attend, please RSVP to me by the end of the day on Monday, December 3rd.  \\n\\nIf you have any questions, please feel free to contact me.  I look forward to seeing everyone.\\n\\nThanks,\\nKelli\\nx3-75'},\n",
       " {'sentiment': False,\n",
       "  'custom_tokens': {'urls': False, 'attachments': False},\n",
       "  'message': 'subject: Christmas Office Party\\nurls: True\\nattachments: True\\nsentiment: neutral\\n->\\nbody: Please mark your calendars for the Enron Christmas Office Party.  The party will be held at the Embassy Suites Hotel on Friday, December 15th.  The Embassy Suites is located at 1500 North Loop West, Houston, TX 77056.  The cost is $25 per person and includes dinner and drinks.  Please RSVP to me by Thursday, December 14th.  I will send out a more detailed confirmation and directions next week.  If you have any questions, please call me at <PHONE>.\\n\\nThanks,\\nLisa\\n\\nLisa D. Grier\\nEnron North America\\nOffice: <PHONE>\\nFax: <PHONE>\\nCell: <PHONE>\\nlisa.grier@enron.com\\n\\n__________________________________________________\\nDo You Yahoo!?\\nYahoo!'},\n",
       " {'sentiment': False,\n",
       "  'custom_tokens': {'urls': False, 'attachments': True},\n",
       "  'message': 'subject: Christmas Office Party\\nurls: True\\nsentiment: neutral\\n->\\nbody: The Enron Christmas Party is scheduled for Thursday, December 14, from 6:00 - 8:00 p.m. in the Enron Building, Level 2.  \\n\\nPlease RSVP by Friday, December 8, to indicate your attendance.  We are requesting that you bring a dish to share.  We will have a small gift exchange for those who attend.  \\n\\nPlease forward this message to anyone who may be interested.\\n\\nThank you,\\n\\nEnron Corporate Communications\\n\\n<Embedded Image>\\n\\n<Embedded Image>\\n\\n<Embedded Image>\\n\\n<Embedded Image>\\n\\n<Embedded Image>\\n\\n<Embedded Image>\\n\\n<Embedded Image>\\n\\n<Embedded Image>\\n\\n<Embedded Image>\\n\\n<Embedded Image>\\n\\n<Embedded Image>\\n\\n<Embedded Image>\\n\\n<Embedded Image>\\n\\n<Embedded Image'},\n",
       " {'sentiment': False,\n",
       "  'custom_tokens': {'urls': True, 'attachments': True},\n",
       "  'message': 'subject: Christmas Office Party\\nattachments: True\\nsentiment: neutral\\n->\\nbody: Dear Members of the Enron Corporation,\\n\\nAs we approach the holidays, the Enron Corporation would like to invite all employees to join us for the Christmas Office Party.  This event is scheduled for Friday, December 15, 1999 from 6:00 PM to 10:00 PM at the Hyatt Regency Houston.  The cost of the event will be $35 per person.  This includes dinner and dancing.  The event will be catered by the Hyatt Regency Houston.  \\n\\nThe dress code for the party is business casual.  We look forward to seeing you there.\\n\\nSincerely,\\n\\nJ. Scott Wilson\\nPresident\\n\\n <ATTACHMENT> \\n\\n <ATTACHMENT> \\n\\n <ATTACHMENT> \\n\\n <ATTACHMENT> \\n\\n <ATTACHMENT> \\n\\n <ATTACHMENT> \\n\\n <ATTACHMENT> \\n\\n <ATTACHMENT> \\n\\n <ATTACHMENT> '},\n",
       " {'sentiment': False,\n",
       "  'custom_tokens': {'urls': True, 'attachments': True},\n",
       "  'message': \"subject: Christmas Office Party\\nsentiment: neutral\\n->\\nbody: I have received a few questions about the Christmas party.  Here is the information.\\n\\nDate:  Wednesday, <DATE>\\nTime:  6:00 p.m.  (Dinner at 6:30 p.m.)\\nLocation:  The Embassy Suites, 5000 Lakeside Blvd., Houston, TX  77090\\nCost:  $30 per person\\nMenu:  Hors d'oeuvres followed by a buffet dinner.\\nDress:  Business casual.  No tuxedos or evening dresses.\\n\\nIf you have any questions, please call me at <PHONE>.  If you need to cancel, please do so no later than <DATE>.\\n\\nThanks,\\nNancy\\nx32466\\n\\n \\n\\nNancy D. Lee\\nDirector, Human Resources\\nEnron Corp.\\n<PHONE>\\n\"},\n",
       " {'sentiment': False,\n",
       "  'custom_tokens': {'urls': False, 'attachments': True},\n",
       "  'message': 'subject: Christmas Office Party\\nurls: True\\nattachments: True\\nsentiment: anger\\n->\\nbody: The holidays are fast approaching and we are planning a Christmas office party.  \\nWe are looking for your input on the following:\\n\\nDate: <DATE>\\nTime: 6:00 p.m. to 10:00 p.m.\\nLocation: The Ritz-Carlton Hotel\\nCost: $10 per person\\n\\nPlease let me know your thoughts.  If you have any questions, please call me at \\n713/853-6681.\\n\\nThanks!\\n\\nMary\\nx3366\\n\\n <ATTACHMENT> \\n\\n <ATTACHMENT> \\n\\n <ATTACHMENT> \\n\\n <ATTACHMENT> \\n\\n <ATTACHMENT> \\n\\n <ATTACHMENT> \\n\\n <ATTACHMENT> \\n\\n <ATTACHMENT> \\n\\n <ATTACHMENT> \\n\\n <ATTACHMENT> \\n\\n <ATTACHMENT> \\n\\n <ATTACHMENT> \\n\\n <ATTACHMENT> \\n\\n '},\n",
       " {'sentiment': False,\n",
       "  'custom_tokens': {'urls': False, 'attachments': True},\n",
       "  'message': 'subject: Christmas Office Party\\nurls: True\\nsentiment: anger\\n->\\nbody: Dear Friends,\\n \\nWe are planning a Christmas Office Party.  The date is Thursday, December 18th.  \\n \\nThe location is the Sheraton Hotel in downtown Houston.  The party will be \\nfrom 6:00 - 10:00 pm.  The cost is $50 per person.  This includes a \\nthree course dinner and some drinks.  There will be a cash bar as well.  \\n \\nThis is a very special party for us.  We have been in the same office for \\nover 20 years.  We are a very close group of people.  We want to celebrate \\nthis special occasion with you.  \\n \\nPlease RSVP to me as soon as possible.  I will be calling some people to \\nreserve a'},\n",
       " {'sentiment': False,\n",
       "  'custom_tokens': {'urls': True, 'attachments': False},\n",
       "  'message': \"subject: Christmas Office Party\\nattachments: True\\nsentiment: anger\\n->\\nbody: Hello everyone,\\n\\nI hope you're all enjoying the holidays.  I'm writing to ask you to please\\nlet me know if you plan to attend the Christmas office party on Wednesday,\\nDecember 22.  I'm hoping that the party will be a small affair, so if you\\ncan't make it, please let me know.  I'm going to try to get a list of names\\nof those who are attending.\\n\\nThe party will be at the DoubleTree Hotel, at 6:30.  The address is 100\\nNorth Lakefront Drive, in downtown Houston.  The hotel is located in the\\ndowntown convention district.  The DoubleTree is just a few blocks south of\\nthe Galleria and the Houston Galleria mall.  The hotel is in the heart of\\ndowntown\"},\n",
       " {'sentiment': False,\n",
       "  'custom_tokens': {'urls': True, 'attachments': True},\n",
       "  'message': 'subject: Christmas Office Party\\nsentiment: anger\\n->\\nbody: Dear Friends,\\n\\nPlease join us for our annual Christmas Office Party on Friday, <DATE> from 5:00 to 7:00 pm at the Hyatt Regency in Houston.  The cost is $25.00 per person and includes dinner and drinks.  The Hyatt will provide transportation to and from the party.  We have a great line up of music and entertainment and will be providing food and drinks for the entire party.  \\n\\nWe will be providing a shuttle to and from the Hyatt to the Galleria at 4:00 pm.  We will be leaving from the Hyatt at 4:00 pm and will return to the Hyatt at 6:00 pm.  The shuttle will be leaving the Galleria at 5:45 pm and returning to the Hyatt at 7:00 pm.  \\n\\nWe have a'},\n",
       " {'sentiment': False,\n",
       "  'custom_tokens': {'urls': False, 'attachments': False},\n",
       "  'message': 'subject: Christmas Office Party\\nurls: True\\nattachments: True\\nsentiment: fear\\n->\\nbody: We are planning a Christmas Office Party for Friday, December 14th.  The party will be held at the Sheraton at the Galleria.  We are planning on having dinner at 5:30, followed by a dance party.  The cost will be $25 per person.  We are hoping that you will be able to attend.  If you are interested, please let me know by email.  \\n\\nThank you,\\n\\nJennifer\\nEnron North America\\nPower and Gas Pricing\\n<PHONE>\\njennifer.h.davis@enron.com\\n\\n\\n \\n\\n \\n\\n \\n\\n \\n\\n \\n\\n \\n\\n \\n\\n \\n\\n \\n\\n \\n\\n \\n\\n \\n\\n \\n\\n \\n\\n \\n\\n \\n\\n \\n\\n \\n\\n \\n\\n \\n\\n \\n\\n \\n\\n \\n\\n \\n\\n \\n\\n \\n\\n '},\n",
       " {'sentiment': False,\n",
       "  'custom_tokens': {'urls': True, 'attachments': True},\n",
       "  'message': 'subject: Christmas Office Party\\nurls: True\\nsentiment: fear\\n->\\nbody: Here is the link to the Christmas Office Party.  The link is:\\n\\n<URL>\\n\\nPlease RSVP.\\n\\nThanks,\\n\\nKim\\nHR, Enron Wholesale Services\\n<PHONE>\\nkim.s.hager@enron.com\\n\\n<Embedded Picture (Metafile)>\\n\\n<Embedded Picture (Metafile)>\\n\\n<Embedded Picture (Metafile)>\\n\\n<Embedded Picture (Metafile)>\\n\\n<Embedded Picture (Metafile)>\\n\\n<Embedded Picture (Metafile)>\\n\\n<Embedded Picture (Metafile)>\\n\\n<Embedded Picture (Metafile)>\\n\\n<Embedded Picture (Metafile)>\\n\\n<Embedded Picture (Metafile)>\\n\\n<Embedded Picture (Metafile)>\\n\\n<Embedded Picture (Metafile)>\\n\\n<Embedded Picture (Metafile)>\\n\\n<Embedded Picture (Metafile)>\\n\\n<Embedded Picture (Metafile)>\\n\\n<Embedded Picture (Meta'},\n",
       " {'sentiment': False,\n",
       "  'custom_tokens': {'urls': True, 'attachments': True},\n",
       "  'message': \"subject: Christmas Office Party\\nattachments: True\\nsentiment: fear\\n->\\nbody: The Christmas Office Party will be held on Thursday, December 17, in the\\nConference Room.  The party will begin at 5:30 p.m. and end at 7:30 p.m.  The\\ncost will be $10.00 per person.  The party will include food, drinks, and\\nentertainment.  The party will be catered by the Embassy's caterer.  If you\\nhave any questions, please contact me at <PHONE>.  Please RSVP to me\\nby Monday, December 14.\\n\\nRegards,\\n\\nNancy\\nAdministrative Assistant\\nUS Embassy in Moscow\\ntel:  +7 <PHONE>\\nfax: +7 <PHONE>\\ne-mail:  nancy.barnes@state.gov\\n\\n <ATTACHMENT>  << Christmas Office Party >>\\n\\n <ATTACHMENT>\"},\n",
       " {'sentiment': False,\n",
       "  'custom_tokens': {'urls': True, 'attachments': True},\n",
       "  'message': \"subject: Christmas Office Party\\nsentiment: fear\\n->\\nbody: I'm sure everyone is looking forward to the Christmas Office Party.  I know I am.  I hope you'll all come out and have a great time.  I'll see you all there.\\n\\n~Beth\\n\\nBeth L. Moore\\nEnron North America\\n<PHONE>\\n<PHONE> Fax\\nBeth.Moore@enron.com <mailto:Beth.Moore@enron.com>\\nwww.enron.com/northamerica <http://enron.com/northamerica>\\n\\n \\n \\n \\n \\n \\n \\n \\n \\n \\n \\n \\n \\n \\n \\n \\n \\n \\n \\n \\n \\n \\n \\n \\n \\n \\n \\n \\n \\n \\n \\n \\n \\n \\n \\n \\n \\n\"},\n",
       " {'sentiment': False,\n",
       "  'custom_tokens': {'urls': False, 'attachments': False},\n",
       "  'message': 'subject: Christmas Office Party\\nurls: True\\nattachments: True\\nsentiment: surprise\\n->\\nbody: I have a suggestion for the Christmas office party.  Instead of having a party,\\njust give everyone a check for $500.  We could all use a little extra cash at this\\ntime of year.  I think this would be a fun idea.  How about it?  If you don\\'t\\nlike the idea, don\\'t send me a reply.  I\\'m just throwing it out there.  Thanks.\\n\\n<applet>\\n<param name=\"code\" value=\"\\n\\t<embed></embed>\\n\\t<embed></embed>\\n\\t<embed></embed>\\n\\t<embed></embed>\\n\\t<embed></embed>\\n\\t<embed></embed>\\n\\t<embed></embed>\\n\\t<embed></embed>\\n\\t<embed></embed>\\n'},\n",
       " {'sentiment': False,\n",
       "  'custom_tokens': {'urls': False, 'attachments': True},\n",
       "  'message': \"subject: Christmas Office Party\\nurls: True\\nsentiment: surprise\\n->\\nbody: We are planning a Christmas office party on Thursday, December 16, at the Sheraton Hotel in Houston.  We'll be at the same time as the Houston Oilers, so the party should be a lot of fun.  Please RSVP to me by Friday, December 10, so we can get an idea of how many people will be coming.  I'll send out more details as the party gets closer.\\n\\nThanks,\\nJeff\\nJeff D. Schlom\\nSenior Vice President\\nEnron Net Works LLC\\n<PHONE>\\n<PHONE> (cell)\\n<PHONE> (fax)\\njschlom@enron.com\\n\\nThis message is the property of Enron Net Works LLC.  This message may contain confidential and/or privileged information.  If you are not the intended recipient, you are hereby notified that any review, dissemination,\"},\n",
       " {'sentiment': False,\n",
       "  'custom_tokens': {'urls': True, 'attachments': True},\n",
       "  'message': 'subject: Christmas Office Party\\nattachments: True\\nsentiment: surprise\\n->\\nbody: I am wondering if anyone is interested in going to the Christmas Office Party at the Hyatt Regency on Friday, <DATE>.  I have been told that it is going to be a lot of fun and there will be a DJ, etc.  I will let you know more details as they become available.  I think we should go as a group.  If you are interested, please let me know by email.  I have already reserved a room for the night.  I will send out more information as we get closer to the date.\\n\\n <ATTACHMENT> \\n\\n <ATTACHMENT> \\n\\n <ATTACHMENT> \\n\\n <ATTACHMENT> \\n\\n <ATTACHMENT> \\n\\n <ATTACHMENT> \\n\\n <ATTACHMENT> \\n\\n <ATTACHMENT> \\n\\n <ATTACHMENT> \\n\\n <ATTACHMENT> \\n\\n <ATTACHMENT> \\n\\n <ATTACHMENT> \\n\\n <ATTACHMENT> \\n\\n <ATTACHMENT> \\n\\n <ATTACHMENT> \\n\\n <ATTACHMENT>'},\n",
       " {'sentiment': False,\n",
       "  'custom_tokens': {'urls': True, 'attachments': True},\n",
       "  'message': 'subject: Christmas Office Party\\nsentiment: surprise\\n->\\nbody: Please mark your calendars for the Christmas Office Party.  \\n\\nThe party will be held on Friday, December 14th from 5-8pm.  \\n\\nThe location will be the Sheraton Hotel in Houston, Texas.\\n\\nThe cost of the party will be $20 per person.  The cost includes a buffet dinner, drinks, and a DJ.  \\n\\nPlease RSVP to me by Friday, December 7th.  \\n\\nIf you are interested in helping with the party, please let me know.  \\n\\nThanks,\\n\\nElizabeth \\n\\nElizabeth H. Johnson\\nEnron North America\\n<PHONE> Fax <PHONE>\\nElizabeth.johnson@enron.com\\n\\n \\n\\n \\n\\n \\n\\n \\n\\n \\n\\n \\n\\n \\n\\n \\n\\n \\n\\n \\n\\n \\n\\n \\n\\n \\n\\n \\n\\n \\n\\n \\n\\n \\n\\n \\n\\n \\n\\n \\n\\n'},\n",
       " {'sentiment': False,\n",
       "  'custom_tokens': {'urls': False, 'attachments': True},\n",
       "  'message': \"subject: Christmas Office Party\\nurls: True\\nattachments: True\\nsentiment: disgust\\n->\\nbody: Hey, I thought I'd send you a quick note to let you know that we're planning a Christmas Office Party.  We're thinking about going to a local restaurant and having dinner with some drinks afterwards.  I'm thinking it might be fun.  I'd like to invite you and your family.  I'll send you an invite later.  I'm thinking about sending you an invitation via email.  I'll send you an email with the details of the party.  Let me know if you're interested.  I'd love to hear your thoughts.  Thanks, and I hope you have a great holiday.  See you soon.\\n\\n \\n\\n \\n\\nGreg \\n\\n <ATTACHMENT> \\n\\n <ATTACHMENT> \\n\\n <ATTACHMENT> \\n\\n <ATTACHMENT> \\n\\n <ATTACHMENT> \"},\n",
       " {'sentiment': False,\n",
       "  'custom_tokens': {'urls': True, 'attachments': True},\n",
       "  'message': 'subject: Christmas Office Party\\nurls: True\\nsentiment: disgust\\n->\\nbody: <<URL>\\n<<URL>\\n<<URL>\\n<<URL>\\n<<URL>\\n<<URL>\\n<<URL>\\n<<URL>\\n<<URL>\\n<<URL>\\n<<URL>\\n<<URL>\\n<<URL>\\n<<URL>\\n<<URL>\\n<<URL>\\n<<URL>\\n<<URL>\\n<<URL>\\n<<URL>\\n<<URL>\\n<<URL>\\n<<URL>\\n<<URL>\\n<<URL>\\n<<URL>\\n<<URL>\\n<<URL>\\n<<URL>\\n<<URL>\\n<<URL>\\n<<URL>\\n<<URL>\\n<<URL>\\n<<URL>\\n<<URL>\\n<<URL>\\n<<URL>\\n<<URL>\\n<<URL>\\n<<URL>\\n<<URL>\\n<<URL>\\n<<URL>\\n<<URL>\\n<<URL>\\n<<URL>\\n<<URL>\\n<<URL>\\n<<URL>\\n<<URL>\\n<<URL>\\n<<URL>\\n<<URL>\\n<<URL>\\n<<URL>\\n<<URL>\\n<<URL>'},\n",
       " {'sentiment': False,\n",
       "  'custom_tokens': {'urls': True, 'attachments': True},\n",
       "  'message': 'subject: Christmas Office Party\\nattachments: True\\nsentiment: disgust\\n->\\nbody: Attached is the flyer for the Christmas Office Party.  I hope that you can make it.  The party will be on Friday, December 10th from 6:00-9:00 p.m.  The location will be at the Sheraton Hotel in the ballroom.  I will send out more details next week.\\n\\n <ATTACHMENT> \\n\\nRegards,\\nJohn\\n <ATTACHMENT> \\n <ATTACHMENT> \\n <ATTACHMENT> \\n <ATTACHMENT> \\n <ATTACHMENT> \\n <ATTACHMENT> \\n <ATTACHMENT> \\n <ATTACHMENT> \\n <ATTACHMENT> \\n <ATTACHMENT> \\n <ATTACHMENT> \\n <ATTACHMENT> \\n <ATTACHMENT> \\n <ATTACHMENT> \\n <ATTACHMENT> \\n <ATTACHMENT> \\n <ATTACHMENT> \\n <ATTACHMENT> \\n <ATTACHMENT> \\n <ATTACHMENT> \\n <ATTACHMENT> \\n <ATTACHMENT> \\n <ATTACHMENT> \\n '},\n",
       " {'sentiment': False,\n",
       "  'custom_tokens': {'urls': True, 'attachments': True},\n",
       "  'message': 'subject: Christmas Office Party\\nsentiment: disgust\\n->\\nbody: The office Christmas Party is scheduled for Friday, December 14, 2001.  The\\nlocation will be announced as soon as it is confirmed.  \\n\\nPlease plan to attend.  It is a great opportunity for us to get together and\\nhave a fun night.  If you have any questions, please call me at <PHONE>.\\n\\nThanks!\\n\\nSusan\\nx33093\\n\\nSusan D. Taylor\\nEnron North America\\nLegal\\n1400 Smith Street, EB3802\\nHouston, Texas 77002\\nPhone: <PHONE>\\nFax: <PHONE>\\nE-mail: susan.taylor@enron.com\\n\\nThis message is intended for the use of the individual or entity named above\\nand may contain information that is privileged and confidential.  If you\\nare not the'},\n",
       " {'sentiment': False,\n",
       "  'custom_tokens': {'urls': False, 'attachments': False},\n",
       "  'message': 'subject: Outstanding Invoice\\nurls: True\\nattachments: True\\nsentiment: sadness\\n->\\nbody: Dear Mr. Hynes:\\n\\nThank you for your letter of <DATE>.  I have reviewed the\\nattached\\ninvoice and the outstanding balance.  I have no objection to the\\npayment of the invoice.\\n\\nPlease do not hesitate to contact me with any questions.\\n\\nSincerely,\\n\\nJohn W. Hynes\\nPresident\\nEnron North America\\n1400 Smith Street\\nHouston, Texas  77002\\n<PHONE>\\n<PHONE> (fax)\\njhynes@enron.com\\n\\n<attach:ENRON_0911_001.doc>\\n\\n__________________________________________________________________\\n\\nIf you are not the signor for this invoice, please forward this e-mail\\nto the signor and ask them to forward a reply to me.  If you have any\\nquestions, please call me'},\n",
       " {'sentiment': False,\n",
       "  'custom_tokens': {'urls': True, 'attachments': True},\n",
       "  'message': 'subject: Outstanding Invoice\\nurls: True\\nsentiment: sadness\\n->\\nbody: Please review the attached invoice.  If you have any questions or concerns, please do not hesitate to call me.  Thanks.\\n\\n \\n\\nThank you,\\nMark E. Johnson\\nSr. Manager, Global Supply Management\\nEnron Net Works LLC\\n1400 Smith Street, EB3801a\\nHouston, TX 77002\\nOffice:  <PHONE>\\nFax:  <PHONE>\\nmark.johnson@enron.com\\n\\n\\n\\n__________________________________________________\\nDo You Yahoo!?\\nYahoo! Mail is now free!\\n<URL>\\nGet Yahoo! Mail for web-based email\\n<URL>\\nGet Yahoo! Mail for mobile phones\\n<URL>\\nGet Yahoo! Mail for Outlook\\n<URL>\\n\\n \\n\\n \\n\\n \\n\\n \\n\\n \\n\\n \\n\\n \\n\\n \\n\\n \\n\\n \\n\\n \\n\\n \\n\\n \\n\\n \\n\\n'},\n",
       " {'sentiment': False,\n",
       "  'custom_tokens': {'urls': True, 'attachments': True},\n",
       "  'message': \"subject: Outstanding Invoice\\nattachments: True\\nsentiment: sadness\\n->\\nbody: Dear John,\\n\\nI'm very sorry for the delay in getting this to you.  I've been out of the office the past few days.  I had a very busy week, and then I got hit with the flu.  I hope you are feeling better.\\n\\nI'm attaching a copy of the invoice for your review.  I've done my best to make the invoice as clear as possible, but if you have any questions, please don't hesitate to let me know.\\n\\nThank you,\\nJennifer\\n\\n <ATTACHMENT> \\n\\nJennifer A. Johnson\\nGlobal Procurement Manager\\nEnron Net Works LLC\\nPhone:  <PHONE>\\nFax:  <PHONE>\\nEmail:  jennifer.johnson@enron.com\\nWeb:  www.enron.com\\n\\n <ATTACHMENT> \\n\\n <ATTACHMENT> \\n\\n <ATTACHMENT> \\n\\n\"},\n",
       " {'sentiment': False,\n",
       "  'custom_tokens': {'urls': True, 'attachments': True},\n",
       "  'message': 'subject: Outstanding Invoice\\nsentiment: sadness\\n->\\nbody: We have an outstanding invoice with you.  If you have any questions, please call me.\\n\\nThanks,\\nMark\\nx36141\\n\\n********************************************************************************************************************************************************************************************************************************************************************************************************************************************************************************************************************************************************************************************************************************************************************************************************************************************************************************************************************************************************************************************************************************************************************************************************************************************************************************************************************************************************************************************************************************************************************************************************************************************************************************************************************************************************************************************************************************************************************************************************************************************************************************************************************************************************************************************************************************************************************************************************************************************************************************************************************************************************************************************************************************************************************************************************************************************************************************************************************************************************************************************************************************************************************************************************************************'},\n",
       " {'sentiment': False,\n",
       "  'custom_tokens': {'urls': False, 'attachments': True},\n",
       "  'message': 'subject: Outstanding Invoice\\nurls: True\\nattachments: True\\nsentiment: joy\\n->\\nbody: Dear Client,\\n\\nPlease accept our apologies for the delay in sending you this invoice.  We\\nhave been trying to contact you via telephone to discuss the status of your\\ninvoice.  We have not been able to reach you at your office.\\n\\nPlease find attached a copy of our invoice for your review.  If you have\\nany questions, please do not hesitate to call me at <PHONE>.\\n\\nThank you.\\n\\nSincerely,\\n\\nMark G. Lee\\nVice President\\nEnron Net Works LLC\\n <ATTACHMENT>\\n <ATTACHMENT>\\n <ATTACHMENT>\\n <ATTACHMENT>\\n <ATTACHMENT>\\n <ATTACHMENT>\\n <ATTACHMENT>\\n <ATTACHMENT>\\n <ATTACHMENT>\\n <ATTACHMENT>\\n <ATTACHMENT>\\n <ATTACHMENT>\\n <ATTACHMENT>\\n <ATTACHMENT>\\n <ATTACHMENT>\\n <ATTACHMENT>\\n <ATTACHMENT>\\n <ATTACHMENT>\\n <ATTACHMENT>\\n <ATTACHMENT>\\n <ATTACHMENT>\\n <ATTACHMENT>\\n'},\n",
       " {'sentiment': False,\n",
       "  'custom_tokens': {'urls': True, 'attachments': True},\n",
       "  'message': 'subject: Outstanding Invoice\\nurls: True\\nsentiment: joy\\n->\\nbody: Here are the outstanding invoices.  Please review and let me know if you need anything else.  Thanks!\\n\\n \\n\\n<<URL>\\n\\nDavid E. Martin\\nEnron North America Corp.\\n1400 Smith Street, EB3801a\\nHouston, Texas  77002\\nPhone:  <PHONE>\\nFax:  <PHONE>\\ndavid.martin@enron.com\\n \\n \\n \\n \\n \\n \\n \\n \\n \\n \\n \\n \\n \\n \\n \\n \\n \\n \\n \\n \\n \\n \\n \\n \\n \\n \\n \\n \\n \\n \\n \\n \\n \\n \\n \\n \\n \\n \\n \\n \\n \\n \\n \\n \\n \\n '},\n",
       " {'sentiment': False,\n",
       "  'custom_tokens': {'urls': True, 'attachments': True},\n",
       "  'message': \"subject: Outstanding Invoice\\nattachments: True\\nsentiment: joy\\n->\\nbody: Hi,\\nI've just been looking at the list of invoices for the last 30 days.  I\\nsee that you have an invoice from my desk that I forgot to pay.  I\\nhave attached a check for $2500.00.  Please let me know if you have any\\nquestions.\\n\\nThanks,\\nJohn\\n\\n <ATTACHMENT> \\n\\nJohn S. Tye\\nDirector, Global Sales\\nEnron Wholesale Services\\n<PHONE>\\n<PHONE> (fax)\\njtye@enron.com\\n <ATTACHMENT> \\n <ATTACHMENT> \\n <ATTACHMENT> \\n <ATTACHMENT> \\n <ATTACHMENT> \\n <ATTACHMENT> \\n <ATTACHMENT> \\n <ATTACHMENT> \\n <ATTACHMENT> \\n <ATTACHMENT> \\n <ATTACHMENT> \\n <ATTACHMENT> \\n <ATTACHMENT> \\n <ATTACHMENT> \\n <ATTACHMENT> \\n <ATTACHMENT> \"},\n",
       " {'sentiment': False,\n",
       "  'custom_tokens': {'urls': True, 'attachments': True},\n",
       "  'message': 'subject: Outstanding Invoice\\nsentiment: joy\\n->\\nbody: Hi,\\n\\nI have been working on a file to send out to you.  I have been\\nunable to locate the original invoice for the following invoice:\\n\\nInvoice # 000000000049377\\nInvoice Date: <DATE>\\nInvoice Due Date: <DATE>\\nInvoice Amount: $2,616.57\\nInvoice Description:  \\n\\nI have attached a copy of the invoice, please let me know if this\\ninvoice is still due.  \\n\\nThank you,\\n\\nLisa\\nx54556\\nx54557\\nx54558\\nx54559\\nx54560\\nx54561\\nx54562\\nx54563\\nx54564\\nx54'},\n",
       " {'sentiment': False,\n",
       "  'custom_tokens': {'urls': False, 'attachments': False},\n",
       "  'message': 'subject: Outstanding Invoice\\nurls: True\\nattachments: True\\nsentiment: neutral\\n->\\nbody: The attached invoice is due on <DATE>.  Please call me at <PHONE> if you have any questions.\\n\\nThanks,\\nLisa\\nEnron Wholesale Services\\nOffice: <PHONE>\\nFax: <PHONE>\\nlisa.johnson@enron.com\\n \\n \\n \\n \\n \\n \\n \\n \\n \\n \\n \\n \\n \\n \\n \\n \\n \\n \\n \\n \\n \\n \\n \\n \\n \\n \\n \\n \\n \\n \\n \\n \\n \\n \\n \\n \\n \\n \\n \\n \\n \\n \\n \\n \\n \\n \\n \\n \\n \\n \\n \\n \\n \\n \\n \\n \\n \\n \\n \\n'},\n",
       " {'sentiment': False,\n",
       "  'custom_tokens': {'urls': False, 'attachments': True},\n",
       "  'message': 'subject: Outstanding Invoice\\nurls: True\\nsentiment: neutral\\n->\\nbody: Dear Dan,\\n \\nAs you know, we are in the process of implementing a new accounting system,\\nwhich will go live on Friday, <DATE>.  As part of this\\nimplementation, we have identified a number of outstanding invoices.  We\\nhave been unable to locate a copy of the original invoice, so we are\\nunable to verify the invoice amount.  Therefore, we are requesting that\\nyou verify the invoice amount and approve the payment.  Once you have\\nverified the invoice, please forward a copy to me via e-mail.  If you\\nhave any questions, please do not hesitate to call me at <PHONE>.  We\\nare looking forward to working with you on this project.\\n \\nThanks,\\n \\nKaren\\n \\nKaren L. Allen\\nAssistant Vice President, Corporate Accounting\\nEnron Net'},\n",
       " {'sentiment': False,\n",
       "  'custom_tokens': {'urls': True, 'attachments': True},\n",
       "  'message': 'subject: Outstanding Invoice\\nattachments: True\\nsentiment: neutral\\n->\\nbody: Dear Bill,\\n\\nI am writing to inform you that there is an outstanding invoice that has not been paid.  Please see the attached invoice for details.\\n\\nPlease contact me at <PHONE> to discuss this invoice.\\n\\nThanks,\\nDavid\\n<PHONE>\\n\\n <ATTACHMENT> \\n <ATTACHMENT> \\n <ATTACHMENT> \\n <ATTACHMENT> \\n <ATTACHMENT> \\n <ATTACHMENT> \\n <ATTACHMENT> \\n <ATTACHMENT> \\n <ATTACHMENT> \\n <ATTACHMENT> \\n <ATTACHMENT> \\n <ATTACHMENT> \\n <ATTACHMENT> \\n <ATTACHMENT> \\n <ATTACHMENT> \\n <ATTACHMENT> \\n <ATTACHMENT> \\n <ATTACHMENT> \\n <ATTACHMENT> \\n <ATTACHMENT> \\n <ATTACHMENT> \\n <ATTACHMENT> \\n <ATTACHMENT> \\n <ATTACHMENT> \\n <ATTACHMENT> \\n <ATTACHMENT> \\n <ATTACHMENT> \\n <ATTACHMENT> \\n <ATTACHMENT> \\n <ATTACHMENT> \\n <ATTACHMENT> '},\n",
       " {'sentiment': False,\n",
       "  'custom_tokens': {'urls': True, 'attachments': True},\n",
       "  'message': 'subject: Outstanding Invoice\\nsentiment: neutral\\n->\\nbody: I am a bit late in sending this but I am hoping you can help me.  We have an outstanding invoice from you for the following items:\\n\\n1)  A 2000 invoice dated <DATE> for $21,550.00 for the purchase of a computer.\\n\\n2)  A 2000 invoice dated <DATE> for $13,150.00 for the purchase of a computer.\\n\\n3)  A 2000 invoice dated <DATE> for $14,550.00 for the purchase of a computer.\\n\\n4)  A 2000 invoice dated <DATE> for $14,550.00 for the purchase of a computer.\\n\\n5)  A 2000 invoice dated <DATE> for $14,5'},\n",
       " {'sentiment': False,\n",
       "  'custom_tokens': {'urls': False, 'attachments': False},\n",
       "  'message': 'subject: Outstanding Invoice\\nurls: True\\nattachments: True\\nsentiment: anger\\n->\\nbody: Dear Bill,\\n\\nI have just received the following invoice:\\n\\nInvoice Number: 000000000000000000000000000000000000000000000000000000000000000000000000000000000000000000000000000000000000000000000000000000000000000000000000000000000'},\n",
       " {'sentiment': False,\n",
       "  'custom_tokens': {'urls': False, 'attachments': True},\n",
       "  'message': \"subject: Outstanding Invoice\\nurls: True\\nsentiment: anger\\n->\\nbody: Dear Mr. Johnson:\\n\\nI am writing to you because I have not received my invoice for the work you did on my computer.  I have not been able to get a hold of you at all and I am at my wit's end.  I am the owner of a small business and have been trying to get you to return my phone calls for over a week now.  I have tried to get a hold of you at your home and your office.  I have tried to get a hold of you through your secretary and have left numerous messages.  I have even tried to get a hold of you through your personal cell phone and have not been able to reach you.  I am afraid that you have been very busy with other clients and have not been able to return my phone calls.  I would like to know how you are doing and\"},\n",
       " {'sentiment': False,\n",
       "  'custom_tokens': {'urls': False, 'attachments': True},\n",
       "  'message': 'subject: Outstanding Invoice\\nattachments: True\\nsentiment: anger\\n->\\nbody: Dear Mr. Lee:\\n\\nWe are writing to inform you that we have not received payment for the invoice\\nnumber 10543019.  We are now<DATE>.  Please call me at <PHONE> or\\nemail me at <mailto:j.w.smith@enron.com> to discuss this matter.  Thank\\nyou.\\n\\nSincerely,\\n\\nJohn W. Smith\\nManager, Contract Management\\nEnron North America Corp.\\n1400 Smith Street, 37th Floor\\nHouston, Texas  77002\\nPhone:  <PHONE>\\nFax:  <PHONE>\\nE-mail:  <mailto:j.w.smith@enron.com>\\nWeb:  <URL>\\n\\n <ATTACHMENT> \\n <ATTACHMENT> \\n <ATTACHMENT> \\n <ATTACHMENT> \\n <ATTACHMENT> \\n'},\n",
       " {'sentiment': False,\n",
       "  'custom_tokens': {'urls': True, 'attachments': True},\n",
       "  'message': 'subject: Outstanding Invoice\\nsentiment: anger\\n->\\nbody: Dear Mr. Wood,\\n\\nI am writing to you to express my displeasure in your company\\'s inability to\\nresolve the invoice outstanding with Enron.  I am a long-time customer of\\nEnron and have been for many years.  I have also been a long-time employee of\\nEnron and have seen the company go through many changes, both good and bad.\\nHowever, I have never seen such a gross failure to resolve a customer\\'s\\noutstanding invoice.  I have tried to resolve this with your customer service\\ndepartment and have been told that it is up to the \"Credit Dept.\" to resolve\\nthe matter.  I have tried to contact the \"Credit Dept.\" and have been told\\nthat I must contact you directly.  I have tried to contact you directly and\\nhave been told that it is up to your \"Credit Dept'},\n",
       " {'sentiment': False,\n",
       "  'custom_tokens': {'urls': False, 'attachments': True},\n",
       "  'message': 'subject: Outstanding Invoice\\nurls: True\\nattachments: True\\nsentiment: fear\\n->\\nbody: Dear Mr. Rader,\\n\\nI am writing you to inform you that we have received your invoice dated <DATE>\\nfor the amount of $260.00.  The invoice number is 11111.  Please review the attached\\ndocuments for your reference.\\n\\nPlease feel free to contact me at any time if you have any questions.\\n\\nSincerely,\\n\\nJohn J. Smith\\nAccountant\\nEnron North America Corp.\\n1400 Smith Street\\nHouston, TX  77002\\nPhone: <PHONE>\\nFax: <PHONE>\\nE-mail: john.smith@enron.com\\nWeb: www.enron.com\\n\\n <ATTACHMENT> \\n\\n <ATTACHMENT> \\n\\n <ATTACHMENT> \\n\\n <ATTACHMENT> \\n\\n <ATTACHMENT> \\n\\n <ATTACHMENT> \\n\\n <ATTACHMENT> '},\n",
       " {'sentiment': False,\n",
       "  'custom_tokens': {'urls': False, 'attachments': True},\n",
       "  'message': 'subject: Outstanding Invoice\\nurls: True\\nsentiment: fear\\n->\\nbody: Dear Sir,\\n\\nI am writing to you regarding the outstanding invoice you sent me on <DATE>.\\nI am in the process of closing my company and I have not had the time to pay it yet.\\nI have not received any invoice from you, but I am sure you would have sent me one.\\nI am attaching my credit card information. Please charge me the amount of $3500.00\\nI will be happy to pay you the amount of $3500.00 as soon as I have received the invoice.\\nPlease do not charge me any interest. I will be very grateful.\\n\\nPlease do not hesitate to contact me if you have any questions.\\n\\nBest regards,\\n\\nE.S.\\n \\n \\n \\n\\n \\n \\n \\n \\n \\n \\n \\n '},\n",
       " {'sentiment': False,\n",
       "  'custom_tokens': {'urls': True, 'attachments': True},\n",
       "  'message': 'subject: Outstanding Invoice\\nattachments: True\\nsentiment: fear\\n->\\nbody: Dear John,\\n\\nPlease find attached the invoice for your account.  Please call me if you have any questions.\\n\\nThanks,\\nLisa\\n\\n <ATTACHMENT> \\n <ATTACHMENT> \\n <ATTACHMENT> \\n <ATTACHMENT> \\n <ATTACHMENT> \\n <ATTACHMENT> \\n <ATTACHMENT> \\n <ATTACHMENT> \\n <ATTACHMENT> \\n <ATTACHMENT> \\n <ATTACHMENT> \\n <ATTACHMENT> \\n <ATTACHMENT> \\n <ATTACHMENT> \\n <ATTACHMENT> \\n <ATTACHMENT> \\n <ATTACHMENT> \\n <ATTACHMENT> \\n <ATTACHMENT> \\n <ATTACHMENT> \\n <ATTACHMENT> \\n <ATTACHMENT> \\n <ATTACHMENT> \\n <ATTACHMENT> \\n <ATTACHMENT> \\n <ATTACHMENT> \\n <ATTACHMENT> \\n <ATTACHMENT> \\n <ATTACHMENT> \\n <ATTACHMENT> \\n <ATTACHMENT> \\n <ATTACHMENT> \\n <ATTACHMENT> \\n <ATTACHMENT> \\n <ATTACHMENT> \\n <ATTACHMENT> \\n '},\n",
       " {'sentiment': False,\n",
       "  'custom_tokens': {'urls': True, 'attachments': True},\n",
       "  'message': 'subject: Outstanding Invoice\\nsentiment: fear\\n->\\nbody: Dear Sir,\\n\\nWe are writing to inform you that we are unable to pay the invoice you sent to us dated <DATE>.  We are currently experiencing a severe cash shortage and have no choice but to delay payment.  We are still interested in doing business with you, but we need to make sure that we are able to pay you in the future.  Please let us know if we can be of any assistance.\\n\\nRegards,\\nJohn\\n\\n \\n\\nJohn H. Scott\\nPresident\\nEnron Canada Limited\\nPhone: <PHONE>\\nFax: <PHONE>\\nE-mail: john.scott@enron.com\\nWeb: www.enron.com/enroncanada\\n\\n \\n\\nThis email and any files transmitted with it are confidential and intended solely for the use of the individual or entity to which they are addressed.  If you have received this in error'},\n",
       " {'sentiment': False,\n",
       "  'custom_tokens': {'urls': False, 'attachments': False},\n",
       "  'message': 'subject: Outstanding Invoice\\nurls: True\\nattachments: True\\nsentiment: surprise\\n->\\nbody: Dear David,\\n\\nI have received your e-mail about the invoice.  I have reviewed the\\ninvoice and found no errors.  I am sorry for any confusion this\\ninvoice may have caused.  I have attached the invoice to this e-mail\\nfor your records.  Please do not hesitate to contact me with any\\nquestions.\\n\\nBest Regards,\\n\\nKaren\\nCustomer Service\\nEnron Net Works\\nPhone: <PHONE>\\nFax: <PHONE>\\nE-mail: karen.thomas@enron.com\\n\\nP.S.  I will be on vacation next week, but I will be back in the office\\non Monday, <DATE>.  If you have any questions or need to\\ncontact me during my vacation, please feel free to call me at <PHONE>.\\nThank you.\\n\\n<<<<Attachment'},\n",
       " {'sentiment': False,\n",
       "  'custom_tokens': {'urls': False, 'attachments': True},\n",
       "  'message': 'subject: Outstanding Invoice\\nurls: True\\nsentiment: surprise\\n->\\nbody: Dear Mr. Deitz,\\n\\nThis is to inform you that we have received your invoice.  We have\\nreceived it and will process it as soon as possible.  Thank you for\\nyour patience.\\n\\nSincerely,\\n\\nThe Enron Global Services Team\\n\\n********************************************************************\\n\\nIf you have any questions, please contact the Global Services Helpdesk at\\n<PHONE> or email helpdesk@enron.com.\\n\\n********************************************************************\\n\\nPlease do not reply to this email address.  If you wish to contact us\\ndirectly, please use the following contact information:\\n\\nEmail:  helpdesk@enron.com\\nPhone:  <PHONE>\\nFax:  <PHONE>\\nMail:\\nEnron Global Services Helpdesk\\nPO Box 4122\\nHouston, TX  77258-4122\\n\\nEn'},\n",
       " {'sentiment': False,\n",
       "  'custom_tokens': {'urls': True, 'attachments': False},\n",
       "  'message': 'subject: Outstanding Invoice\\nattachments: True\\nsentiment: surprise\\n->\\nbody: Dear John,\\n\\nI am sending you an invoice for the following items.  Please review\\nand let me know if you have any questions.  If you have any questions\\nplease call me at <PHONE>.  Thank you for your time and\\npatience.\\n\\n1.  $200.00 -  For the work done on the new website.  We are\\n  very happy with the work done by your company.  Please let me know\\n  if you need any additional information.\\n\\n2.  $100.00 -  For the work done on the new logo.  We are very\\n  happy with the work done.  Please let me know if you need any\\n  additional information.\\n\\n3.  $150.00 -  For the work done on the new business cards'},\n",
       " {'sentiment': False,\n",
       "  'custom_tokens': {'urls': True, 'attachments': True},\n",
       "  'message': 'subject: Outstanding Invoice\\nsentiment: surprise\\n->\\nbody: Please be advised that there are 6 invoices due for payment.  These invoices are due by 5pm on Thursday, <DATE>.  Please advise if there are any questions.\\n\\nThanks,\\nChris\\nEnron Net Works\\nPhone: <PHONE>\\nFax: <PHONE>\\nEmail: chris.h.hines@enron.com\\n\\n_________________________________________________\\nDo You Yahoo!?\\nYahoo! Travel is offering a special rate on your next trip.\\nBook your hotel, car rental, flight, or vacation package online\\nat www.YahooTravel.com\\n_________________________________________________\\n\\n \\n\\n \\n\\n \\n\\n \\n\\n \\n\\n \\n\\n \\n\\n \\n\\n \\n\\n \\n\\n \\n\\n \\n\\n \\n\\n \\n\\n \\n\\n \\n\\n \\n\\n \\n\\n \\n\\n \\n\\n \\n\\n \\n\\n \\n\\n \\n\\n \\n\\n \\n\\n \\n\\n '},\n",
       " {'sentiment': False,\n",
       "  'custom_tokens': {'urls': False, 'attachments': True},\n",
       "  'message': 'subject: Outstanding Invoice\\nurls: True\\nattachments: True\\nsentiment: disgust\\n->\\nbody: Dear Sir,\\n\\nI am sorry to have to inform you that your invoice has not been paid.  I\\nhave been unable to reach you on the phone, and I have not received a\\nmessage from your bank.  I have attached a copy of your invoice and\\nrequest that you please send your payment immediately.\\n\\nThanks,\\n\\nMike\\nCustomer Service\\nEnron Net Works\\n\\n<DATE>\\n\\n <ATTACHMENT> \\n <ATTACHMENT> \\n <ATTACHMENT> \\n <ATTACHMENT> \\n <ATTACHMENT> \\n <ATTACHMENT> \\n <ATTACHMENT> \\n <ATTACHMENT> \\n <ATTACHMENT> \\n <ATTACHMENT> \\n <ATTACHMENT> \\n <ATTACHMENT> \\n <ATTACHMENT> \\n <ATTACHMENT> \\n <ATTACHMENT> \\n <ATTACHMENT> \\n <ATTACHMENT> \\n <ATTACHMENT> \\n <ATTACHMENT> \\n <ATTACHMENT> \\n <ATTACHMENT> \\n <ATTACHMENT> \\n '},\n",
       " {'sentiment': False,\n",
       "  'custom_tokens': {'urls': True, 'attachments': True},\n",
       "  'message': 'subject: Outstanding Invoice\\nurls: True\\nsentiment: disgust\\n->\\nbody: Dear Client,\\n\\nPlease be advised that your invoice for the month of October 2001 has been\\nposted to your account.  Please click on the following link to view your\\ninvoice.  If you have any questions, please contact the Client Services\\nDepartment at <PHONE>.\\n\\nInvoice: 1000001\\n\\n<URL>\\n\\nThank you for your business.\\n\\nThe Enron Global Services Team\\n\\nP.S.  If you are not the account holder, please forward this message to the\\ncorrect party.\\n\\n \\n\\nIf you do not wish to receive future messages from us, please click on the\\nunsubscribe link below.\\n\\n< < < < < < < < < < < < < < < < < < < < < < < < < < < < < < < < < < < < < < <'},\n",
       " {'sentiment': False,\n",
       "  'custom_tokens': {'urls': True, 'attachments': True},\n",
       "  'message': 'subject: Outstanding Invoice\\nattachments: True\\nsentiment: disgust\\n->\\nbody: Dear Customer,\\n\\nWe have not received your payment for invoice # 1224771.  Please review your\\ninvoice in your account on our website at www.enron.com.  If you have any\\nquestions, please call our Customer Care Center at <PHONE>.  Thank you\\nfor being a valued Enron customer.\\n\\nEnron Customer Care Center\\n\\n <ATTACHMENT> \\n <ATTACHMENT> \\n <ATTACHMENT> \\n <ATTACHMENT> \\n <ATTACHMENT> \\n <ATTACHMENT> \\n <ATTACHMENT> \\n <ATTACHMENT> \\n <ATTACHMENT> \\n <ATTACHMENT> \\n <ATTACHMENT> \\n <ATTACHMENT> \\n <ATTACHMENT> \\n <ATTACHMENT> \\n <ATTACHMENT> \\n <ATTACHMENT> \\n <ATTACHMENT> \\n <ATTACHMENT> \\n <ATTACHMENT> \\n <ATTACHMENT> \\n <ATTACHMENT> \\n <ATTACHMENT> \\n <ATTACHMENT> \\n <ATTACHMENT> '},\n",
       " {'sentiment': False,\n",
       "  'custom_tokens': {'urls': True, 'attachments': True},\n",
       "  'message': 'subject: Outstanding Invoice\\nsentiment: disgust\\n->\\nbody: Here is the list of invoices we still have open.  Please contact me if you have any questions.  \\n\\nThanks,\\nDave\\n \\n \\n\\n********************************************************************************************************************************************************************************************************************************************************************************************************************************************************************************************************************************************************************************************************************************************************************************************************************************************************************************************************************************************************************************************************************************************************************************************************************************************************************************************************************************************************************************************************************************************************************************************************************************************************************************************************************************************************************************************************************************************************************************************************************************************************************************************************************************************************************************************************************************************************************************************************************************************************************************************************************************************************************************************************************************************************************************************************************************************************************************************************************************************************************************************************************************************************************************************************************************'}]"
      ]
     },
     "execution_count": 5,
     "metadata": {},
     "output_type": "execute_result"
    }
   ],
   "source": [
    "results"
   ]
  },
  {
   "cell_type": "code",
   "execution_count": null,
   "metadata": {},
   "outputs": [],
   "source": []
  }
 ],
 "metadata": {
  "kernelspec": {
   "display_name": ".venv",
   "language": "python",
   "name": "python3"
  },
  "language_info": {
   "codemirror_mode": {
    "name": "ipython",
    "version": 3
   },
   "file_extension": ".py",
   "mimetype": "text/x-python",
   "name": "python",
   "nbconvert_exporter": "python",
   "pygments_lexer": "ipython3",
   "version": "3.10.6"
  }
 },
 "nbformat": 4,
 "nbformat_minor": 2
}
