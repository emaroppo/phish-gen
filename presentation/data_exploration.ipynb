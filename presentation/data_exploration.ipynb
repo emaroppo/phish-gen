{
 "cells": [
  {
   "cell_type": "markdown",
   "metadata": {},
   "source": [
    "# Imports"
   ]
  },
  {
   "cell_type": "code",
   "execution_count": 2,
   "metadata": {},
   "outputs": [],
   "source": [
    "import pandas as pd\n",
    "from pymongo import MongoClient\n",
    "import sys\n",
    "\n",
    "# Determine the base directory (e.g., the workspace directory)\n",
    "#base_directory = SET TO BASE DIRECTORY FULL PATH (phish-gen) \n",
    "# Add the base directory to the system path\n",
    "#sys.path.append(base_directory)"
   ]
  },
  {
   "cell_type": "markdown",
   "metadata": {},
   "source": [
    "# Attachments"
   ]
  },
  {
   "cell_type": "code",
   "execution_count": 5,
   "metadata": {},
   "outputs": [],
   "source": [
    "connection = MongoClient('localhost', 27017)\n",
    "#get all messages with attachments from database\n",
    "#group them by attachment format and count them\n",
    "\n",
    "db = connection['enron_emails']\n",
    "collection = db['step2_single']\n",
    "\n",
    "pipeline = [\n",
    "    {\"$unwind\": \"$messages\"},\n",
    "    {\n",
    "        \"$match\": {\n",
    "            \"$and\": [\n",
    "                {\"messages.attachment_formats\": {\"$exists\": True}},\n",
    "                {\"messages.attachment_formats\": {\"$ne\": None}}\n",
    "            ]\n",
    "        }\n",
    "    },\n",
    "    {\"$unwind\": \"$messages.attachment_formats\"},\n",
    "    {\n",
    "        \"$project\": {\n",
    "            \"_id\": 1,\n",
    "            \"attachment_format\": \"$messages.attachment_formats\"\n",
    "        }\n",
    "    }\n",
    "]\n",
    "\n",
    "cursor = collection.aggregate(pipeline)\n",
    "\n",
    "for i in cursor:\n",
    "    print(i)"
   ]
  },
  {
   "cell_type": "code",
   "execution_count": 6,
   "metadata": {},
   "outputs": [
    {
     "data": {
      "text/plain": [
       "{'_id': ObjectId('668fc1c0551e847488546dea'),\n",
       " 'file_path': 'offline_finetuning/data_processing/enron/dataset/maildir/quenet-j/inbox/6.',\n",
       " 'messages': [{'_id': ObjectId('668fc1c0551e847488546deb'),\n",
       "   'is_main': True,\n",
       "   'headers': {'Message-ID': '<8319012.1075861649188.JavaMail.evans@thyme>',\n",
       "    'Date': 'Mon, 12 Nov 2001 13:55:20 -0800 (PST)',\n",
       "    'From': 'jae.black@enron.com',\n",
       "    'To': 'j..broderick@enron.com, robert.benson@enron.com, gautam.gupta@enron.com, \\n\\tjoe.quenet@enron.com, d..thomas@enron.com, lisa.burnett@enron.com, \\n\\tpatrick.hanse@enron.com, peter.makkai@enron.com, \\n\\tbrian.terp@enron.com, benjamin.rogers@enron.com, \\n\\tjason.choate@enron.com, willis.philip@enron.com, \\n\\tbryce.schneider@enron.com, cory.willis@enron.com, \\n\\tdavid.ingram@enron.com, anubhav.aggarwal@enron.com, \\n\\treagan.mathews@enron.com, carl.tricoli@enron.com, \\n\\tjohn.llodra@enron.com, george.wood@enron.com, rob.wheeler@enron.com, \\n\\tnick.politis@enron.com, eric.irani@enron.com, \\n\\tpalmer.letzerich@enron.com, maximilian.sell@enron.com, \\n\\tsteven.luong@enron.com, pete.heintzelman@enron.com, \\n\\tmichael.yosowitz@enron.com',\n",
       "    'Subject': 'Northeast Meeting',\n",
       "    'Mime-Version': '1.0',\n",
       "    'Content-Type': 'text/plain; charset=us-ascii',\n",
       "    'Content-Transfer-Encoding': '7bit',\n",
       "    'X-From': 'Black, Tamara Jae </O=ENRON/OU=NA/CN=RECIPIENTS/CN=TBLACK>',\n",
       "    'X-To': 'Broderick, Paul J. </O=ENRON/OU=NA/CN=RECIPIENTS/CN=Pbroder>, Benson, Robert </O=ENRON/OU=NA/CN=RECIPIENTS/CN=Rbenson>, Gupta, Gautam </O=ENRON/OU=NA/CN=RECIPIENTS/CN=Ggupta>, Quenet, Joe </O=ENRON/OU=NA/CN=RECIPIENTS/CN=Jquenet>, Thomas, Paul D. </O=ENRON/OU=NA/CN=RECIPIENTS/CN=Pthomas2>, Burnett, Lisa </O=ENRON/OU=NA/CN=RECIPIENTS/CN=Lburnett>, Hanse, Patrick </O=ENRON/OU=NA/CN=RECIPIENTS/CN=Phanse>, Makkai, Peter </O=ENRON/OU=NA/CN=RECIPIENTS/CN=Pmakkai>, Terp, Brian </O=ENRON/OU=NA/CN=RECIPIENTS/CN=Bterp>, Rogers, Benjamin </O=ENRON/OU=NA/CN=RECIPIENTS/CN=Brogers>, Choate, Jason </O=ENRON/OU=NA/CN=RECIPIENTS/CN=Jchoate>, Philip, Willis </O=ENRON/OU=NA/CN=RECIPIENTS/CN=Wphilip>, Schneider, Bryce </O=ENRON/OU=NA/CN=RECIPIENTS/CN=Bschneid>, Willis, Cory </O=ENRON/OU=NA/CN=RECIPIENTS/CN=Cwillis>, Ingram, David </O=ENRON/OU=NA/CN=RECIPIENTS/CN=Dingram>, Aggarwal, Anubhav </O=ENRON/OU=NA/CN=RECIPIENTS/CN=Aaggarwa>, Mathews, Reagan </O=ENRON/OU=NA/CN=RECIPIENTS/CN=Rmathew>, Tricoli, Carl </O=ENRON/OU=NA/CN=RECIPIENTS/CN=Ctricol>, Llodra, John </O=ENRON/OU=NA/CN=RECIPIENTS/CN=Jllodra>, Wood, George </O=ENRON/OU=NA/CN=RECIPIENTS/CN=Gwood>, Wheeler, Rob </O=ENRON/OU=NA/CN=RECIPIENTS/CN=Rwheele2>, Politis, Nick </O=ENRON/OU=NA/CN=RECIPIENTS/CN=Npolitis>, Irani, Eric </O=ENRON/OU=NA/CN=RECIPIENTS/CN=Eirani>, Letzerich, Palmer </O=ENRON/OU=NA/CN=RECIPIENTS/CN=Wletzeri>, Sell, Maximilian </O=ENRON/OU=NA/CN=RECIPIENTS/CN=Msell>, Luong, Steven </O=ENRON/OU=NA/CN=RECIPIENTS/CN=Sluong3>, Heintzelman, Pete </O=ENRON/OU=NA/CN=RECIPIENTS/CN=Pheintz>, Yosowitz, Michael </O=ENRON/OU=NA/CN=RECIPIENTS/CN=Myosowit>',\n",
       "    'X-cc': '',\n",
       "    'X-bcc': '',\n",
       "    'X-Folder': '\\\\JQUENET (Non-Privileged)\\\\Quenet, Joe\\\\Inbox',\n",
       "    'X-Origin': 'Quenet-J',\n",
       "    'X-FileName': 'JQUENET (Non-Privileged).pst'},\n",
       "   'body': 'The Northeast Meeting has been rescheduled for tomorrow Nov. 13 at 2:00 pm\\n\\nT.Jae Black\\nEast Power Trading\\nAssistant to Kevin Presto\\noff. 713-853-5800\\nfax 713-646-8272\\ncell 713-539-4760',\n",
       "   'response': None,\n",
       "   'forwarded_by': None,\n",
       "   'entities': {'manual': {'PHONE': [['713-853-5800', 138, 150],\n",
       "      ['713-646-8272', 155, 167],\n",
       "      ['713-539-4760', 173, 185]]},\n",
       "    'auto': {'MISC': [['Northeast Meeting has been rescheduled for tomorrow Nov. 13 at 2:00 pm\\n\\nT.Jae Black\\nEast Power Trading',\n",
       "       4,\n",
       "       106]]}},\n",
       "   'sentiment': [{'label': 'neutral', 'score': 0.9577668905258179},\n",
       "    {'label': 'sadness', 'score': 0.017698148265480995},\n",
       "    {'label': 'anger', 'score': 0.01393884140998125},\n",
       "    {'label': 'fear', 'score': 0.004655647557228804},\n",
       "    {'label': 'surprise', 'score': 0.002729383995756507},\n",
       "    {'label': 'joy', 'score': 0.0021288548596203327},\n",
       "    {'label': 'disgust', 'score': 0.0010822961339727044}],\n",
       "   'topic': [['dialin', 0.03682920981268327],\n",
       "    ['107058', 0.03517608337036463],\n",
       "    ['869944', 0.03517608337036463],\n",
       "    ['06752', 0.034594222438450124],\n",
       "    ['presto', 0.03449023192612158],\n",
       "    ['8882854585', 0.033603036272273894],\n",
       "    ['x31935', 0.033603036272273894],\n",
       "    ['7135394760', 0.027202143296782336],\n",
       "    ['7138535800', 0.027053866223385428],\n",
       "    ['745', 0.02687839964758628]],\n",
       "   'attachments_format': None,\n",
       "   'disclaimer': None,\n",
       "   'is_html': False,\n",
       "   'word_count': 28}]}"
      ]
     },
     "execution_count": 6,
     "metadata": {},
     "output_type": "execute_result"
    }
   ],
   "source": [
    "#count all threads where at least one messages has an attachment format field\n",
    "collection.find_one()"
   ]
  },
  {
   "cell_type": "code",
   "execution_count": null,
   "metadata": {},
   "outputs": [],
   "source": []
  },
  {
   "cell_type": "markdown",
   "metadata": {},
   "source": [
    "# Senders"
   ]
  },
  {
   "cell_type": "code",
   "execution_count": 7,
   "metadata": {},
   "outputs": [
    {
     "name": "stdout",
     "output_type": "stream",
     "text": [
      "7064\n",
      "4310\n"
     ]
    }
   ],
   "source": [
    "connection = MongoClient('localhost', 27017)\n",
    "db = connection['enron_emails']\n",
    "db = db['step2_single']\n",
    "#retrieve a list of unique senders\n",
    "senders = db.distinct(\"messages.headers.From\")\n",
    "print(len(senders))\n",
    "print(len([sender for sender in senders if \"enron\" not in sender.lower()]))"
   ]
  },
  {
   "cell_type": "code",
   "execution_count": 19,
   "metadata": {},
   "outputs": [
    {
     "name": "stdout",
     "output_type": "stream",
     "text": [
      "The Enron Health Center has received its shipment of flu vaccine.  Shots will be given on a first-come, first-served basis.  NO APPOINTMENTS WILL BE ACCEPTED.  \n",
      "\n",
      "\tWhen:\tBeginning Tuesday, November 13\n",
      "\tTime:\t8 a.m. until 4 p.m.\n",
      "\tWhere:\tEnron Health Center, EB-312\n",
      "\tCost:\tFree to Enron employees, spouses, retirees, and EDS\n",
      "\t\t$10 for contractors\n",
      "\n",
      "For more information email:  mailto:health.center@enron.com.\n"
     ]
    }
   ],
   "source": [
    "#retrieve messages containing an email\n",
    "email_regex = r\"(?:[a-z0-9!#$%&'*+/=?^_`{|}~-]+(?:\\.[a-z0-9!#$%&'*+/=?^_`{|}~-]+)*|(?:[\\x01-\\x08\\x0b\\x0c\\x0e-\\x1f\\x21\\x23-\\x5b\\x5d-\\x7f]|\\\\[\\x01-\\x09\\x0b\\x0c\\x0e-\\x7f])*)@(?:(?:[a-z0-9](?:[a-z0-9-]*[a-z0-9])?\\.)+[a-z0-9](?:[a-z0-9-]*[a-z0-9])?|\\[(?:(?:(2(5[0-5]|[0-4][0-9])|1[0-9][0-9]|[1-9]?[0-9]))\\.){3}(?:(2(5[0-5]|[0-4][0-9])|1[0-9][0-9]|[1-9]?[0-9])|[a-z0-9-]*[a-z0-9]:(?:[\\x01-\\x08\\x0b\\x0c\\x0e-\\x1f\\x21-\\x5a\\x53-\\x7f]|\\\\[\\x01-\\x09\\x0b\\x0c\\x0e-\\x7f])+)\\])\"\n",
    "import re\n",
    "cursor = db.find({\"messages.body\": {\"$regex\": email_regex}})\n",
    "\n",
    "for i in cursor[1][\"messages\"]:\n",
    "    print(i[\"body\"])"
   ]
  },
  {
   "cell_type": "markdown",
   "metadata": {},
   "source": [
    "# Entities"
   ]
  },
  {
   "cell_type": "code",
   "execution_count": 9,
   "metadata": {},
   "outputs": [
    {
     "name": "stdout",
     "output_type": "stream",
     "text": [
      "Unique People:  457\n",
      "Unique Organizations:  848\n",
      "Unique Locations:  294\n"
     ]
    }
   ],
   "source": [
    "collection = connection[\"enron_emails\"][\"step2_single\"]\n",
    "#retrieve a list of all entities\n",
    "threads = collection.find({\"messages.entities.auto\": {\"$exists\": True}})\n",
    "people_set = set()\n",
    "org_set = set()\n",
    "location_set = set()\n",
    "misc_set = set()\n",
    "for thread in threads:\n",
    "    for message in thread[\"messages\"]:\n",
    "        if \"PER\" in message[\"entities\"][\"auto\"]:\n",
    "            people = set([person[0] for person in message[\"entities\"][\"auto\"][\"PER\"]])\n",
    "            people_set.update(people)\n",
    "        if \"ORG\" in message[\"entities\"][\"auto\"]:\n",
    "            organizations = [org[0] for org in message[\"entities\"][\"auto\"][\"ORG\"]]\n",
    "            org_set.update(organizations)\n",
    "        if \"LOC\" in message[\"entities\"][\"auto\"]:\n",
    "            locations = [loc[0] for loc in message[\"entities\"][\"auto\"][\"LOC\"]]\n",
    "            location_set.update(locations)\n",
    "        \n",
    "print(\"Unique People: \", len(people_set))\n",
    "print(\"Unique Organizations: \", len(org_set))\n",
    "print(\"Unique Locations: \", len(location_set))"
   ]
  },
  {
   "cell_type": "markdown",
   "metadata": {},
   "source": [
    "# Topic Modeling"
   ]
  },
  {
   "cell_type": "markdown",
   "metadata": {},
   "source": []
  },
  {
   "cell_type": "markdown",
   "metadata": {},
   "source": [
    "# Torch Dataset"
   ]
  },
  {
   "cell_type": "code",
   "execution_count": 6,
   "metadata": {},
   "outputs": [],
   "source": [
    "from datasets import load_from_disk\n",
    "\n",
    "dataset = load_from_disk(\"../offline_finetuning/datasets/pytorch/enron\")"
   ]
  },
  {
   "cell_type": "code",
   "execution_count": 8,
   "metadata": {},
   "outputs": [
    {
     "name": "stdout",
     "output_type": "stream",
     "text": [
      "subject: EOL and Clickpaper Approvals for 10-31-01\n",
      "sentiment: neutral\n",
      "->\n",
      "body: Please see attached.\n",
      "\n",
      " << File: EOL <DATE>.xls >> \n",
      "Regards,\n",
      "\n",
      "Wendi Lebrocq\n",
      "3-3835\n",
      "subject: funds flow\n",
      "sentiment: neutral\n",
      "->\n",
      "body: Sorry <PER>, I can't come up with the reason behind the July change of $11 \n",
      "million in \"Other, Net\". Carolyn who completes the schedules had surgery \n",
      "yesterday so will be out until Sept. 11. I can't find the source of the \n",
      "amount that is hardcoded in the spreadsheet - she must have combined \n",
      "something. One thought was TOLI, but it was flat in July. I have two other \n",
      "people who might be able to help me on vacation this week as well. \n",
      "\n",
      ">>> Geaccone, <PER> <DATE> 04:24PM >>> \n",
      "There was a big change in the Funds Flow number you submitted for the 3Q in \n",
      "August from the 3Q you submitted last month. Can you tell me what the change \n",
      "is due to? \n",
      "\n",
      "Thanks \n",
      "\n",
      "<PER>\n",
      "subject: External E-Mail Sites\n",
      "sentiment: neutral\n",
      "->\n",
      "body: Everyone,\n",
      "\n",
      "In an effort to protect our computing systems from viruses and other potential threats, we have disabled the ability to get to external e-mail sites (<ORG>, Yahoo, Hotmail, etc.) while you are using an <ORG> computer connected to our network.  \n",
      "\n",
      "If you are using a particular external e-mail site for valid business reasons and this action we have taken has impacted your business, you can contact your Resolution Center for assistance.  Each case will be analyzed for validity and exceptions granted based on business related needs.\n",
      "\n",
      "Thank you for your understanding that protecting our revenue generating systems is our highest priority.\n",
      "\n",
      "<ORG> Global Technology\n",
      "subject: ERCOT Bills\n",
      "sentiment: neutral\n",
      "->\n",
      "body: Boys,\n",
      "\n",
      "Can I get a copy of an ERCOT bill that has come through.  If one has come through for an EES account, that would be great. If it is some other account, that will be fine.  If there are disclosure issues, just black out the name of the counterparty on the bill if that is possible.  I need to start looking at this stuff to see if we are pricing stuff right down here.  Thanks.\n",
      "\n",
      "-<PER>\n",
      "subject: EWS Q3 2001 experience ENRON Report\n",
      "sentiment: neutral\n",
      "->\n",
      "body: Attached is a summary report of the <ORG> tactical (revenue driven) and strategic (educational) visits to <ORG> supported by experience <ORG> in third quarter 2001.\n",
      "\n",
      "At experience <ORG>, our goal is to support the <ORG> deal development teams by creating powerful <ORG> experiences that result in greater favorability and familiarity of <ORG> while differentiating us from the competition.\n",
      "\n",
      "Our role is to:\n",
      "Reduce time and labor costs associated with planning and execution of customer visits\n",
      "Coordinate BU subject matter experts (SME's) to tell the <ORG> story, i.e. EOL, trading, etc.\n",
      "Customize agendas aligned with <ORG> and customer objectives\n",
      "Shorten sales cycles \n",
      "\n",
      "We are here to support your team in reaching your goals.  Please call with questions or changes.\n",
      "\n",
      " \n",
      "\n",
      "\n",
      "\n",
      "Carrie Rob?rt\n",
      "Manager, <ORG> Corporate Marketing\n",
      "1400 Smith St. \n",
      "EB 4703B\n",
      "Houston, TX 77002\n",
      "<PHONE> Office\n",
      "<PHONE> Fax\n",
      "<PHONE> Cell\n",
      "<EMAIL>\n",
      "subject: Start Date: 10/11/01; HourAhead hour: 9; <CODESITE>\n",
      "sentiment: neutral\n",
      "->\n",
      "body: Start Date: <DATE>; HourAhead hour: 9;  No ancillary schedules awarded.  No variances detected. \n",
      "\n",
      "    LOG MESSAGES:\n",
      "\n",
      "PARSING FILE -->> O:\\Portland\\WestDesk\\California Scheduling\\ISO Final Schedules\\2001101109.txt\n",
      "\n",
      "Error retrieving HourAhead price data - process continuing...\n",
      "subject: terminated financial CPs still in NG-PRice\n",
      "sentiment: neutral\n",
      "->\n",
      "body: Attached is a file with the CP's that are terminated per <PER>'s list and had been sent to IT to move to the bankruptcy book.  There are six CP's on this list.  I will send the legal names to Cecilia to get these moved today(with 7,000 lines, I am afraid it would take at least a day for risk to move manually).  We will then recheck the book tonight.  As you will see on the summary page, the total value of these deals is $(61.6M).  If there are any questions, please let me know, I will bring hard copies to the 11a.m. meeting.  Thanks.\n",
      "PL\n",
      "subject: Final Name Change Report - December 2001\n",
      "urls: True\n",
      "sentiment: neutral\n",
      "->\n",
      "body: Please click on the link below, then FETCH to view the final name change report for 2001.  The addition to the report since <DATE> is on the Summary page.   For details, see the bottom tab \"Dec 2001\".\n",
      "\n",
      "<<URL>\n",
      "\n",
      "There are no shortname changes scheduled for Friday, December 28.\n",
      "\n",
      "Records will be inactivated on Wednesday, January 2.\n",
      "\n",
      "Please call me with any questions or concerns.  Have a happy and safe New Year!\n",
      "\n",
      "<PER>\n",
      "<ORG>\n",
      "Global Data Management\n",
      "<PHONE>\n",
      "subject: Greetings from PetroStrategies\n",
      "urls: True\n",
      "sentiment: neutral\n",
      "->\n",
      "body: PetroStrategies, Inc.\n",
      "\n",
      "Consulting, Research and Training\n",
      "\n",
      "Dear Mr. Skilling,\n",
      "\n",
      "I want to introduce myself to new friends and reintroduce myself to old\n",
      "friends.  I am writing to tell you about my new adventures since I left the\n",
      "Maguire Energy Institute in January.  I haven't had time to write or do many\n",
      "other things as illustrated by the following list of activities:\n",
      "\n",
      "* Developed a web page for my business (<URL>\n",
      "* Gave presentations at meetings in Dallas, Fort Worth and Houston.\n",
      "* Conducted three training classes for international oil companies held in\n",
      "Orlando, Florida and Mumbai, India.\n",
      "* Prepared a series of oil and gas industry training courses ranging from\n",
      "one to five days.\n",
      "* Taken two classes on web-based authoring and taught two statistics classes\n",
      "at SMU\n",
      "\n",
      "I hope that explains why I haven't been in contact with you before now.\n",
      "\n",
      "Please take a minute to visit the web page.  I believe that you will find it\n",
      "to be a very useful addition to your Internet list of favorites.   If you do\n",
      "find it helpful, please pass the URL to your friends and colleagues.\n",
      "\n",
      "Allen Mesch\n",
      "\n",
      "\n",
      "We all get a lot of unwanted e-mail, so if you want me to remove your name\n",
      "from my list simply reply to this e-mail with the word CANCEL.\n",
      "subject: Version Mapping for January 2001 and May 2001 Settlement Adjustments\n",
      "attachments: True\n",
      "sentiment: neutral\n",
      "->\n",
      "body: Market Participants:\n",
      "\n",
      "Attached below are the version mapping for January 2001 and May 2001.\n",
      "\n",
      "All advisory statements for January 2001 have posted to each customer's\n",
      "secure web site with the exception of <DATE>.  This file will be\n",
      "posted today, and I will notify you with another announcement when this\n",
      "occurs.\n",
      "\n",
      "<ATTACHMENT>(See attached\n",
      "file: May_2001_SA1_ Version_Mapping.xls)\n",
      " <ATTACHMENT> \n",
      " <ATTACHMENT>\n"
     ]
    }
   ],
   "source": [
    "#print random sample of entities\n",
    "import random\n",
    "for i in range(10):\n",
    "    print(random.choice(dataset[\"text\"]))"
   ]
  }
 ],
 "metadata": {
  "kernelspec": {
   "display_name": ".venv",
   "language": "python",
   "name": "python3"
  },
  "language_info": {
   "codemirror_mode": {
    "name": "ipython",
    "version": 3
   },
   "file_extension": ".py",
   "mimetype": "text/x-python",
   "name": "python",
   "nbconvert_exporter": "python",
   "pygments_lexer": "ipython3",
   "version": "3.10.6"
  }
 },
 "nbformat": 4,
 "nbformat_minor": 2
}
